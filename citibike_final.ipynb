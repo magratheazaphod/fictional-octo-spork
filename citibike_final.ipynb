{
 "cells": [
  {
   "cell_type": "code",
   "execution_count": 13,
   "metadata": {
    "collapsed": true
   },
   "outputs": [],
   "source": [
    "#use Pandas to import data\n",
    "import pandas as pd\n",
    "import zipfile\n",
    "import requests\n",
    "import io\n",
    "import numpy as np\n",
    "from datetime import datetime"
   ]
  },
  {
   "cell_type": "code",
   "execution_count": 14,
   "metadata": {
    "collapsed": true
   },
   "outputs": [],
   "source": [
    "## information on filename\n",
    "citidir = \"https://s3.amazonaws.com/tripdata/\"\n",
    "citi_extension = \"-citibike-tripdata\"\n",
    "year = 2015\n",
    "months = ['01','02','03','04','05','06','07','08','09','10','11','12']"
   ]
  },
  {
   "cell_type": "code",
   "execution_count": 15,
   "metadata": {
    "collapsed": false
   },
   "outputs": [
    {
     "name": "stdout",
     "output_type": "stream",
     "text": [
      "https://s3.amazonaws.com/tripdata/201501-citibike-tripdata.zip\n",
      "https://s3.amazonaws.com/tripdata/201502-citibike-tripdata.zip\n",
      "https://s3.amazonaws.com/tripdata/201503-citibike-tripdata.zip\n",
      "https://s3.amazonaws.com/tripdata/201504-citibike-tripdata.zip\n",
      "https://s3.amazonaws.com/tripdata/201505-citibike-tripdata.zip\n",
      "https://s3.amazonaws.com/tripdata/201506-citibike-tripdata.zip\n",
      "https://s3.amazonaws.com/tripdata/201507-citibike-tripdata.zip\n",
      "https://s3.amazonaws.com/tripdata/201508-citibike-tripdata.zip\n",
      "https://s3.amazonaws.com/tripdata/201509-citibike-tripdata.zip\n",
      "https://s3.amazonaws.com/tripdata/201510-citibike-tripdata.zip\n",
      "https://s3.amazonaws.com/tripdata/201511-citibike-tripdata.zip\n",
      "https://s3.amazonaws.com/tripdata/201512-citibike-tripdata.zip\n"
     ]
    }
   ],
   "source": [
    "## store all data first in dictionary format using months as keys\n",
    "d = {}\n",
    "\n",
    "## download monthly data from the web for each month\n",
    "for mth in months:\n",
    "    #create filenames for given month\n",
    "    filename = str(year) + mth + citi_extension\n",
    "    citibike_zip_filename = citidir + filename + \".zip\"\n",
    "    citibike_csv_filename = filename + \".csv\"\n",
    "    print(citibike_zip_filename)\n",
    "    \n",
    "    #find file and use read_csv to save in dictionary of dataframes\n",
    "    requested_file = requests.get(citibike_zip_filename)\n",
    "    z = zipfile.ZipFile(io.BytesIO(requested_file.content))\n",
    "    d[mth] = pd.read_csv(z.open(citibike_csv_filename), header=0, sep=',', quotechar='\"')"
   ]
  },
  {
   "cell_type": "code",
   "execution_count": 16,
   "metadata": {
    "collapsed": true
   },
   "outputs": [],
   "source": [
    "## Concatenate into single yearly dataframe\n",
    "df = pd.DataFrame()\n",
    "\n",
    "## append results of each month\n",
    "for mth in months:\n",
    "    df = df.append(d[mth], ignore_index=True)"
   ]
  },
  {
   "cell_type": "code",
   "execution_count": 17,
   "metadata": {
    "collapsed": false
   },
   "outputs": [
    {
     "name": "stdout",
     "output_type": "stream",
     "text": [
      "   tripduration      starttime       stoptime  start station id  \\\n",
      "0          1346  1/1/2015 0:01  1/1/2015 0:24               455   \n",
      "1           363  1/1/2015 0:02  1/1/2015 0:08               434   \n",
      "2           346  1/1/2015 0:04  1/1/2015 0:10               491   \n",
      "3           182  1/1/2015 0:04  1/1/2015 0:07               384   \n",
      "4           969  1/1/2015 0:05  1/1/2015 0:21               474   \n",
      "\n",
      "        start station name  start station latitude  start station longitude  \\\n",
      "0          1 Ave & E 44 St               40.750020               -73.969053   \n",
      "1          9 Ave & W 18 St               40.743174               -74.003664   \n",
      "2     E 24 St & Park Ave S               40.740964               -73.986022   \n",
      "3  Fulton St & Waverly Ave               40.683178               -73.965964   \n",
      "4          5 Ave & E 29 St               40.745168               -73.986831   \n",
      "\n",
      "   end station id             end station name  end station latitude  \\\n",
      "0             265     Stanton St & Chrystie St             40.722293   \n",
      "1             482              W 15 St & 7 Ave             40.739355   \n",
      "2             505              6 Ave & W 33 St             40.749013   \n",
      "3             399  Lafayette Ave & St James Pl             40.688515   \n",
      "4             432            E 7 St & Avenue A             40.726218   \n",
      "\n",
      "   end station longitude  bikeid    usertype  birth year  gender  \n",
      "0             -73.991475   18660  Subscriber      1960.0       2  \n",
      "1             -73.999318   16085  Subscriber      1963.0       1  \n",
      "2             -73.988484   20845  Subscriber      1974.0       1  \n",
      "3             -73.964763   19610  Subscriber      1969.0       1  \n",
      "4             -73.983799   20197  Subscriber      1977.0       1  \n"
     ]
    }
   ],
   "source": [
    "#check out headers\n",
    "print(df.head())"
   ]
  },
  {
   "cell_type": "code",
   "execution_count": 18,
   "metadata": {
    "collapsed": false
   },
   "outputs": [
    {
     "name": "stdout",
     "output_type": "stream",
     "text": [
      "Median trip duration: 629.0\n"
     ]
    }
   ],
   "source": [
    "print(\"Median trip duration:\", df[\"tripduration\"].median())"
   ]
  },
  {
   "cell_type": "code",
   "execution_count": 19,
   "metadata": {
    "collapsed": false
   },
   "outputs": [
    {
     "name": "stdout",
     "output_type": "stream",
     "text": [
      "Fraction of rides that start and end at same station: 0.0223583913373\n"
     ]
    }
   ],
   "source": [
    "#add new column to dataframe indicating whether start and end station IDs are the same or not\n",
    "df['same_start_end'] = pd.Series(df[\"start station id\"] == df[\"end station id\"], index=df.index)\n",
    "same_frac = df['same_start_end'].value_counts(normalize = True)\n",
    "print(\"Fraction of rides that start and end at same station:\", same_frac[True])"
   ]
  },
  {
   "cell_type": "code",
   "execution_count": 20,
   "metadata": {
    "collapsed": false
   },
   "outputs": [],
   "source": [
    "## Use groupby to figure out how many unique stations each bike has visited\n",
    "bikes = df.groupby('bikeid')\n",
    "\n",
    "#store the number of visited stations in dictionary format, using each bikeid as key\n",
    "visited_stations = {}\n",
    "\n",
    "for k,v in bikes:\n",
    "    #following gets list of start and end stations visited by each bike\n",
    "    start_stations = bikes.get_group(k)['start station id']\n",
    "    end_stations = bikes.get_group(k)['end station id']\n",
    "    \n",
    "    #merge into single list, use .unique() to weed out duplicates\n",
    "    stations = pd.concat([start_stations, end_stations], axis=0, ignore_index = True)\n",
    "    unique_stations = stations.unique()\n",
    "    visited_stations[k] = len(unique_stations)"
   ]
  },
  {
   "cell_type": "code",
   "execution_count": 21,
   "metadata": {
    "collapsed": false
   },
   "outputs": [
    {
     "name": "stdout",
     "output_type": "stream",
     "text": [
      "Standard deviation of unique stations visited by each bike: 54.5418965359\n"
     ]
    }
   ],
   "source": [
    "visited_stations_std = np.std(list(visited_stations.values())) #standard deviation of every bike's visited station #\n",
    "print(\"Standard deviation of unique stations visited by each bike:\", visited_stations_std)"
   ]
  },
  {
   "cell_type": "code",
   "execution_count": 22,
   "metadata": {
    "collapsed": false
   },
   "outputs": [],
   "source": [
    "## Next question: figure out how average trip duration varies by month\n",
    "#strategy: convert everything first to datetime\n",
    "date_format_noseconds = '%m/%d/%Y %H:%M'\n",
    "date_format_seconds = '%m/%d/%Y %H:%M:%S'\n",
    "switch_indices = [824308, 2438684, 3379903]\n",
    "\n",
    "#January-March and Jun don't include seconds on starttime - rely on switch_indices to change import formats\n",
    "#figured out the index ranges by parsing through data\n",
    "dates_1 = df['starttime'][:switch_indices[0]].apply(lambda x: datetime.strptime(x, date_format_noseconds))\n",
    "dates_2 = df['starttime'][switch_indices[0]:switch_indices[1]].apply(lambda x: datetime.strptime(x, date_format_seconds))\n",
    "dates_3 = df['starttime'][switch_indices[1]:switch_indices[2]].apply(lambda x: datetime.strptime(x, date_format_noseconds))\n",
    "dates_4 = df['starttime'][switch_indices[2]:].apply(lambda x: datetime.strptime(x, date_format_seconds))\n",
    "\n",
    "datetime = pd.concat([dates_1,dates_2,dates_3,dates_4], axis=0)\n",
    "df['startmonth'] = datetime.apply(lambda x: x.month) #add new column startmonth using lambda function on datetime"
   ]
  },
  {
   "cell_type": "code",
   "execution_count": 24,
   "metadata": {
    "collapsed": false
   },
   "outputs": [
    {
     "name": "stdout",
     "output_type": "stream",
     "text": [
      "startmonth\n",
      "1      654.325583\n",
      "2      649.383207\n",
      "3      734.316673\n",
      "4      929.884482\n",
      "5     1000.233767\n",
      "6      904.602783\n",
      "7      967.670092\n",
      "8     1017.478667\n",
      "9     1050.849829\n",
      "10    1079.953503\n",
      "11     972.018670\n",
      "12     945.711619\n",
      "Name: tripduration, dtype: float64\n",
      "Difference in seconds between max and min monthly mean duration: 430.57029597\n"
     ]
    }
   ],
   "source": [
    "##group by month:\n",
    "df_by_month = df.groupby('startmonth')\n",
    "mean_duration_by_month = df_by_month['tripduration'].mean()\n",
    "print(mean_duration_by_month)\n",
    "maxdiff = np.max(mean_duration_by_month)-np.min(mean_duration_by_month)\n",
    "print('Difference in seconds between max and min monthly mean duration:',maxdiff)"
   ]
  },
  {
   "cell_type": "code",
   "execution_count": 25,
   "metadata": {
    "collapsed": false
   },
   "outputs": [
    {
     "name": "stdout",
     "output_type": "stream",
     "text": [
      "Fraction of all rides that go overtime: 0.0381067801681\n"
     ]
    }
   ],
   "source": [
    "## What percentage of riders go overtime (different limit for customer and subscriber)?\n",
    "users = df.groupby('usertype')\n",
    "\n",
    "max_ride_time = {'Customer': 1800, 'Subscriber': 2700}\n",
    "ride_number = {}\n",
    "rides_overtime = {}\n",
    "\n",
    "for k,v in users:\n",
    "\n",
    "    ride_times = users.get_group(k)['tripduration']\n",
    "    ride_number[k] = len(ride_times)\n",
    "    rides_overtime[k] = np.sum(ride_times > max_ride_time[k])\n",
    "    \n",
    "overtime_frac = np.sum(list(rides_overtime.values()))/np.sum(list(ride_number.values()))\n",
    "print('Fraction of all rides that go overtime:',overtime_frac)"
   ]
  },
  {
   "cell_type": "code",
   "execution_count": null,
   "metadata": {
    "collapsed": true
   },
   "outputs": [],
   "source": [
    "### REMAINING QUESTIONS\n",
    "### What is the average length, in kilometers, of a trip? \n",
    "#Assume trips follow great circle arcs from the start station to the end station. \n",
    "#Ignore trips that start and end at the same station, as well as those with obviously wrong data.\n",
    "\n",
    "### Let us define the hourly usage fraction of a station to be the fraction of all rides \n",
    "#starting at that station that leave during a specific hour. \n",
    "#A station has surprising usage patterns if it has an hourly usage fraction for an hour \n",
    "#significantly different from the corresponding hourly usage fraction of the system as a whole. \n",
    "#What is the largest ratio of station hourly usage fraction to system hourly usage fraction \n",
    "#(hence corresponding to the most \"surprising\" station-hour pair)?\n",
    "\n",
    "### Most of the time, a bike will begin a trip at the same station where its previous trip ended. \n",
    "#Sometimes a bike will be moved by the program, either for maintenance or to rebalance the distribution of bikes. \n",
    "#What is the average number of times a bike is moved during this period, as detected by seeing \n",
    "#if it starts at a different station than where the previous ride ended?"
   ]
  }
 ],
 "metadata": {
  "kernelspec": {
   "display_name": "Python 3",
   "language": "python",
   "name": "python3"
  },
  "language_info": {
   "codemirror_mode": {
    "name": "ipython",
    "version": 3
   },
   "file_extension": ".py",
   "mimetype": "text/x-python",
   "name": "python",
   "nbconvert_exporter": "python",
   "pygments_lexer": "ipython3",
   "version": "3.5.2"
  }
 },
 "nbformat": 4,
 "nbformat_minor": 0
}
