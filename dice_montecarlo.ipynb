{
 "cells": [
  {
   "cell_type": "code",
   "execution_count": 1,
   "metadata": {
    "collapsed": true
   },
   "outputs": [],
   "source": [
    "## trying out a montecarlo method for figuring out mean and std. dev. of dice products given N dice that add up to M"
   ]
  },
  {
   "cell_type": "code",
   "execution_count": 1,
   "metadata": {
    "collapsed": false
   },
   "outputs": [
    {
     "name": "stderr",
     "output_type": "stream",
     "text": [
      "//anaconda/lib/python3.5/site-packages/IPython/core/magics/extension.py:47: UserWarning: %install_ext` is deprecated, please distribute your extension as a python package.\n",
      "  \"as a python package.\", UserWarning)\n"
     ]
    },
    {
     "name": "stdout",
     "output_type": "stream",
     "text": [
      "Installed autotime.py. To use it, type:\n",
      "  %load_ext autotime\n"
     ]
    }
   ],
   "source": [
    "import numpy as np\n",
    "import numpy.random as rnd\n",
    "%install_ext https://raw.github.com/cpcloud/ipython-autotime/master/autotime.py\n",
    "%load_ext autotime\n",
    "from timeit import Timer"
   ]
  },
  {
   "cell_type": "code",
   "execution_count": 2,
   "metadata": {
    "collapsed": false
   },
   "outputs": [
    {
     "name": "stdout",
     "output_type": "stream",
     "text": [
      "time: 798 ms\n"
     ]
    }
   ],
   "source": [
    "random_rolls = rnd.randint(1,7,[1000000,50])"
   ]
  },
  {
   "cell_type": "code",
   "execution_count": 3,
   "metadata": {
    "collapsed": false
   },
   "outputs": [
    {
     "name": "stdout",
     "output_type": "stream",
     "text": [
      "[165 179 175 ..., 155 180 184]\n",
      "1000000\n",
      "time: 59.7 ms\n"
     ]
    }
   ],
   "source": [
    "sum_rolls = np.sum(random_rolls,1)\n",
    "print(sum_rolls)\n",
    "print(len(sum_rolls))"
   ]
  },
  {
   "cell_type": "code",
   "execution_count": 4,
   "metadata": {
    "collapsed": false
   },
   "outputs": [
    {
     "name": "stdout",
     "output_type": "stream",
     "text": [
      "[[6 4 4 ..., 3 3 2]\n",
      " [4 2 4 ..., 3 2 1]\n",
      " [1 5 3 ..., 6 1 1]\n",
      " ..., \n",
      " [6 6 4 ..., 1 3 1]\n",
      " [2 5 2 ..., 1 4 2]\n",
      " [6 6 2 ..., 2 2 1]]\n",
      "(3883, 50)\n",
      "time: 7.24 ms\n"
     ]
    }
   ],
   "source": [
    "suitable_rolls = random_rolls[sum_rolls == 150]\n",
    "print(suitable_rolls)\n",
    "print(suitable_rolls.shape)"
   ]
  },
  {
   "cell_type": "code",
   "execution_count": 5,
   "metadata": {
    "collapsed": false
   },
   "outputs": [
    {
     "name": "stdout",
     "output_type": "stream",
     "text": [
      "150\n",
      "time: 977 µs\n"
     ]
    }
   ],
   "source": [
    "print(np.sum(suitable_rolls[3000,:]))"
   ]
  },
  {
   "cell_type": "code",
   "execution_count": 6,
   "metadata": {
    "collapsed": false
   },
   "outputs": [
    {
     "name": "stdout",
     "output_type": "stream",
     "text": [
      "[ 3248131578093633536  9211689176053841920 15045919506432000000 ...,\n",
      " 12366405557815345152  1148540431806496768    10448757783003136]\n",
      "time: 2.01 ms\n"
     ]
    }
   ],
   "source": [
    "roll_products = np.prod(suitable_rolls, axis = 1, dtype=np.uint64)\n",
    "print(roll_products)"
   ]
  },
  {
   "cell_type": "code",
   "execution_count": 7,
   "metadata": {
    "collapsed": false
   },
   "outputs": [
    {
     "name": "stdout",
     "output_type": "stream",
     "text": [
      "9.11218571113e+18\n",
      "5.22906711838e+18\n",
      "time: 1.52 ms\n"
     ]
    }
   ],
   "source": [
    "products_mean = np.mean(roll_products)\n",
    "print(products_mean)\n",
    "products_std = np.std(roll_products)\n",
    "print(products_std)"
   ]
  },
  {
   "cell_type": "code",
   "execution_count": 14,
   "metadata": {
    "collapsed": false
   },
   "outputs": [
    {
     "name": "stdout",
     "output_type": "stream",
     "text": [
      "[[ 0.  0.  0.  0.  0.  0.  0.  0.  0.  0.  0.  0.  0.  0.  0.  0.  0.  0.\n",
      "   0.  0.  0.  0.  0.  0.  0.  0.  0.  0.  0.  0.  0.  0.  0.  0.  0.  0.\n",
      "   0.  0.  0.  0.  0.  0.  0.  0.  0.  0.  0.  0.  0.  0.]]\n",
      "[[ 0.  0.  0.  0.  0.  0.  0.  0.  0.  0.  0.  0.  0.  0.  0.  0.  0.  0.\n",
      "   0.  0.  0.  0.  0.  0.  0.  0.  0.  0.  0.  0.  0.  0.  0.  0.  0.  0.\n",
      "   0.  0.  0.  0.  0.  0.  0.  0.  0.  0.  0.  0.  0.  0.]]\n",
      "time: 3.54 ms\n"
     ]
    }
   ],
   "source": [
    "qq = np.empty([1,50])\n",
    "print(qq)\n",
    "np.append(qq,np.zeros([1,50]))\n",
    "print(qq)"
   ]
  },
  {
   "cell_type": "code",
   "execution_count": 39,
   "metadata": {
    "collapsed": false
   },
   "outputs": [
    {
     "name": "stdout",
     "output_type": "stream",
     "text": [
      "(2, 50)\n",
      "[17779010971398832128  3468560224242106368]\n",
      "[  1.77790110e+19   3.46856022e+18]\n",
      "(4, 50)\n",
      "[ 6834062389852241920 12084114412580896768  5626727136581648384\n",
      " 9416069827090448384]\n",
      "[  1.77790110e+19   3.46856022e+18   6.83406239e+18   1.20841144e+19\n",
      "   5.62672714e+18   9.41606983e+18]\n",
      "(6, 50)\n",
      "[ 6834062389852241920  6496263156187267072 15459610352605462528\n",
      "  3245897783974035456 16240657890468167680 9786076550074990592]\n",
      "[  1.77790110e+19   3.46856022e+18   6.83406239e+18   1.20841144e+19\n",
      "   5.62672714e+18   9.41606983e+18   6.83406239e+18   6.49626316e+18\n",
      "   1.54596104e+19   3.24589778e+18   1.62406579e+19   9.78607655e+18]\n",
      "(3, 50)\n",
      "[13651217540012048384 10819659279913451520 12230590464000000000]\n",
      "[  1.77790110e+19   3.46856022e+18   6.83406239e+18   1.20841144e+19\n",
      "   5.62672714e+18   9.41606983e+18   6.83406239e+18   6.49626316e+18\n",
      "   1.54596104e+19   3.24589778e+18   1.62406579e+19   9.78607655e+18\n",
      "   1.36512175e+19   1.08196593e+19   1.22305905e+19]\n",
      "(5, 50)\n",
      "[12992526312374534144  3445621295419490304  1803276546652241920\n",
      " 16976019951548628992 15045919506432000000]\n",
      "[  1.77790110e+19   3.46856022e+18   6.83406239e+18   1.20841144e+19\n",
      "   5.62672714e+18   9.41606983e+18   6.83406239e+18   6.49626316e+18\n",
      "   1.54596104e+19   3.24589778e+18   1.62406579e+19   9.78607655e+18\n",
      "   1.36512175e+19   1.08196593e+19   1.22305905e+19   1.29925263e+19\n",
      "   3.44562130e+18   1.80327655e+18   1.69760200e+19   1.50459195e+19]\n",
      "(4, 50)\n",
      "[11397212085868822528 10441421378639888384 10659047576612896768\n",
      "  6438760031105056768]\n",
      "[  1.77790110e+19   3.46856022e+18   6.83406239e+18   1.20841144e+19\n",
      "   5.62672714e+18   9.41606983e+18   6.83406239e+18   6.49626316e+18\n",
      "   1.54596104e+19   3.24589778e+18   1.62406579e+19   9.78607655e+18\n",
      "   1.36512175e+19   1.08196593e+19   1.22305905e+19   1.29925263e+19\n",
      "   3.44562130e+18   1.80327655e+18   1.69760200e+19   1.50459195e+19\n",
      "   1.13972121e+19   1.04414214e+19   1.06590476e+19   6.43876003e+18]\n",
      "(4, 50)\n",
      "[  812032894523408384 12922701146937622528  5455742788257710080\n",
      " 10527676066263203840]\n",
      "[  1.77790110e+19   3.46856022e+18   6.83406239e+18   1.20841144e+19\n",
      "   5.62672714e+18   9.41606983e+18   6.83406239e+18   6.49626316e+18\n",
      "   1.54596104e+19   3.24589778e+18   1.62406579e+19   9.78607655e+18\n",
      "   1.36512175e+19   1.08196593e+19   1.22305905e+19   1.29925263e+19\n",
      "   3.44562130e+18   1.80327655e+18   1.69760200e+19   1.50459195e+19\n",
      "   1.13972121e+19   1.04414214e+19   1.06590476e+19   6.43876003e+18\n",
      "   8.12032895e+17   1.29227011e+19   5.45574279e+18   1.05276761e+19]\n",
      "(3, 50)\n",
      "[17414258688000000000  5903794004209696768  2778369926180896768]\n",
      "[  1.77790110e+19   3.46856022e+18   6.83406239e+18   1.20841144e+19\n",
      "   5.62672714e+18   9.41606983e+18   6.83406239e+18   6.49626316e+18\n",
      "   1.54596104e+19   3.24589778e+18   1.62406579e+19   9.78607655e+18\n",
      "   1.36512175e+19   1.08196593e+19   1.22305905e+19   1.29925263e+19\n",
      "   3.44562130e+18   1.80327655e+18   1.69760200e+19   1.50459195e+19\n",
      "   1.13972121e+19   1.04414214e+19   1.06590476e+19   6.43876003e+18\n",
      "   8.12032895e+17   1.29227011e+19   5.45574279e+18   1.05276761e+19\n",
      "   1.74142587e+19   5.90379400e+18   2.77836993e+18]\n",
      "(4, 50)\n",
      "[  256930386980896768 11609505792000000000 11769193629313138688\n",
      " 10479756795361361920]\n",
      "[  1.77790110e+19   3.46856022e+18   6.83406239e+18   1.20841144e+19\n",
      "   5.62672714e+18   9.41606983e+18   6.83406239e+18   6.49626316e+18\n",
      "   1.54596104e+19   3.24589778e+18   1.62406579e+19   9.78607655e+18\n",
      "   1.36512175e+19   1.08196593e+19   1.22305905e+19   1.29925263e+19\n",
      "   3.44562130e+18   1.80327655e+18   1.69760200e+19   1.50459195e+19\n",
      "   1.13972121e+19   1.04414214e+19   1.06590476e+19   6.43876003e+18\n",
      "   8.12032895e+17   1.29227011e+19   5.45574279e+18   1.05276761e+19\n",
      "   1.74142587e+19   5.90379400e+18   2.77836993e+18   2.56930387e+17\n",
      "   1.16095058e+19   1.17691936e+19   1.04797568e+19]\n",
      "(4, 50)\n",
      "[16149503973085151232 13782485181677961216  1333818105410879488\n",
      " 11730211269184061440]\n",
      "[  1.77790110e+19   3.46856022e+18   6.83406239e+18   1.20841144e+19\n",
      "   5.62672714e+18   9.41606983e+18   6.83406239e+18   6.49626316e+18\n",
      "   1.54596104e+19   3.24589778e+18   1.62406579e+19   9.78607655e+18\n",
      "   1.36512175e+19   1.08196593e+19   1.22305905e+19   1.29925263e+19\n",
      "   3.44562130e+18   1.80327655e+18   1.69760200e+19   1.50459195e+19\n",
      "   1.13972121e+19   1.04414214e+19   1.06590476e+19   6.43876003e+18\n",
      "   8.12032895e+17   1.29227011e+19   5.45574279e+18   1.05276761e+19\n",
      "   1.74142587e+19   5.90379400e+18   2.77836993e+18   2.56930387e+17\n",
      "   1.16095058e+19   1.17691936e+19   1.04797568e+19   1.61495040e+19\n",
      "   1.37824852e+19   1.33381811e+18   1.17302113e+19]\n",
      "time: 19.1 ms\n"
     ]
    }
   ],
   "source": [
    "products = np.array([])\n",
    "\n",
    "for i in range(100):\n",
    "    random_rolls = rnd.randint(1,7,[1000000,50])\n",
    "    sum_rolls = np.sum(random_rolls,1)\n",
    "    successful_rolls = random_rolls[sum_rolls == 150]\n",
    "    new_products = np.prod(successful_rolls, axis = 1, dtype=np.uint64)\n",
    "    print(new_products.shape)\n",
    "    products = np.append(products, new_products, axis = 0)\n",
    "    print(products.shape)\n"
   ]
  },
  {
   "cell_type": "code",
   "execution_count": 35,
   "metadata": {
    "collapsed": false
   },
   "outputs": [
    {
     "name": "stdout",
     "output_type": "stream",
     "text": [
      "time: 773 µs\n"
     ]
    }
   ],
   "source": [
    "successful_rolls = successful_rolls[1:,:]"
   ]
  },
  {
   "cell_type": "code",
   "execution_count": 36,
   "metadata": {
    "collapsed": false
   },
   "outputs": [
    {
     "data": {
      "text/plain": [
       "(389272, 50)"
      ]
     },
     "execution_count": 36,
     "metadata": {},
     "output_type": "execute_result"
    },
    {
     "name": "stdout",
     "output_type": "stream",
     "text": [
      "time: 2.09 ms\n"
     ]
    }
   ],
   "source": [
    "successful_rolls.shape"
   ]
  },
  {
   "cell_type": "code",
   "execution_count": 37,
   "metadata": {
    "collapsed": false
   },
   "outputs": [
    {
     "name": "stdout",
     "output_type": "stream",
     "text": [
      "9.01943743904e+18\n",
      "5.2550655274e+18\n",
      "time: 76.8 ms\n"
     ]
    }
   ],
   "source": [
    "roll_products = np.prod(successful_rolls, axis = 1, dtype=np.uint64)\n",
    "products_mean = np.mean(roll_products)\n",
    "print(products_mean)\n",
    "products_std = np.std(roll_products)\n",
    "print(products_std)"
   ]
  },
  {
   "cell_type": "code",
   "execution_count": null,
   "metadata": {
    "collapsed": true
   },
   "outputs": [],
   "source": []
  }
 ],
 "metadata": {
  "kernelspec": {
   "display_name": "Python 3",
   "language": "python",
   "name": "python3"
  },
  "language_info": {
   "codemirror_mode": {
    "name": "ipython",
    "version": 3
   },
   "file_extension": ".py",
   "mimetype": "text/x-python",
   "name": "python",
   "nbconvert_exporter": "python",
   "pygments_lexer": "ipython3",
   "version": "3.5.2"
  }
 },
 "nbformat": 4,
 "nbformat_minor": 0
}
