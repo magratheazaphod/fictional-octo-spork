{
 "cells": [
  {
   "cell_type": "code",
   "execution_count": 1,
   "metadata": {
    "collapsed": true
   },
   "outputs": [],
   "source": [
    "## Approach for 8 dice: Recursive method enumerate_rolls\n",
    "## Tested out memoizing, but the check_possible function is already fast"
   ]
  },
  {
   "cell_type": "code",
   "execution_count": 1,
   "metadata": {
    "collapsed": true
   },
   "outputs": [],
   "source": [
    "import numpy as np\n",
    "import numpy.random as rnd"
   ]
  },
  {
   "cell_type": "code",
   "execution_count": 2,
   "metadata": {
    "collapsed": true
   },
   "outputs": [],
   "source": [
    "#check_possible gets called over and over again with same N and M, therefore we use memoize class to speed up\n",
    "def check_possible(N,M):\n",
    "    #fail condition if sum of dice less than actual number of dice - also works when total hits 0 and total negative\n",
    "    if M<N: \n",
    "        return False\n",
    "    \n",
    "    #even if we roll all sixes, can't reach sum - also works when total hits 0 and remaining sum too big\n",
    "    if M>6*N: \n",
    "        return False\n",
    "    \n",
    "    return True"
   ]
  },
  {
   "cell_type": "code",
   "execution_count": 3,
   "metadata": {
    "collapsed": true
   },
   "outputs": [],
   "source": [
    "def enumerate_rolls(N,M,successful_rolls,current_roll):\n",
    "\n",
    "    #this function only gets called in the first place if it's a viable roll, so we only need to check N==0\n",
    "    if N==0:\n",
    "        return successful_rolls + [current_roll]\n",
    "        \n",
    "    #enumerate possible rolls\n",
    "    for roll in range(1,7):\n",
    "        if check_possible(N-1,M-roll): #verifies if N and M combo can actually be reached\n",
    "            successful_rolls = enumerate_rolls(N-1,M-roll, successful_rolls, current_roll + [roll])\n",
    "    \n",
    "    return successful_rolls #gets reached when recursion branches exhausted"
   ]
  },
  {
   "cell_type": "code",
   "execution_count": 4,
   "metadata": {
    "collapsed": true
   },
   "outputs": [],
   "source": [
    "## initial conditions - N=8, M=24\n",
    "N = 8\n",
    "M = 24\n",
    "successful_rolls_init = []\n",
    "current_roll_init = []\n",
    "\n",
    "all_rolls = enumerate_rolls(N,M,successful_rolls_init,current_roll_init)"
   ]
  },
  {
   "cell_type": "code",
   "execution_count": 19,
   "metadata": {
    "collapsed": false
   },
   "outputs": [
    {
     "name": "stdout",
     "output_type": "stream",
     "text": [
      "Mean of dice products with number of dice N=8 and sum of faces M=24: 1859.93295417\n",
      "Standard deviation of dice products with number of dice N=8 and sum of faces M=24: 855.069885347\n"
     ]
    }
   ],
   "source": [
    "#fortunately, numpy allows easy conversion from list to numpy array:\n",
    "products = np.prod(all_rolls, axis=1) \n",
    "print(\"Mean of dice products with number of dice N=8 and sum of faces M=24:\", np.mean(products))\n",
    "print(\"Standard deviation of dice products with number of dice N=8 and sum of faces M=24:\", np.std(products))"
   ]
  },
  {
   "cell_type": "code",
   "execution_count": 5,
   "metadata": {
    "collapsed": false
   },
   "outputs": [
    {
     "name": "stdout",
     "output_type": "stream",
     "text": [
      "Trial #1\n",
      "New rolls found: 3913\n",
      "Total rolls found: 3913\n",
      "Trial #2\n",
      "New rolls found: 3903\n",
      "Total rolls found: 7816\n",
      "Trial #3\n",
      "New rolls found: 3875\n",
      "Total rolls found: 11691\n",
      "Trial #4\n",
      "New rolls found: 3786\n",
      "Total rolls found: 15477\n",
      "Trial #5\n",
      "New rolls found: 3990\n",
      "Total rolls found: 19467\n",
      "Trial #6\n"
     ]
    },
    {
     "ename": "KeyboardInterrupt",
     "evalue": "",
     "output_type": "error",
     "traceback": [
      "\u001b[0;31m---------------------------------------------------------------------------\u001b[0m",
      "\u001b[0;31mKeyboardInterrupt\u001b[0m                         Traceback (most recent call last)",
      "\u001b[0;32m<ipython-input-5-3b4e819aaa56>\u001b[0m in \u001b[0;36m<module>\u001b[0;34m()\u001b[0m\n\u001b[1;32m     12\u001b[0m \u001b[0;32mfor\u001b[0m \u001b[0mi\u001b[0m \u001b[0;32min\u001b[0m \u001b[0mrange\u001b[0m\u001b[0;34m(\u001b[0m\u001b[0mniter\u001b[0m\u001b[0;34m)\u001b[0m\u001b[0;34m:\u001b[0m\u001b[0;34m\u001b[0m\u001b[0m\n\u001b[1;32m     13\u001b[0m     \u001b[0mprint\u001b[0m\u001b[0;34m(\u001b[0m\u001b[0;34m\"Trial #\"\u001b[0m \u001b[0;34m+\u001b[0m \u001b[0mstr\u001b[0m\u001b[0;34m(\u001b[0m\u001b[0mi\u001b[0m\u001b[0;34m+\u001b[0m\u001b[0;36m1\u001b[0m\u001b[0;34m)\u001b[0m\u001b[0;34m)\u001b[0m\u001b[0;34m\u001b[0m\u001b[0m\n\u001b[0;32m---> 14\u001b[0;31m     \u001b[0mrandom_rolls\u001b[0m \u001b[0;34m=\u001b[0m \u001b[0mrnd\u001b[0m\u001b[0;34m.\u001b[0m\u001b[0mrandint\u001b[0m\u001b[0;34m(\u001b[0m\u001b[0;36m1\u001b[0m\u001b[0;34m,\u001b[0m\u001b[0;36m7\u001b[0m\u001b[0;34m,\u001b[0m\u001b[0;34m[\u001b[0m\u001b[0;36m1000000\u001b[0m\u001b[0;34m,\u001b[0m\u001b[0mN\u001b[0m\u001b[0;34m]\u001b[0m\u001b[0;34m)\u001b[0m\u001b[0;34m\u001b[0m\u001b[0m\n\u001b[0m\u001b[1;32m     15\u001b[0m     \u001b[0msum_rolls\u001b[0m \u001b[0;34m=\u001b[0m \u001b[0mnp\u001b[0m\u001b[0;34m.\u001b[0m\u001b[0msum\u001b[0m\u001b[0;34m(\u001b[0m\u001b[0mrandom_rolls\u001b[0m\u001b[0;34m,\u001b[0m\u001b[0;36m1\u001b[0m\u001b[0;34m)\u001b[0m\u001b[0;34m\u001b[0m\u001b[0m\n\u001b[1;32m     16\u001b[0m     \u001b[0msuccessful_rolls\u001b[0m \u001b[0;34m=\u001b[0m \u001b[0mrandom_rolls\u001b[0m\u001b[0;34m[\u001b[0m\u001b[0msum_rolls\u001b[0m \u001b[0;34m==\u001b[0m \u001b[0mM\u001b[0m\u001b[0;34m]\u001b[0m\u001b[0;34m\u001b[0m\u001b[0m\n",
      "\u001b[0;31mKeyboardInterrupt\u001b[0m: "
     ]
    }
   ],
   "source": [
    "## Part 2: Montecarlo simulation for large numbers of dice where enumerating is prohibitive\n",
    "## Strategy: Generate 1 million rolls at a time, select rolls with correct sum, store their products.\n",
    "## Repeat for niter iterations (I tried 50k max)\n",
    "\n",
    "roll_products = np.array([]) #stores output\n",
    "N = 50\n",
    "M = 150\n",
    "niter = 500 #how many times do we draw 1 million random sets of rolls?\n",
    "\n",
    "log = open(\"/Users/Siwen/incubator/roll_trials.txt\", \"w\")\n",
    "\n",
    "for i in range(niter):\n",
    "    print(\"Trial #\" + str(i+1))\n",
    "    random_rolls = rnd.randint(1,7,[1000000,N])\n",
    "    sum_rolls = np.sum(random_rolls,1)\n",
    "    successful_rolls = random_rolls[sum_rolls == M]\n",
    "    new_products = np.prod(successful_rolls, axis = 1, dtype=np.uint64)\n",
    "    print(\"New rolls found:\", str(new_products.shape[0]))\n",
    "    roll_products = np.append(roll_products, new_products, axis = 0)\n",
    "    print(\"Total rolls found:\", str(roll_products.shape[0]))\n",
    "    \n",
    "    if (i+1)%100 == 0:\n",
    "        print(\"Mean roll product after \" + str(i+1) + \" million attempted rolls:\", np.mean(roll_products), file=log)\n",
    "        print(\"Standard deviation of roll product after \" + str(i+1) + \" million attempted rolls:\", np.std(roll_products), file=log)"
   ]
  },
  {
   "cell_type": "code",
   "execution_count": 20,
   "metadata": {
    "collapsed": false
   },
   "outputs": [
    {
     "name": "stdout",
     "output_type": "stream",
     "text": [
      "Mean roll product with number of dice N = 50 and roll sum M = 150: 9.03131053973e+18\n",
      "Standard deviation of roll product with number of dice N = 50 and roll sum M = 150: 5.26244825337e+18\n"
     ]
    }
   ],
   "source": [
    "print('Mean roll product with number of dice N = 50 and roll sum M = 150:', np.mean(roll_products))\n",
    "print('Standard deviation of roll product with number of dice N = 50 and roll sum M = 150:', \\\n",
    "      np.std(roll_products))"
   ]
  },
  {
   "cell_type": "code",
   "execution_count": null,
   "metadata": {
    "collapsed": true
   },
   "outputs": [],
   "source": []
  }
 ],
 "metadata": {
  "kernelspec": {
   "display_name": "Python 3",
   "language": "python",
   "name": "python3"
  },
  "language_info": {
   "codemirror_mode": {
    "name": "ipython",
    "version": 3
   },
   "file_extension": ".py",
   "mimetype": "text/x-python",
   "name": "python",
   "nbconvert_exporter": "python",
   "pygments_lexer": "ipython3",
   "version": "3.5.2"
  }
 },
 "nbformat": 4,
 "nbformat_minor": 0
}
