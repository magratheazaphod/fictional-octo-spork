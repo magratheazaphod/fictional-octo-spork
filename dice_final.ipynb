{
 "cells": [
  {
   "cell_type": "code",
   "execution_count": 1,
   "metadata": {
    "collapsed": true
   },
   "outputs": [],
   "source": [
    "## Approach for 8 dice: Recursive method enumerate_rolls\n",
    "## Tested out memoizing, but the check_possible function is already fast"
   ]
  },
  {
   "cell_type": "code",
   "execution_count": 1,
   "metadata": {
    "collapsed": true
   },
   "outputs": [],
   "source": [
    "import numpy as np\n",
    "import numpy.random as rnd"
   ]
  },
  {
   "cell_type": "code",
   "execution_count": 3,
   "metadata": {
    "collapsed": true
   },
   "outputs": [],
   "source": [
    "#check_possible gets called over and over again with same N and M, therefore we use memoize class to speed up\n",
    "def check_possible(N,M):\n",
    "    #fail condition if sum of dice less than actual number of dice - also works when total hits 0 and total negative\n",
    "    if M<N: \n",
    "        return False\n",
    "    \n",
    "    #even if we roll all sixes, can't reach sum - also works when total hits 0 and remaining sum too big\n",
    "    if M>6*N: \n",
    "        return False\n",
    "    \n",
    "    return True"
   ]
  },
  {
   "cell_type": "code",
   "execution_count": 4,
   "metadata": {
    "collapsed": true
   },
   "outputs": [],
   "source": [
    "def enumerate_rolls(N,M,successful_rolls,current_roll):\n",
    "\n",
    "    #this function only gets called in the first place if it's a viable roll, so we only need to check N==0\n",
    "    if N==0:\n",
    "        return successful_rolls + [current_roll]\n",
    "        \n",
    "    #enumerate possible rolls\n",
    "    for roll in range(1,7):\n",
    "        if check_possible(N-1,M-roll): #verifies if N and M combo can actually be reached\n",
    "            successful_rolls = enumerate_rolls(N-1,M-roll, successful_rolls, current_roll + [roll])\n",
    "    \n",
    "    return successful_rolls #gets reached when recursion branches exhausted"
   ]
  },
  {
   "cell_type": "code",
   "execution_count": 5,
   "metadata": {
    "collapsed": true
   },
   "outputs": [],
   "source": [
    "## initial conditions - N=8, M=24\n",
    "N = 8\n",
    "M = 24\n",
    "successful_rolls_init = []\n",
    "current_roll_init = []\n",
    "\n",
    "all_rolls = enumerate_rolls(N,M,successful_rolls_init,current_roll_init)"
   ]
  },
  {
   "cell_type": "code",
   "execution_count": 19,
   "metadata": {
    "collapsed": false
   },
   "outputs": [
    {
     "name": "stdout",
     "output_type": "stream",
     "text": [
      "Mean of dice products with number of dice N=8 and sum of faces M=24: 1859.93295417\n",
      "Standard deviation of dice products with number of dice N=8 and sum of faces M=24: 855.069885347\n"
     ]
    }
   ],
   "source": [
    "#fortunately, numpy allows easy conversion from list to numpy array:\n",
    "products = np.prod(all_rolls, axis=1) \n",
    "print(\"Mean of dice products with number of dice N=8 and sum of faces M=24:\", np.mean(products))\n",
    "print(\"Standard deviation of dice products with number of dice N=8 and sum of faces M=24:\", np.std(products))"
   ]
  },
  {
   "cell_type": "code",
   "execution_count": 8,
   "metadata": {
    "collapsed": false
   },
   "outputs": [
    {
     "name": "stdout",
     "output_type": "stream",
     "text": [
      "Trial #1\n",
      "New rolls found: 3808\n",
      "Total rolls found: 3808\n",
      "Trial #2\n",
      "New rolls found: 3729\n",
      "Total rolls found: 7537\n",
      "Trial #3\n",
      "New rolls found: 3871\n",
      "Total rolls found: 11408\n",
      "Trial #4\n",
      "New rolls found: 3827\n",
      "Total rolls found: 15235\n",
      "Trial #5\n",
      "New rolls found: 3868\n",
      "Total rolls found: 19103\n",
      "Trial #6\n",
      "New rolls found: 3938\n",
      "Total rolls found: 23041\n",
      "Trial #7\n",
      "New rolls found: 3964\n",
      "Total rolls found: 27005\n",
      "Trial #8\n",
      "New rolls found: 3989\n",
      "Total rolls found: 30994\n",
      "Trial #9\n",
      "New rolls found: 3828\n",
      "Total rolls found: 34822\n",
      "Trial #10\n",
      "New rolls found: 3953\n",
      "Total rolls found: 38775\n",
      "Trial #11\n",
      "New rolls found: 3863\n",
      "Total rolls found: 42638\n",
      "Trial #12\n",
      "New rolls found: 3846\n",
      "Total rolls found: 46484\n",
      "Trial #13\n",
      "New rolls found: 3910\n",
      "Total rolls found: 50394\n",
      "Trial #14\n",
      "New rolls found: 3982\n",
      "Total rolls found: 54376\n",
      "Trial #15\n",
      "New rolls found: 3949\n",
      "Total rolls found: 58325\n",
      "Trial #16\n",
      "New rolls found: 3897\n",
      "Total rolls found: 62222\n",
      "Trial #17\n",
      "New rolls found: 3830\n",
      "Total rolls found: 66052\n",
      "Trial #18\n",
      "New rolls found: 3984\n",
      "Total rolls found: 70036\n",
      "Trial #19\n",
      "New rolls found: 3909\n",
      "Total rolls found: 73945\n",
      "Trial #20\n",
      "New rolls found: 3933\n",
      "Total rolls found: 77878\n",
      "Trial #21\n",
      "New rolls found: 3818\n",
      "Total rolls found: 81696\n",
      "Trial #22\n",
      "New rolls found: 3975\n",
      "Total rolls found: 85671\n",
      "Trial #23\n",
      "New rolls found: 3910\n",
      "Total rolls found: 89581\n",
      "Trial #24\n",
      "New rolls found: 3866\n",
      "Total rolls found: 93447\n",
      "Trial #25\n",
      "New rolls found: 3850\n",
      "Total rolls found: 97297\n",
      "Trial #26\n",
      "New rolls found: 3987\n",
      "Total rolls found: 101284\n",
      "Trial #27\n",
      "New rolls found: 3859\n",
      "Total rolls found: 105143\n",
      "Trial #28\n",
      "New rolls found: 3771\n",
      "Total rolls found: 108914\n",
      "Trial #29\n",
      "New rolls found: 3946\n",
      "Total rolls found: 112860\n",
      "Trial #30\n",
      "New rolls found: 3780\n",
      "Total rolls found: 116640\n",
      "Trial #31\n",
      "New rolls found: 3945\n",
      "Total rolls found: 120585\n",
      "Trial #32\n",
      "New rolls found: 3905\n",
      "Total rolls found: 124490\n",
      "Trial #33\n",
      "New rolls found: 3893\n",
      "Total rolls found: 128383\n",
      "Trial #34\n",
      "New rolls found: 3878\n",
      "Total rolls found: 132261\n",
      "Trial #35\n",
      "New rolls found: 3901\n",
      "Total rolls found: 136162\n",
      "Trial #36\n",
      "New rolls found: 3886\n",
      "Total rolls found: 140048\n",
      "Trial #37\n",
      "New rolls found: 3875\n",
      "Total rolls found: 143923\n",
      "Trial #38\n",
      "New rolls found: 3973\n",
      "Total rolls found: 147896\n",
      "Trial #39\n",
      "New rolls found: 3958\n",
      "Total rolls found: 151854\n",
      "Trial #40\n",
      "New rolls found: 3808\n",
      "Total rolls found: 155662\n",
      "Trial #41\n",
      "New rolls found: 3842\n",
      "Total rolls found: 159504\n",
      "Trial #42\n",
      "New rolls found: 3930\n",
      "Total rolls found: 163434\n",
      "Trial #43\n",
      "New rolls found: 3877\n",
      "Total rolls found: 167311\n",
      "Trial #44\n",
      "New rolls found: 3844\n",
      "Total rolls found: 171155\n",
      "Trial #45\n",
      "New rolls found: 4049\n",
      "Total rolls found: 175204\n",
      "Trial #46\n",
      "New rolls found: 3895\n",
      "Total rolls found: 179099\n",
      "Trial #47\n",
      "New rolls found: 3811\n",
      "Total rolls found: 182910\n",
      "Trial #48\n",
      "New rolls found: 3807\n",
      "Total rolls found: 186717\n",
      "Trial #49\n",
      "New rolls found: 3996\n",
      "Total rolls found: 190713\n",
      "Trial #50\n",
      "New rolls found: 3915\n",
      "Total rolls found: 194628\n"
     ]
    }
   ],
   "source": [
    "## Part 2: Montecarlo simulation for large numbers of dice where enumerating is prohibitive\n",
    "## Strategy: Generate 1 million rolls at a time, select rolls with correct sum, store their products.\n",
    "## Repeat for niter iterations (I tried 50k max)\n",
    "\n",
    "roll_products = np.array([]) #stores output\n",
    "N = 50\n",
    "M = 150\n",
    "niter = 50000 #how many times do we draw 1 million random sets of rolls?\n",
    "\n",
    "for i in range(niter):\n",
    "    print(\"Trial #\" + str(i+1))\n",
    "    random_rolls = rnd.randint(1,7,[1000000,N])\n",
    "    sum_rolls = np.sum(random_rolls,1)\n",
    "    successful_rolls = random_rolls[sum_rolls == M]\n",
    "    new_products = np.prod(successful_rolls, axis = 1, dtype=np.uint64)\n",
    "    print(\"New rolls found:\", str(new_products.shape[0]))\n",
    "    roll_products = np.append(roll_products, new_products, axis = 0)\n",
    "    print(\"Total rolls found:\", str(roll_products.shape[0]))\n",
    "    \n",
    "    if (i+1)%100 == 0:\n",
    "        print(\"Mean roll product after \" + str(i) + \" million attempted rolls:\", np.mean(roll_products))\n",
    "        print(\"Standard deviation of roll product after \" + str(i) + \" million attempted rolls:\", np.std(roll_products))"
   ]
  },
  {
   "cell_type": "code",
   "execution_count": 20,
   "metadata": {
    "collapsed": false
   },
   "outputs": [
    {
     "name": "stdout",
     "output_type": "stream",
     "text": [
      "Mean roll product with number of dice N = 50 and roll sum M = 150: 9.03131053973e+18\n",
      "Standard deviation of roll product with number of dice N = 50 and roll sum M = 150: 5.26244825337e+18\n"
     ]
    }
   ],
   "source": [
    "print('Mean roll product with number of dice N = 50 and roll sum M = 150:', np.mean(roll_products))\n",
    "print('Standard deviation of roll product with number of dice N = 50 and roll sum M = 150:', \\\n",
    "      np.std(roll_products))"
   ]
  },
  {
   "cell_type": "code",
   "execution_count": null,
   "metadata": {
    "collapsed": true
   },
   "outputs": [],
   "source": []
  }
 ],
 "metadata": {
  "kernelspec": {
   "display_name": "Python 3",
   "language": "python",
   "name": "python3"
  },
  "language_info": {
   "codemirror_mode": {
    "name": "ipython",
    "version": 3
   },
   "file_extension": ".py",
   "mimetype": "text/x-python",
   "name": "python",
   "nbconvert_exporter": "python",
   "pygments_lexer": "ipython3",
   "version": "3.5.2"
  }
 },
 "nbformat": 4,
 "nbformat_minor": 0
}
