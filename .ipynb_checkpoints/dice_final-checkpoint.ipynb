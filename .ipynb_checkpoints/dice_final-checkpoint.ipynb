{
 "cells": [
  {
   "cell_type": "code",
   "execution_count": 1,
   "metadata": {
    "collapsed": true
   },
   "outputs": [],
   "source": [
    "## Approach for 8 dice: Recursive method enumerate_rolls"
   ]
  },
  {
   "cell_type": "code",
   "execution_count": 7,
   "metadata": {
    "collapsed": true
   },
   "outputs": [],
   "source": [
    "import numpy as np"
   ]
  },
  {
   "cell_type": "code",
   "execution_count": 8,
   "metadata": {
    "collapsed": true
   },
   "outputs": [],
   "source": [
    "##Recursive function that returns all rolls of N dice whose sum is M\n",
    "def enumerate_rolls(N,M,successful_rolls,current_roll):\n",
    "        \n",
    "    #fail condition if sum of dice less than actual number of dice - also works when total hits 0 and total negative\n",
    "    if M<N: \n",
    "        return successful_rolls\n",
    "    \n",
    "    #even if we roll all sixes, can't reach sum - also works when total hits 0 and remaining sum too big\n",
    "    if M>6*N: \n",
    "        return successful_rolls\n",
    "    \n",
    "    #following loop can only be reached if N=0 AND M=0, due to previous two conditions\n",
    "    if N==0:\n",
    "        return successful_rolls + [current_roll]\n",
    "    \n",
    "    for roll in range(1,7):\n",
    "        successful_rolls = enumerate_rolls(N-1,M-roll, successful_rolls, current_roll + [roll])\n",
    "    \n",
    "    return successful_rolls #only gets reached when recursion branches exhausted"
   ]
  },
  {
   "cell_type": "code",
   "execution_count": 4,
   "metadata": {
    "collapsed": true
   },
   "outputs": [],
   "source": [
    "## initial conditions - N=8, M=24\n",
    "N = 8\n",
    "M = 24\n",
    "successful_rolls_init = []\n",
    "current_roll_init = []\n",
    "\n",
    "all_rolls = enumerate_rolls(N,M,successful_rolls_init,current_roll_init)"
   ]
  },
  {
   "cell_type": "code",
   "execution_count": 12,
   "metadata": {
    "collapsed": false
   },
   "outputs": [
    {
     "name": "stdout",
     "output_type": "stream",
     "text": [
      "Mean of dice products with number of dice N=8 and sum of faces M=24: 1859.9329541659\n",
      "Standard deviation of dice products with number of dice N=8 and sum of faces M=24: 855.069885347\n"
     ]
    }
   ],
   "source": [
    "#fortunately, numpy allows easy conversion from list to numpy array:\n",
    "products = np.prod(all_rolls, axis=1) \n",
    "print(\"Mean of dice products with number of dice N=8 and sum of faces M=24:\", '{0:.10f}'.format(np.mean(products)))\n",
    "print(\"Standard deviation of dice products with number of dice N=8 and sum of faces M=24:\", \\\n",
    "      '{0:.10f}'.format(np.std(products)))"
   ]
  },
  {
   "cell_type": "code",
   "execution_count": null,
   "metadata": {
    "collapsed": true
   },
   "outputs": [],
   "source": []
  }
 ],
 "metadata": {
  "kernelspec": {
   "display_name": "Python 3",
   "language": "python",
   "name": "python3"
  },
  "language_info": {
   "codemirror_mode": {
    "name": "ipython",
    "version": 3
   },
   "file_extension": ".py",
   "mimetype": "text/x-python",
   "name": "python",
   "nbconvert_exporter": "python",
   "pygments_lexer": "ipython3",
   "version": "3.5.2"
  }
 },
 "nbformat": 4,
 "nbformat_minor": 0
}
