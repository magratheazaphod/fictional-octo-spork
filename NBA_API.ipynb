{
 "cells": [
  {
   "cell_type": "code",
   "execution_count": null,
   "metadata": {
    "collapsed": true
   },
   "outputs": [],
   "source": [
    "## Written by Jesse Day, Nov 12 2016\n",
    "## first attempt at using the NBA/stats API to obtain data of interest."
   ]
  },
  {
   "cell_type": "code",
   "execution_count": 1,
   "metadata": {
    "collapsed": true
   },
   "outputs": [],
   "source": [
    "import requests\n",
    "import json\n",
    "import pandas"
   ]
  },
  {
   "cell_type": "code",
   "execution_count": 2,
   "metadata": {
    "collapsed": false
   },
   "outputs": [],
   "source": [
    "nbastats_url = 'http://stats.nba.com/stats/'\n",
    "boxscore_url = nbastats_url + 'boxscoretraditionalv2'\n",
    "playbyplay_url = nbastats_url + 'playbyplayv2'"
   ]
  },
  {
   "cell_type": "code",
   "execution_count": 3,
   "metadata": {
    "collapsed": false
   },
   "outputs": [],
   "source": [
    "## first goal - load all regular-season box scores for 2015-2016 season.\n",
    "## step 1: CREATE LIST OF GAME IDs\n",
    "\n",
    "#thank you to https://github.com/gmf05/nba/blob/master/README.md for the following info:\n",
    "\n",
    "#The NBA's Game ID, 0021400001, is a 10-digit code: XXXYYGGGGG, where XXX refers to a season prefix, YY is the season year (e.g. 14 for 2014-15), and GGGGG refers to the game number (1-1230 for a full 30-team regular season).\n",
    "\n",
    "#Season prefixes are...\n",
    "#001 : Pre Season\n",
    "#002 : Regular Season\n",
    "#003 : All-Star\n",
    "#004 : Post Season\n",
    "\n",
    "##if I want to adapt this to be able to account for other seasons, simply cycle through different values for season\n",
    "##slight issue is that number of teams is not constant in time/teams didn't always play 82 games, but tractable\n",
    "season_prefix = '002'\n",
    "season = '16' #2015-2016\n",
    "game = range(1,1231) #there are 82*30/2 regular-season games, or 1230 games\n",
    "\n",
    "#\"{0:0=5d}\".format command below handily indicates that all numbers should be shown with five figures\n",
    "gameids = [ season_prefix + season + \"{0:0=5d}\".format(gm) for gm in game]"
   ]
  },
  {
   "cell_type": "code",
   "execution_count": 4,
   "metadata": {
    "collapsed": false
   },
   "outputs": [],
   "source": [
    "## STEP 2 - setup entire query\n",
    "# API queries reply certain parameters in requests. \n",
    "# More info available at https://github.com/seemethere/nba_py/wiki/stats.nba.com-Endpoint-Documentation\n",
    "\n",
    "## I'm not sure yet what all of the variables mean. Time to experiment!\n",
    "\n",
    "## update: API seems powerful - may actually be able to separately query different times of the game\n",
    "#(say, end of quarter). may mean that I never have to look at the playbyplay logs.\n",
    "\n",
    "## Required parameters:\n",
    "# GameID - see above\n",
    "# StartPeriod -\n",
    "# EndPeriod -\n",
    "# StartRange -\n",
    "# EndRange - refers to time of game in tenths of a second (28800 is end of non-overtime game)\n",
    "# for instance, check out overtime game (http://stats.nba.com/game/#!/0021600121/) - endrange=31800\n",
    "# RangeType -\n",
    "\n",
    "query = {}\n",
    "query['EndPeriod']=10\n",
    "query['EndRange']=28800\n",
    "query['RangeType']=0\n",
    "query['Season']=\"2016-17\"\n",
    "query['SeasonType']=\"Regular+Season\"\n",
    "query['StartPeriod'] = 1\n",
    "query['StartRange']=0\n",
    "#Season=2016-17\n",
    "#SeasonType=Regular+Season"
   ]
  },
  {
   "cell_type": "code",
   "execution_count": 5,
   "metadata": {
    "collapsed": false
   },
   "outputs": [],
   "source": [
    "## important discovery - the parameters have to be requested in alphabetical order\n",
    "def construct_query(parameters):\n",
    "    query = '?'\n",
    "    \n",
    "    for i, (param, value) in enumerate(sorted(parameters.items())):\n",
    "        \n",
    "        if i is not 0:\n",
    "            query += '&'\n",
    "        \n",
    "        add_param = param + '=' + str(value)\n",
    "        query += add_param\n",
    "                     \n",
    "    return(query)"
   ]
  },
  {
   "cell_type": "code",
   "execution_count": 17,
   "metadata": {
    "collapsed": false
   },
   "outputs": [
    {
     "name": "stdout",
     "output_type": "stream",
     "text": [
      "http://stats.nba.com/stats/boxscoretraditionalv2?EndPeriod=10&EndRange=28800&GameID=0021600001&RangeType=0&Season=2016-17&SeasonType=Regular+Season&StartPeriod=1&StartRange=0\n"
     ]
    },
    {
     "ename": "HTTPError",
     "evalue": "400 Client Error: Bad Request for url: http://stats.nba.com/stats/boxscoretraditionalv2?EndPeriod=10&EndRange=28800&GameID=0021600001&RangeType=0&Season=2016-17&SeasonType=Regular+Season&StartPeriod=1&StartRange=0",
     "output_type": "error",
     "traceback": [
      "\u001b[0;31m---------------------------------------------------------------------------\u001b[0m",
      "\u001b[0;31mHTTPError\u001b[0m                                 Traceback (most recent call last)",
      "\u001b[0;32m<ipython-input-17-d3cb50250dc4>\u001b[0m in \u001b[0;36m<module>\u001b[0;34m()\u001b[0m\n\u001b[1;32m      7\u001b[0m     \u001b[0;31m# request the URL\u001b[0m\u001b[0;34m\u001b[0m\u001b[0;34m\u001b[0m\u001b[0m\n\u001b[1;32m      8\u001b[0m     \u001b[0mresponse\u001b[0m \u001b[0;34m=\u001b[0m \u001b[0mrequests\u001b[0m\u001b[0;34m.\u001b[0m\u001b[0mget\u001b[0m\u001b[0;34m(\u001b[0m\u001b[0mfull_query_url\u001b[0m\u001b[0;34m,\u001b[0m \u001b[0mtimeout\u001b[0m \u001b[0;34m=\u001b[0m \u001b[0;36m10\u001b[0m\u001b[0;34m)\u001b[0m \u001b[0;31m#wait 10 seconds for response\u001b[0m\u001b[0;34m\u001b[0m\u001b[0m\n\u001b[0;32m----> 9\u001b[0;31m     \u001b[0mresponse\u001b[0m\u001b[0;34m.\u001b[0m\u001b[0mraise_for_status\u001b[0m\u001b[0;34m(\u001b[0m\u001b[0;34m)\u001b[0m \u001b[0;31m# raise exception if invalid response\u001b[0m\u001b[0;34m\u001b[0m\u001b[0m\n\u001b[0m\u001b[1;32m     10\u001b[0m     \u001b[0mprint\u001b[0m\u001b[0;34m(\u001b[0m\u001b[0mresponse\u001b[0m\u001b[0;34m)\u001b[0m\u001b[0;34m\u001b[0m\u001b[0m\n",
      "\u001b[0;32m//anaconda/lib/python3.5/site-packages/requests/models.py\u001b[0m in \u001b[0;36mraise_for_status\u001b[0;34m(self)\u001b[0m\n\u001b[1;32m    838\u001b[0m \u001b[0;34m\u001b[0m\u001b[0m\n\u001b[1;32m    839\u001b[0m         \u001b[0;32mif\u001b[0m \u001b[0mhttp_error_msg\u001b[0m\u001b[0;34m:\u001b[0m\u001b[0;34m\u001b[0m\u001b[0m\n\u001b[0;32m--> 840\u001b[0;31m             \u001b[0;32mraise\u001b[0m \u001b[0mHTTPError\u001b[0m\u001b[0;34m(\u001b[0m\u001b[0mhttp_error_msg\u001b[0m\u001b[0;34m,\u001b[0m \u001b[0mresponse\u001b[0m\u001b[0;34m=\u001b[0m\u001b[0mself\u001b[0m\u001b[0;34m)\u001b[0m\u001b[0;34m\u001b[0m\u001b[0m\n\u001b[0m\u001b[1;32m    841\u001b[0m \u001b[0;34m\u001b[0m\u001b[0m\n\u001b[1;32m    842\u001b[0m     \u001b[0;32mdef\u001b[0m \u001b[0mclose\u001b[0m\u001b[0;34m(\u001b[0m\u001b[0mself\u001b[0m\u001b[0;34m)\u001b[0m\u001b[0;34m:\u001b[0m\u001b[0;34m\u001b[0m\u001b[0m\n",
      "\u001b[0;31mHTTPError\u001b[0m: 400 Client Error: Bad Request for url: http://stats.nba.com/stats/boxscoretraditionalv2?EndPeriod=10&EndRange=28800&GameID=0021600001&RangeType=0&Season=2016-17&SeasonType=Regular+Season&StartPeriod=1&StartRange=0"
     ]
    }
   ],
   "source": [
    "for gameid in gameids[:10]: #cycle through list of game IDs and query each one\n",
    "    query['GameID'] = gameid \n",
    "    formatted_query = construct_query(query)    \n",
    "    full_query_url = boxscore_url + formatted_query\n",
    "    print(full_query_url)\n",
    "    \n",
    "    # request the URL\n",
    "    response = requests.get(full_query_url, timeout = 10) #wait 10 seconds for response\n",
    "    response.raise_for_status() # raise exception if invalid response\n",
    "    print(response)\n"
   ]
  },
  {
   "cell_type": "code",
   "execution_count": 11,
   "metadata": {
    "collapsed": false
   },
   "outputs": [
    {
     "data": {
      "text/plain": [
       "True"
      ]
     },
     "execution_count": 11,
     "metadata": {},
     "output_type": "execute_result"
    }
   ],
   "source": [
    "full_query_url == test_url"
   ]
  },
  {
   "cell_type": "code",
   "execution_count": 10,
   "metadata": {
    "collapsed": true
   },
   "outputs": [],
   "source": [
    "test_url = \"http://stats.nba.com/stats/boxscoretraditionalv2?EndPeriod=10&EndRange=28800&GameID=0021600001&RangeType=0&Season=2016-17&SeasonType=Regular+Season&StartPeriod=1&StartRange=0\""
   ]
  },
  {
   "cell_type": "code",
   "execution_count": 8,
   "metadata": {
    "collapsed": false
   },
   "outputs": [
    {
     "ename": "HTTPError",
     "evalue": "400 Client Error: Bad Request for url: http://stats.nba.com/stats/boxscoretraditionalv2?EndPeriod=10&EndRange=28800&GameID=0021600001&RangeType=0&Season=2016-17&SeasonType=Regular+Season&StartPeriod=1&StartRange=0",
     "output_type": "error",
     "traceback": [
      "\u001b[0;31m---------------------------------------------------------------------------\u001b[0m",
      "\u001b[0;31mHTTPError\u001b[0m                                 Traceback (most recent call last)",
      "\u001b[0;32m<ipython-input-8-a035e4c61ad4>\u001b[0m in \u001b[0;36m<module>\u001b[0;34m()\u001b[0m\n\u001b[1;32m      1\u001b[0m \u001b[0mr2\u001b[0m \u001b[0;34m=\u001b[0m \u001b[0mrequests\u001b[0m\u001b[0;34m.\u001b[0m\u001b[0mget\u001b[0m\u001b[0;34m(\u001b[0m\u001b[0mtest_url\u001b[0m\u001b[0;34m)\u001b[0m\u001b[0;34m\u001b[0m\u001b[0m\n\u001b[0;32m----> 2\u001b[0;31m \u001b[0mr2\u001b[0m\u001b[0;34m.\u001b[0m\u001b[0mraise_for_status\u001b[0m\u001b[0;34m(\u001b[0m\u001b[0;34m)\u001b[0m \u001b[0;31m# raise exception if invalid response\u001b[0m\u001b[0;34m\u001b[0m\u001b[0m\n\u001b[0m\u001b[1;32m      3\u001b[0m \u001b[0mprint\u001b[0m\u001b[0;34m(\u001b[0m\u001b[0mr2\u001b[0m\u001b[0;34m)\u001b[0m\u001b[0;34m\u001b[0m\u001b[0m\n",
      "\u001b[0;32m//anaconda/lib/python3.5/site-packages/requests/models.py\u001b[0m in \u001b[0;36mraise_for_status\u001b[0;34m(self)\u001b[0m\n\u001b[1;32m    838\u001b[0m \u001b[0;34m\u001b[0m\u001b[0m\n\u001b[1;32m    839\u001b[0m         \u001b[0;32mif\u001b[0m \u001b[0mhttp_error_msg\u001b[0m\u001b[0;34m:\u001b[0m\u001b[0;34m\u001b[0m\u001b[0m\n\u001b[0;32m--> 840\u001b[0;31m             \u001b[0;32mraise\u001b[0m \u001b[0mHTTPError\u001b[0m\u001b[0;34m(\u001b[0m\u001b[0mhttp_error_msg\u001b[0m\u001b[0;34m,\u001b[0m \u001b[0mresponse\u001b[0m\u001b[0;34m=\u001b[0m\u001b[0mself\u001b[0m\u001b[0;34m)\u001b[0m\u001b[0;34m\u001b[0m\u001b[0m\n\u001b[0m\u001b[1;32m    841\u001b[0m \u001b[0;34m\u001b[0m\u001b[0m\n\u001b[1;32m    842\u001b[0m     \u001b[0;32mdef\u001b[0m \u001b[0mclose\u001b[0m\u001b[0;34m(\u001b[0m\u001b[0mself\u001b[0m\u001b[0;34m)\u001b[0m\u001b[0;34m:\u001b[0m\u001b[0;34m\u001b[0m\u001b[0m\n",
      "\u001b[0;31mHTTPError\u001b[0m: 400 Client Error: Bad Request for url: http://stats.nba.com/stats/boxscoretraditionalv2?EndPeriod=10&EndRange=28800&GameID=0021600001&RangeType=0&Season=2016-17&SeasonType=Regular+Season&StartPeriod=1&StartRange=0"
     ]
    }
   ],
   "source": [
    "r2 = requests.get(test_url)\n",
    "r2.raise_for_status() # raise exception if invalid response\n",
    "print(r2)"
   ]
  },
  {
   "cell_type": "code",
   "execution_count": 12,
   "metadata": {
    "collapsed": false
   },
   "outputs": [
    {
     "name": "stdout",
     "output_type": "stream",
     "text": [
      "<Response [200]>\n"
     ]
    }
   ],
   "source": [
    "# request the URL and parse the JSON\n",
    "response = requests.get(test_url)\n",
    "response.raise_for_status() # raise exception if invalid response\n",
    "print(response)\n",
    "\n",
    "#Create Dict based on JSON response\n",
    "#response = requests.get(boxscore_url)\n",
    "#print(response)\n",
    "gamelogs = response.json()\n",
    "data = json.loads(response.text)"
   ]
  },
  {
   "cell_type": "code",
   "execution_count": 13,
   "metadata": {
    "collapsed": false
   },
   "outputs": [
    {
     "name": "stdout",
     "output_type": "stream",
     "text": [
      "{'GameID': '0021600110', 'RangeType': 0, 'EndRange': 31800, 'EndPeriod': 10, 'StartPeriod': 1, 'StartRange': 0}\n"
     ]
    }
   ],
   "source": [
    "print(gamelogs['parameters'])"
   ]
  },
  {
   "cell_type": "code",
   "execution_count": 25,
   "metadata": {
    "collapsed": false
   },
   "outputs": [
    {
     "name": "stdout",
     "output_type": "stream",
     "text": [
      "5\n",
      "{'number': 5, 'message': 'success', 'people': [{'name': 'Jing Haipeng', 'craft': 'Shenzhou 11'}, {'name': 'Chen Dong', 'craft': 'Shenzhou 11'}, {'name': 'Sergey Rizhikov', 'craft': 'ISS'}, {'name': 'Andrey Borisenko', 'craft': 'ISS'}, {'name': 'Shane Kimbrough', 'craft': 'ISS'}]}\n"
     ]
    }
   ],
   "source": [
    "## sweet requests tutorial\n",
    "\n",
    "response = requests.get(\"http://api.open-notify.org/astros.json\")\n",
    "data = response.json()\n",
    "\n",
    "# 9 people are currently in space.\n",
    "print(data[\"number\"])\n",
    "print(data)\n"
   ]
  },
  {
   "cell_type": "code",
   "execution_count": null,
   "metadata": {
    "collapsed": true
   },
   "outputs": [],
   "source": []
  }
 ],
 "metadata": {
  "kernelspec": {
   "display_name": "Python 3",
   "language": "python",
   "name": "python3"
  },
  "language_info": {
   "codemirror_mode": {
    "name": "ipython",
    "version": 3
   },
   "file_extension": ".py",
   "mimetype": "text/x-python",
   "name": "python",
   "nbconvert_exporter": "python",
   "pygments_lexer": "ipython3",
   "version": "3.5.2"
  }
 },
 "nbformat": 4,
 "nbformat_minor": 0
}
