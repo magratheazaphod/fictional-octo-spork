{
 "cells": [
  {
   "cell_type": "code",
   "execution_count": null,
   "metadata": {
    "collapsed": true
   },
   "outputs": [],
   "source": [
    "## Written by Jesse Day, Nov 12 2016\n",
    "## first attempt at using the NBA/stats API to obtain data of interest."
   ]
  },
  {
   "cell_type": "code",
   "execution_count": 1,
   "metadata": {
    "collapsed": true
   },
   "outputs": [],
   "source": [
    "import requests\n",
    "import json\n",
    "import pandas"
   ]
  },
  {
   "cell_type": "code",
   "execution_count": 14,
   "metadata": {
    "collapsed": false
   },
   "outputs": [],
   "source": [
    "BASE_URL = 'http://stats.nba.com/stats/boxscoretraditionalv2/'\n",
    "#HEADERS = {'user-agent': ('Mozilla/5.0 (Macintosh; Intel Mac OS X 10_10_5) '\n",
    "#                          'AppleWebKit/537.36 (KHTML, like Gecko) '\n",
    "#                          'Chrome/45.0.2454.101 Safari/537.36'),\n",
    "#           'referer': 'http://stats.nba.com/scores/'}\n",
    "r = requests.get(BASE_URL)\n",
    "#       headers=HEADERS"
   ]
  },
  {
   "cell_type": "code",
   "execution_count": 15,
   "metadata": {
    "collapsed": false
   },
   "outputs": [
    {
     "name": "stdout",
     "output_type": "stream",
     "text": [
      "<Response [400]>\n"
     ]
    }
   ],
   "source": [
    "print(r)"
   ]
  },
  {
   "cell_type": "code",
   "execution_count": 16,
   "metadata": {
    "collapsed": false
   },
   "outputs": [],
   "source": [
    "test_url = 'http://stats.nba.com/stats/boxscoretraditionalv2?EndPeriod=10&EndRange=28800&GameID=0029600198&RangeType=0&Season=1996-97&SeasonType=Regular+Season&StartPeriod=1&StartRange=0'\n",
    "\n",
    "# request the URL and parse the JSON\n",
    "response = requests.get(test_url)\n",
    "response.raise_for_status() # raise exception if invalid response\n",
    "\n",
    "#Create Dict based on JSON response\n",
    "#response = requests.get(boxscore_url)\n",
    "#print(response)\n",
    "gamelogs = response.json()\n",
    "#data = json.loads(response.text)"
   ]
  },
  {
   "cell_type": "code",
   "execution_count": 21,
   "metadata": {
    "collapsed": false
   },
   "outputs": [
    {
     "name": "stdout",
     "output_type": "stream",
     "text": [
      "{'GameID': '0029600198', 'EndPeriod': 10, 'StartPeriod': 1, 'RangeType': 0, 'StartRange': 0, 'EndRange': 28800}\n"
     ]
    }
   ],
   "source": [
    "print(data['parameters'])"
   ]
  },
  {
   "cell_type": "code",
   "execution_count": null,
   "metadata": {
    "collapsed": true
   },
   "outputs": [],
   "source": []
  }
 ],
 "metadata": {
  "kernelspec": {
   "display_name": "Python 3",
   "language": "python",
   "name": "python3"
  },
  "language_info": {
   "codemirror_mode": {
    "name": "ipython",
    "version": 3
   },
   "file_extension": ".py",
   "mimetype": "text/x-python",
   "name": "python",
   "nbconvert_exporter": "python",
   "pygments_lexer": "ipython3",
   "version": "3.5.2"
  }
 },
 "nbformat": 4,
 "nbformat_minor": 0
}
