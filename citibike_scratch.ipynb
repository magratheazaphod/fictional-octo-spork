{
 "cells": [
  {
   "cell_type": "code",
   "execution_count": 32,
   "metadata": {
    "collapsed": true
   },
   "outputs": [],
   "source": [
    "#use Pandas to import data\n",
    "import pandas as pd\n",
    "import zipfile\n",
    "import requests\n",
    "import io\n",
    "import time\n",
    "import numpy as np"
   ]
  },
  {
   "cell_type": "code",
   "execution_count": 2,
   "metadata": {
    "collapsed": true
   },
   "outputs": [],
   "source": [
    "## information on filename\n",
    "citidir = \"https://s3.amazonaws.com/tripdata/\"\n",
    "citi_extension = \"-citibike-tripdata\"\n",
    "year = 2015\n",
    "months = ['01','02','03','04','05','06','07','08','09','10','11','12']"
   ]
  },
  {
   "cell_type": "code",
   "execution_count": 3,
   "metadata": {
    "collapsed": false
   },
   "outputs": [
    {
     "name": "stdout",
     "output_type": "stream",
     "text": [
      "https://s3.amazonaws.com/tripdata/201501-citibike-tripdata.zip\n",
      "https://s3.amazonaws.com/tripdata/201502-citibike-tripdata.zip\n",
      "https://s3.amazonaws.com/tripdata/201503-citibike-tripdata.zip\n",
      "https://s3.amazonaws.com/tripdata/201504-citibike-tripdata.zip\n",
      "https://s3.amazonaws.com/tripdata/201505-citibike-tripdata.zip\n",
      "https://s3.amazonaws.com/tripdata/201506-citibike-tripdata.zip\n",
      "https://s3.amazonaws.com/tripdata/201507-citibike-tripdata.zip\n",
      "https://s3.amazonaws.com/tripdata/201508-citibike-tripdata.zip\n",
      "https://s3.amazonaws.com/tripdata/201509-citibike-tripdata.zip\n",
      "https://s3.amazonaws.com/tripdata/201510-citibike-tripdata.zip\n",
      "https://s3.amazonaws.com/tripdata/201511-citibike-tripdata.zip\n",
      "https://s3.amazonaws.com/tripdata/201512-citibike-tripdata.zip\n"
     ]
    }
   ],
   "source": [
    "## store all data first in dictionary format using months as keys\n",
    "d = {}\n",
    "\n",
    "## download monthly data from the web for each month\n",
    "for mth in months:\n",
    "    #create filenames for given month\n",
    "    filename = str(year) + mth + citi_extension\n",
    "    citibike_zip_filename = citidir + filename + \".zip\"\n",
    "    citibike_csv_filename = filename + \".csv\"\n",
    "    print(citibike_zip_filename)\n",
    "    \n",
    "    #find file and use read_csv to save in dictionary of dataframes\n",
    "    requested_file = requests.get(citibike_zip_filename)\n",
    "    z = zipfile.ZipFile(io.BytesIO(requested_file.content))\n",
    "    d[mth] = pd.read_csv(z.open(citibike_csv_filename), header=0, sep=',', quotechar='\"')"
   ]
  },
  {
   "cell_type": "code",
   "execution_count": 4,
   "metadata": {
    "collapsed": true
   },
   "outputs": [],
   "source": [
    "## Concatenate into single yearly dataframe\n",
    "df = pd.DataFrame()\n",
    "\n",
    "## append results of each month\n",
    "for mth in months:\n",
    "    df = df.append(d[mth], ignore_index=True)"
   ]
  },
  {
   "cell_type": "code",
   "execution_count": 6,
   "metadata": {
    "collapsed": false
   },
   "outputs": [
    {
     "name": "stdout",
     "output_type": "stream",
     "text": [
      "         tripduration            starttime             stoptime  \\\n",
      "9937964           509  12/31/2015 16:50:17  12/31/2015 16:58:46   \n",
      "9937965           591  12/31/2015 17:17:52  12/31/2015 17:27:43   \n",
      "9937966           197  12/31/2015 17:56:22  12/31/2015 17:59:39   \n",
      "9937967           372  12/31/2015 21:20:38  12/31/2015 21:26:50   \n",
      "9937968           395  12/31/2015 21:49:19  12/31/2015 21:55:55   \n",
      "\n",
      "         start station id          start station name  start station latitude  \\\n",
      "9937964              3242  Schermerhorn St & Court St               40.691029   \n",
      "9937965              3242  Schermerhorn St & Court St               40.691029   \n",
      "9937966              3242  Schermerhorn St & Court St               40.691029   \n",
      "9937967              3242  Schermerhorn St & Court St               40.691029   \n",
      "9937968              3242  Schermerhorn St & Court St               40.691029   \n",
      "\n",
      "         start station longitude  end station id             end station name  \\\n",
      "9937964               -73.991834             261         Johnson St & Gold St   \n",
      "9937965               -73.991834             258  DeKalb Ave & Vanderbilt Ave   \n",
      "9937966               -73.991834             157      Henry St & Atlantic Ave   \n",
      "9937967               -73.991834             467              Dean St & 4 Ave   \n",
      "9937968               -73.991834             418           Front St & Gold St   \n",
      "\n",
      "         end station latitude  end station longitude  bikeid    usertype  \\\n",
      "9937964             40.694749             -73.983625   22282  Subscriber   \n",
      "9937965             40.689407             -73.968855   22366  Subscriber   \n",
      "9937966             40.690893             -73.996123   20663  Subscriber   \n",
      "9937967             40.683125             -73.978951   19782  Subscriber   \n",
      "9937968             40.702240             -73.982578   23411  Subscriber   \n",
      "\n",
      "         birth year  gender  \n",
      "9937964      1957.0       1  \n",
      "9937965      1978.0       1  \n",
      "9937966      1959.0       1  \n",
      "9937967      1987.0       1  \n",
      "9937968      1968.0       1  \n"
     ]
    }
   ],
   "source": [
    "#check out headers\n",
    "print(df.tail())"
   ]
  },
  {
   "cell_type": "code",
   "execution_count": 7,
   "metadata": {
    "collapsed": false
   },
   "outputs": [
    {
     "name": "stdout",
     "output_type": "stream",
     "text": [
      "Median trip duration: 629.0\n"
     ]
    }
   ],
   "source": [
    "print(\"Median trip duration:\", df[\"tripduration\"].median())"
   ]
  },
  {
   "cell_type": "code",
   "execution_count": 8,
   "metadata": {
    "collapsed": false
   },
   "outputs": [
    {
     "name": "stdout",
     "output_type": "stream",
     "text": [
      "Fraction of rides that start and end at same station: 0.0223583913373\n"
     ]
    }
   ],
   "source": [
    "#add new column to dataframe indicating whether start and end station IDs are the same or not\n",
    "df['same_start_end'] = pd.Series(df[\"start station id\"] == df[\"end station id\"], index=df.index)\n",
    "same_frac = df['same_start_end'].value_counts(normalize = True)\n",
    "print(\"Fraction of rides that start and end at same station:\", same_frac[True])"
   ]
  },
  {
   "cell_type": "code",
   "execution_count": null,
   "metadata": {
    "collapsed": true
   },
   "outputs": [],
   "source": []
  },
  {
   "cell_type": "code",
   "execution_count": 27,
   "metadata": {
    "collapsed": false
   },
   "outputs": [
    {
     "name": "stdout",
     "output_type": "stream",
     "text": [
      "8477\n"
     ]
    }
   ],
   "source": [
    "### count number of unique biks\n",
    "unique_bikes = df['bikeid'].unique()\n",
    "print(len(unique_bikes))"
   ]
  },
  {
   "cell_type": "code",
   "execution_count": 61,
   "metadata": {
    "collapsed": false
   },
   "outputs": [],
   "source": [
    "bikes = df.groupby('bikeid')"
   ]
  },
  {
   "cell_type": "code",
   "execution_count": 78,
   "metadata": {
    "collapsed": false
   },
   "outputs": [],
   "source": [
    "visited_stations = {}\n",
    "\n",
    "for k,v in bikes:\n",
    "    start_stations = bikes.get_group(k)['start station id']\n",
    "    end_stations = bikes.get_group(k)['end station id']\n",
    "    stations = pd.concat([start_stations, end_stations], axis=0, ignore_index = True)\n",
    "    unique_stations = stations.unique()\n",
    "    visited_stations[k] = len(unique_stations)"
   ]
  },
  {
   "cell_type": "code",
   "execution_count": 81,
   "metadata": {
    "collapsed": false
   },
   "outputs": [
    {
     "data": {
      "text/plain": [
       "54.541896535851848"
      ]
     },
     "execution_count": 81,
     "metadata": {},
     "output_type": "execute_result"
    }
   ],
   "source": [
    "np.std(list(visited_stations.values()))"
   ]
  },
  {
   "cell_type": "code",
   "execution_count": 93,
   "metadata": {
    "collapsed": false
   },
   "outputs": [
    {
     "data": {
      "text/plain": [
       "8477"
      ]
     },
     "execution_count": 93,
     "metadata": {},
     "output_type": "execute_result"
    }
   ],
   "source": [
    "len(vis)"
   ]
  },
  {
   "cell_type": "code",
   "execution_count": 102,
   "metadata": {
    "collapsed": false
   },
   "outputs": [
    {
     "name": "stdout",
     "output_type": "stream",
     "text": [
      "320.790020054\n",
      "333.0\n",
      "54.5418965359\n"
     ]
    },
    {
     "data": {
      "text/plain": [
       "array([  1,   1,   2,   2,   2,   2,   2,   2,   2,   2,   2,   2,   2,\n",
       "         2,   2,   3,   3,   3,   3,   3,   3,   4,   4,   4,   4,   4,\n",
       "         4,   4,   4,   4,   5,   5,   5,   6,   6,   6,   6,   6,   7,\n",
       "         7,   7,   8,   8,   8,   8,   9,   9,   9,  10,  11,  11,  11,\n",
       "        11,  11,  12,  12,  13,  13,  13,  14,  14,  14,  16,  17,  17,\n",
       "        17,  19,  21,  22,  22,  23,  26,  26,  26,  26,  27,  28,  29,\n",
       "        30,  34,  34,  35,  35,  35,  37,  39,  39,  41,  42,  45,  45,\n",
       "        46,  46,  47,  48,  49,  51,  51,  52,  53,  53,  54,  54,  54,\n",
       "        55,  56,  56,  58,  58,  59,  60,  61,  62,  62,  63,  63,  63,\n",
       "        63,  63,  64,  65,  65,  65,  66,  66,  67,  68,  68,  69,  70,\n",
       "        70,  74,  74,  75,  76,  76,  78,  79,  80,  80,  81,  81,  83,\n",
       "        83,  84,  84,  85,  85,  89,  90,  90,  91,  91,  93,  93,  93,\n",
       "        93,  95,  95,  96,  96,  97,  97,  98,  98, 100, 100, 100, 100,\n",
       "       102, 103, 104, 104, 104, 104, 104, 105, 106, 106, 107, 109, 109,\n",
       "       110, 111, 111, 112, 113, 113, 113, 114, 115, 115, 116, 116, 116,\n",
       "       116, 117, 117, 117, 119, 120, 120, 121, 121, 122, 123, 123, 124,\n",
       "       125, 126, 126, 128, 129, 129, 129, 129, 129, 130, 130, 130, 131,\n",
       "       132, 133, 134, 134, 134, 136, 137, 137, 137, 138, 138, 138, 139,\n",
       "       139, 139, 139, 142, 142, 143, 144, 145, 146, 146, 146, 147, 147,\n",
       "       147, 147, 148, 150, 150, 151, 151, 152, 153, 153, 154, 155, 155,\n",
       "       155, 155, 156, 158, 158, 159, 159, 161, 161, 162, 162, 162, 163,\n",
       "       163, 163, 163, 164, 164, 165, 165, 166, 167, 167, 167, 167, 168,\n",
       "       169, 170, 170, 170, 170, 171, 171, 171, 171, 171, 172, 172, 173,\n",
       "       173, 173, 174, 174, 174, 174, 174, 175, 175, 175, 176, 176, 176,\n",
       "       177, 177, 177, 178, 178, 179, 179, 179, 180, 180, 180, 181, 182,\n",
       "       182, 182, 182, 183, 184, 185, 185, 185, 185, 188, 188, 188, 188,\n",
       "       188, 189, 189, 189, 189, 191, 191, 191, 191, 191, 192, 193, 193,\n",
       "       193, 194, 196, 196, 196, 197, 197, 198, 198, 198, 198, 198, 199,\n",
       "       199, 199, 200, 201, 201, 201, 201, 201, 202, 202, 202, 203, 203,\n",
       "       203, 205, 205, 205, 206, 206, 207, 208, 208, 208, 209, 209, 210,\n",
       "       210, 210, 211, 212, 212, 212, 212, 212, 213, 214, 215, 215, 215,\n",
       "       216, 216, 217, 217, 218, 219, 219, 220, 220, 220, 220, 220, 220,\n",
       "       220, 221, 221, 221, 221, 222, 222, 223, 223, 223, 223, 223, 224,\n",
       "       224, 224, 224, 224, 224, 225, 226, 226, 226, 226, 226, 227, 227,\n",
       "       227, 227, 228, 228, 228, 228, 228, 228, 229, 229, 230, 230, 230,\n",
       "       230, 231, 231, 231, 231, 231, 231, 231, 232, 232, 232, 233, 233,\n",
       "       234, 234, 235, 235, 235, 235, 235, 236, 236, 236, 236, 236, 236,\n",
       "       236, 237, 238, 239, 239, 239, 240, 240, 240, 241, 241, 241, 241,\n",
       "       242, 242, 242, 243, 243, 243, 243, 243, 244, 244, 244, 245, 245,\n",
       "       245, 245, 245, 246, 246, 246, 246, 246, 247, 247, 247, 247, 247,\n",
       "       247, 247, 247, 247, 247, 247, 248, 248, 248, 248, 249, 249, 249,\n",
       "       249, 250, 251, 251, 251, 251, 251, 251, 251, 251, 251, 251, 252,\n",
       "       252, 252, 252, 252, 253, 253, 253, 253, 253, 253, 253, 253, 253,\n",
       "       254, 254, 254, 254, 254, 254, 255, 255, 255, 256, 256, 256, 256,\n",
       "       256, 256, 256, 257, 257, 257, 257, 257, 257, 257, 257, 257, 257,\n",
       "       258, 258, 258, 258, 258, 259, 259, 259, 259, 259, 260, 260, 260,\n",
       "       260, 260, 260, 260, 260, 260, 260, 261, 261, 261, 261, 261, 262,\n",
       "       262, 262, 262, 262, 263, 263, 263, 263, 263, 263, 263, 263, 264,\n",
       "       264, 264, 264, 264, 265, 265, 265, 265, 265, 266, 266, 266, 266,\n",
       "       266, 266, 266, 267, 267, 267, 267, 267, 267, 267, 267, 268, 268,\n",
       "       268, 268, 268, 268, 268, 268, 268, 268, 269, 269, 269, 269, 269,\n",
       "       269, 269, 269, 270, 270, 270, 271, 271, 271, 271, 271, 272, 272,\n",
       "       272, 272, 272, 272, 272, 272, 272, 272, 272, 272, 273, 273, 273,\n",
       "       273, 273, 273, 273, 274, 274, 274, 274, 274, 275, 275, 275, 275,\n",
       "       275, 275, 275, 276, 276, 276, 276, 276, 276, 276, 276, 276, 276,\n",
       "       276, 277, 277, 277, 277, 277, 277, 278, 278, 278, 278, 279, 279,\n",
       "       279, 279, 279, 279, 279, 279, 279, 279, 279, 279, 280, 280, 280,\n",
       "       280, 280, 280, 280, 280, 280, 280, 280, 280, 280, 280, 281, 281,\n",
       "       281, 281, 281, 281, 281, 281, 281, 281, 282, 282, 282, 282, 282,\n",
       "       282, 282, 282, 282, 282, 282, 282, 282, 282, 282, 283, 283, 283,\n",
       "       283, 283, 283, 283, 283, 283, 284, 284, 284, 284, 284, 285, 285,\n",
       "       285, 285, 285, 285, 285, 285, 286, 286, 286, 286, 286, 286, 286,\n",
       "       286, 286, 286, 286, 286, 287, 287, 287, 287, 287, 287, 287, 287,\n",
       "       287, 287, 287, 287, 287, 287, 287, 288, 288, 288, 288, 288, 288,\n",
       "       288, 288, 288, 288, 288, 288, 289, 289, 289, 289, 289, 289, 289,\n",
       "       289, 289, 289, 289, 289, 289, 289, 289, 289, 289, 289, 289, 290,\n",
       "       290, 290, 290, 290, 290, 290, 290, 290, 290, 290, 290, 290, 290,\n",
       "       290, 291, 291, 291, 291, 291, 291, 291, 291, 291, 291, 291, 291,\n",
       "       291, 291, 291, 291, 291, 292, 292, 292, 292, 292, 292, 292, 292,\n",
       "       293, 293, 293, 293, 293, 293, 293, 293, 293, 293, 293, 293, 293,\n",
       "       293, 293, 293, 293, 293, 293, 293, 294, 294, 294, 294, 294, 294,\n",
       "       294, 294, 294, 294, 294, 294, 294, 294, 294, 294, 295, 295, 295,\n",
       "       295, 295, 295, 295, 295, 295, 295, 295, 295, 295, 296, 296, 296,\n",
       "       296, 296, 296, 296, 296, 296, 296, 296, 296, 296, 296, 296, 296,\n",
       "       296, 296, 296, 296, 296, 297, 297, 297, 297, 297, 297, 297, 297,\n",
       "       297, 297, 297, 297, 297, 297, 297, 297, 297, 297, 297, 297, 297,\n",
       "       297, 298, 298, 298, 298, 298, 298, 298, 298, 298, 298, 298])"
      ]
     },
     "execution_count": 102,
     "metadata": {},
     "output_type": "execute_result"
    }
   ],
   "source": [
    "vis = list(visited_stations.values())\n",
    "print(np.mean(vis))\n",
    "print(np.median(vis))\n",
    "print(np.std(vis))\n",
    "np.sort(vis)[1000]"
   ]
  },
  {
   "cell_type": "code",
   "execution_count": null,
   "metadata": {
    "collapsed": true
   },
   "outputs": [],
   "source": []
  },
  {
   "cell_type": "code",
   "execution_count": null,
   "metadata": {
    "collapsed": true
   },
   "outputs": [],
   "source": []
  },
  {
   "cell_type": "code",
   "execution_count": null,
   "metadata": {
    "collapsed": true
   },
   "outputs": [],
   "source": []
  },
  {
   "cell_type": "code",
   "execution_count": null,
   "metadata": {
    "collapsed": true
   },
   "outputs": [],
   "source": []
  },
  {
   "cell_type": "code",
   "execution_count": 70,
   "metadata": {
    "collapsed": false
   },
   "outputs": [
    {
     "data": {
      "text/plain": [
       "pandas.core.series.Series"
      ]
     },
     "execution_count": 70,
     "metadata": {},
     "output_type": "execute_result"
    }
   ],
   "source": [
    "type(end_stations)"
   ]
  },
  {
   "cell_type": "code",
   "execution_count": 60,
   "metadata": {
    "collapsed": false
   },
   "outputs": [
    {
     "ename": "TypeError",
     "evalue": "unsupported operand type(s) for *: 'SeriesGroupBy' and 'int'",
     "output_type": "error",
     "traceback": [
      "\u001b[0;31m---------------------------------------------------------------------------\u001b[0m",
      "\u001b[0;31mTypeError\u001b[0m                                 Traceback (most recent call last)",
      "\u001b[0;32m<ipython-input-60-a73d5837d4fa>\u001b[0m in \u001b[0;36m<module>\u001b[0;34m()\u001b[0m\n\u001b[0;32m----> 1\u001b[0;31m \u001b[0mbikes\u001b[0m\u001b[0;34m[\u001b[0m\u001b[0;34m'test_column'\u001b[0m\u001b[0;34m]\u001b[0m \u001b[0;34m=\u001b[0m \u001b[0mbikes\u001b[0m\u001b[0;34m[\u001b[0m\u001b[0;34m'start station id'\u001b[0m\u001b[0;34m]\u001b[0m\u001b[0;34m*\u001b[0m\u001b[0;36m2\u001b[0m\u001b[0;34m\u001b[0m\u001b[0m\n\u001b[0m",
      "\u001b[0;31mTypeError\u001b[0m: unsupported operand type(s) for *: 'SeriesGroupBy' and 'int'"
     ]
    }
   ],
   "source": [
    "bikes['test_column'] = bikes['start station id']*2"
   ]
  },
  {
   "cell_type": "code",
   "execution_count": 13,
   "metadata": {
    "collapsed": false
   },
   "outputs": [],
   "source": [
    "start_stations = bikes['start station id']\n",
    "end_stations = bikes['end station id']"
   ]
  },
  {
   "cell_type": "code",
   "execution_count": 57,
   "metadata": {
    "collapsed": false
   },
   "outputs": [
    {
     "name": "stdout",
     "output_type": "stream",
     "text": [
      "<class 'numpy.int64'>\n",
      "<class 'pandas.core.series.Series'>\n",
      "<class 'numpy.int64'>\n",
      "<class 'pandas.core.series.Series'>\n",
      "<class 'numpy.int64'>\n",
      "<class 'pandas.core.series.Series'>\n"
     ]
    },
    {
     "ename": "KeyboardInterrupt",
     "evalue": "",
     "output_type": "error",
     "traceback": [
      "\u001b[0;31m---------------------------------------------------------------------------\u001b[0m",
      "\u001b[0;31mKeyboardInterrupt\u001b[0m                         Traceback (most recent call last)",
      "\u001b[0;32m<ipython-input-57-14ce1a24d7db>\u001b[0m in \u001b[0;36m<module>\u001b[0;34m()\u001b[0m\n\u001b[1;32m      2\u001b[0m     \u001b[0mprint\u001b[0m\u001b[0;34m(\u001b[0m\u001b[0mtype\u001b[0m\u001b[0;34m(\u001b[0m\u001b[0mk\u001b[0m\u001b[0;34m)\u001b[0m\u001b[0;34m)\u001b[0m\u001b[0;34m\u001b[0m\u001b[0m\n\u001b[1;32m      3\u001b[0m     \u001b[0mprint\u001b[0m\u001b[0;34m(\u001b[0m\u001b[0mtype\u001b[0m\u001b[0;34m(\u001b[0m\u001b[0mv\u001b[0m\u001b[0;34m)\u001b[0m\u001b[0;34m)\u001b[0m\u001b[0;34m\u001b[0m\u001b[0m\n\u001b[0;32m----> 4\u001b[0;31m     \u001b[0mtime\u001b[0m\u001b[0;34m.\u001b[0m\u001b[0msleep\u001b[0m\u001b[0;34m(\u001b[0m\u001b[0;36m3\u001b[0m\u001b[0;34m)\u001b[0m\u001b[0;34m\u001b[0m\u001b[0m\n\u001b[0m",
      "\u001b[0;31mKeyboardInterrupt\u001b[0m: "
     ]
    }
   ],
   "source": [
    "for k,v in start_stations:\n",
    "    print(type(k))\n",
    "    print(type(v))\n",
    "    time.sleep(3)"
   ]
  },
  {
   "cell_type": "code",
   "execution_count": 22,
   "metadata": {
    "collapsed": false
   },
   "outputs": [
    {
     "name": "stdout",
     "output_type": "stream",
     "text": [
      "14529\n",
      "1233\n",
      "14530\n",
      "588\n",
      "14531\n",
      "1081\n",
      "14532\n",
      "1088\n",
      "14533\n",
      "1326\n",
      "14534\n",
      "1308\n"
     ]
    },
    {
     "ename": "KeyboardInterrupt",
     "evalue": "",
     "output_type": "error",
     "traceback": [
      "\u001b[0;31m---------------------------------------------------------------------------\u001b[0m",
      "\u001b[0;31mKeyboardInterrupt\u001b[0m                         Traceback (most recent call last)",
      "\u001b[0;32m<ipython-input-22-35612a465a6a>\u001b[0m in \u001b[0;36m<module>\u001b[0;34m()\u001b[0m\n\u001b[1;32m      2\u001b[0m     \u001b[0mprint\u001b[0m\u001b[0;34m(\u001b[0m\u001b[0mk\u001b[0m\u001b[0;34m)\u001b[0m\u001b[0;34m\u001b[0m\u001b[0m\n\u001b[1;32m      3\u001b[0m     \u001b[0mprint\u001b[0m\u001b[0;34m(\u001b[0m\u001b[0mlen\u001b[0m\u001b[0;34m(\u001b[0m\u001b[0mv\u001b[0m\u001b[0;34m)\u001b[0m\u001b[0;34m)\u001b[0m\u001b[0;34m\u001b[0m\u001b[0m\n\u001b[0;32m----> 4\u001b[0;31m     \u001b[0mtime\u001b[0m\u001b[0;34m.\u001b[0m\u001b[0msleep\u001b[0m\u001b[0;34m(\u001b[0m\u001b[0;36m3\u001b[0m\u001b[0;34m)\u001b[0m\u001b[0;34m\u001b[0m\u001b[0m\n\u001b[0m",
      "\u001b[0;31mKeyboardInterrupt\u001b[0m: "
     ]
    }
   ],
   "source": [
    "for k,v in start_stations:\n",
    "    print(k)\n",
    "    print(len(v))\n",
    "    time.sleep(3)"
   ]
  },
  {
   "cell_type": "code",
   "execution_count": 43,
   "metadata": {
    "collapsed": false
   },
   "outputs": [
    {
     "data": {
      "text/plain": [
       "1524        326\n",
       "1793        497\n",
       "5715        496\n",
       "8123        195\n",
       "8360        250\n",
       "8642        358\n",
       "8812        435\n",
       "9156        466\n",
       "29006       362\n",
       "40268       456\n",
       "41290       498\n",
       "42450       474\n",
       "46917       478\n",
       "49233       520\n",
       "52693       379\n",
       "64762       468\n",
       "66571       465\n",
       "69884       348\n",
       "70780       128\n",
       "71709       508\n",
       "74789       362\n",
       "74959       167\n",
       "92747       465\n",
       "93800       359\n",
       "94762       479\n",
       "95286       512\n",
       "95408       489\n",
       "95589       515\n",
       "95984       434\n",
       "97689       357\n",
       "           ... \n",
       "9673414     499\n",
       "9673468     499\n",
       "9683359     503\n",
       "9691099     505\n",
       "9702844     510\n",
       "9704054     511\n",
       "9704064     511\n",
       "9710968     513\n",
       "9718734     517\n",
       "9721447     517\n",
       "9727077     519\n",
       "9732240     519\n",
       "9738998     521\n",
       "9740958     521\n",
       "9742686     522\n",
       "9748180     523\n",
       "9767093     531\n",
       "9771969     533\n",
       "9775500     536\n",
       "9778113     537\n",
       "9785418     540\n",
       "9786726     545\n",
       "9856904    3134\n",
       "9860888    3137\n",
       "9860914    3137\n",
       "9862644    3139\n",
       "9891913    3160\n",
       "9904603    3168\n",
       "9912224    3175\n",
       "9926818    3230\n",
       "Name: start station id, dtype: int64"
      ]
     },
     "execution_count": 43,
     "metadata": {},
     "output_type": "execute_result"
    }
   ],
   "source": [
    "list(start_stations)[0][1]"
   ]
  },
  {
   "cell_type": "code",
   "execution_count": 47,
   "metadata": {
    "collapsed": false
   },
   "outputs": [
    {
     "data": {
      "text/plain": [
       "array([ 326,  497,  496,  195,  250,  358,  435,  466,  362,  456,  498,\n",
       "        474,  478,  520,  379,  468,  465,  348,  128,  508,  167,  359,\n",
       "        479,  512,  489,  515,  434,  357,  469,  490,  352, 2022,  447,\n",
       "        495,  237,  402,  280,  342,  531,  296,  249,  540,  476,  393,\n",
       "        300,  336, 2010,  368,  463,  127,  382,  223,  293,  403,  317,\n",
       "        151,  238,  477,  526,  488,  380,  455,  267,  513,  404,  327,\n",
       "        521,  533,  507,  236,  325,  459,  426,  347,  294,  523,  546,\n",
       "        445,  517,  537,  464,  433,  312,  518,  164,  538,  458,  530,\n",
       "        328,  318, 2006,  499,  461,  334,  264,  504,  411,  301,  491,\n",
       "        511, 2012,  501,  522,  510,  441,  485,  305,  480,  484,  446,\n",
       "       2021,  310,  406,  376,  146,  408,  505,  375,  536,  525,  448,\n",
       "        259,  400,  303,  152,  306,  276,  316,  415,  279, 2004,  252,\n",
       "        503,  516,  308,  363,  346,  383,  492,  487,  168,  527,  509,\n",
       "        483,  297,  438,  401,  356,  229,   79,  268,  355,  254,  337,\n",
       "        423,  524,  153,  290,  405,  369,  432,  442,  519,  367, 2023,\n",
       "        281,  248,  345,  284,  265,  481,  414,  261,  217,  239,  419,\n",
       "        143, 2002,  262,  243,  295,  439,  329,  444, 2008,  450,  500,\n",
       "        228,  472,  147,  364,  418, 2009,   82,  387,  321,  225,  427,\n",
       "        431,  420,  270,  271,  514,  422,  224,  247,  529,  161,  532,\n",
       "        282,  430, 2000,  386,  528,  475,  253,  462,  428,  534,  116,\n",
       "        263,  412,  332,  311,  545,  285,  486,  251,  453,  340,  351,\n",
       "        417,  377,  174,  440,  335,  473,  366,  372,  436,  353,  409,\n",
       "        330,  449,  494,  150,  502,  388,  307,  339,  493,  173, 2003,\n",
       "       3002,  349,  457,  304,  324,  314,  390,  539,  460,  160,  302,\n",
       "        212,  323,  157,  416,  394,  315,  360,  320,   83,  350,  257,\n",
       "        331,  361,  385, 3129, 3124, 3127, 3104,  144,  392,  471, 3108,\n",
       "        482,  137, 3169, 3136, 3149,  233,  391, 3148, 3156, 3230,  470,\n",
       "        319, 3175,  384,  399,  313,  278, 3143, 3146, 3172, 3167, 3164,\n",
       "       3158, 3170, 3165,  341, 3137, 3168, 3122, 3119, 3126, 3111, 3078,\n",
       "        389, 3092,  218,  407,  467, 3141,  343,  398, 3134, 3139, 3160])"
      ]
     },
     "execution_count": 47,
     "metadata": {},
     "output_type": "execute_result"
    }
   ],
   "source": [
    "bikes.get_group(14529)['start station id'].unique()"
   ]
  },
  {
   "cell_type": "code",
   "execution_count": 39,
   "metadata": {
    "collapsed": false
   },
   "outputs": [
    {
     "ename": "Exception",
     "evalue": "Column(s) start station id already selected",
     "output_type": "error",
     "traceback": [
      "\u001b[0;31m---------------------------------------------------------------------------\u001b[0m",
      "\u001b[0;31mException\u001b[0m                                 Traceback (most recent call last)",
      "\u001b[0;32m<ipython-input-39-dfce91b674c6>\u001b[0m in \u001b[0;36m<module>\u001b[0;34m()\u001b[0m\n\u001b[0;32m----> 1\u001b[0;31m \u001b[0mstart_groups\u001b[0m \u001b[0;34m=\u001b[0m \u001b[0mstart_stations\u001b[0m\u001b[0;34m[\u001b[0m\u001b[0;34m:\u001b[0m\u001b[0;34m]\u001b[0m\u001b[0;34m[\u001b[0m\u001b[0;36m1\u001b[0m\u001b[0;34m]\u001b[0m\u001b[0;34m.\u001b[0m\u001b[0mgroups\u001b[0m\u001b[0;34m\u001b[0m\u001b[0m\n\u001b[0m",
      "\u001b[0;32m//anaconda/lib/python3.5/site-packages/pandas/core/base.py\u001b[0m in \u001b[0;36m__getitem__\u001b[0;34m(self, key)\u001b[0m\n\u001b[1;32m    328\u001b[0m     \u001b[0;32mdef\u001b[0m \u001b[0m__getitem__\u001b[0m\u001b[0;34m(\u001b[0m\u001b[0mself\u001b[0m\u001b[0;34m,\u001b[0m \u001b[0mkey\u001b[0m\u001b[0;34m)\u001b[0m\u001b[0;34m:\u001b[0m\u001b[0;34m\u001b[0m\u001b[0m\n\u001b[1;32m    329\u001b[0m         \u001b[0;32mif\u001b[0m \u001b[0mself\u001b[0m\u001b[0;34m.\u001b[0m\u001b[0m_selection\u001b[0m \u001b[0;32mis\u001b[0m \u001b[0;32mnot\u001b[0m \u001b[0;32mNone\u001b[0m\u001b[0;34m:\u001b[0m\u001b[0;34m\u001b[0m\u001b[0m\n\u001b[0;32m--> 330\u001b[0;31m             \u001b[0;32mraise\u001b[0m \u001b[0mException\u001b[0m\u001b[0;34m(\u001b[0m\u001b[0;34m'Column(s) %s already selected'\u001b[0m \u001b[0;34m%\u001b[0m \u001b[0mself\u001b[0m\u001b[0;34m.\u001b[0m\u001b[0m_selection\u001b[0m\u001b[0;34m)\u001b[0m\u001b[0;34m\u001b[0m\u001b[0m\n\u001b[0m\u001b[1;32m    331\u001b[0m \u001b[0;34m\u001b[0m\u001b[0m\n\u001b[1;32m    332\u001b[0m         if isinstance(key, (list, tuple, ABCSeries, ABCIndexClass,\n",
      "\u001b[0;31mException\u001b[0m: Column(s) start station id already selected"
     ]
    }
   ],
   "source": [
    "start_groups = start_stations[:][1].groups"
   ]
  },
  {
   "cell_type": "code",
   "execution_count": 28,
   "metadata": {
    "collapsed": false
   },
   "outputs": [
    {
     "name": "stdout",
     "output_type": "stream",
     "text": [
      "16384\n",
      "Int64Index([ 310666,  310792,  310827,  311876,  311957,  312174,  312284,\n",
      "             317817,  327540,  329184,\n",
      "            ...\n",
      "            9871878, 9876316, 9887862, 9891524, 9894988, 9900518, 9901120,\n",
      "            9918194, 9926187, 9929251],\n",
      "           dtype='int64', length=1261)\n",
      "16385\n",
      "Int64Index([  57492,   57562,   59694,   60688,   63911,   64175,   67342,\n",
      "              70718,  150859,  154102,\n",
      "            ...\n",
      "            9864457, 9864462, 9867593, 9873595, 9878460, 9881575, 9907128,\n",
      "            9909383, 9918169, 9933977],\n",
      "           dtype='int64', length=980)\n"
     ]
    },
    {
     "ename": "KeyboardInterrupt",
     "evalue": "",
     "output_type": "error",
     "traceback": [
      "\u001b[0;31m---------------------------------------------------------------------------\u001b[0m",
      "\u001b[0;31mKeyboardInterrupt\u001b[0m                         Traceback (most recent call last)",
      "\u001b[0;32m<ipython-input-28-960a32fb96e8>\u001b[0m in \u001b[0;36m<module>\u001b[0;34m()\u001b[0m\n\u001b[1;32m      2\u001b[0m     \u001b[0mprint\u001b[0m\u001b[0;34m(\u001b[0m\u001b[0mk\u001b[0m\u001b[0;34m)\u001b[0m\u001b[0;34m\u001b[0m\u001b[0m\n\u001b[1;32m      3\u001b[0m     \u001b[0mprint\u001b[0m\u001b[0;34m(\u001b[0m\u001b[0mv\u001b[0m\u001b[0;34m)\u001b[0m\u001b[0;34m\u001b[0m\u001b[0m\n\u001b[0;32m----> 4\u001b[0;31m     \u001b[0mtime\u001b[0m\u001b[0;34m.\u001b[0m\u001b[0msleep\u001b[0m\u001b[0;34m(\u001b[0m\u001b[0;36m3\u001b[0m\u001b[0;34m)\u001b[0m\u001b[0;34m\u001b[0m\u001b[0m\n\u001b[0m",
      "\u001b[0;31mKeyboardInterrupt\u001b[0m: "
     ]
    }
   ],
   "source": [
    "for k,v in start_groups.items():\n",
    "    print(k)\n",
    "    print(v)\n",
    "    time.sleep(3)"
   ]
  },
  {
   "cell_type": "code",
   "execution_count": 25,
   "metadata": {
    "collapsed": false
   },
   "outputs": [
    {
     "data": {
      "text/plain": [
       "8477"
      ]
     },
     "execution_count": 25,
     "metadata": {},
     "output_type": "execute_result"
    }
   ],
   "source": [
    "len(start_groups.keys())"
   ]
  },
  {
   "cell_type": "code",
   "execution_count": null,
   "metadata": {
    "collapsed": true
   },
   "outputs": [],
   "source": []
  }
 ],
 "metadata": {
  "kernelspec": {
   "display_name": "Python 3",
   "language": "python",
   "name": "python3"
  },
  "language_info": {
   "codemirror_mode": {
    "name": "ipython",
    "version": 3
   },
   "file_extension": ".py",
   "mimetype": "text/x-python",
   "name": "python",
   "nbconvert_exporter": "python",
   "pygments_lexer": "ipython3",
   "version": "3.5.2"
  }
 },
 "nbformat": 4,
 "nbformat_minor": 0
}
