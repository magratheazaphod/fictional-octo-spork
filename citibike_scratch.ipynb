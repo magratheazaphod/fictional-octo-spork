{
 "cells": [
  {
   "cell_type": "code",
   "execution_count": 262,
   "metadata": {
    "collapsed": true
   },
   "outputs": [],
   "source": [
    "#use Pandas to import data\n",
    "import pandas as pd\n",
    "import zipfile\n",
    "import requests\n",
    "import io\n",
    "import time\n",
    "import numpy as np\n",
    "from datetime import datetime\n",
    "import re\n",
    "from dateutil.parser import parse"
   ]
  },
  {
   "cell_type": "code",
   "execution_count": 2,
   "metadata": {
    "collapsed": true
   },
   "outputs": [],
   "source": [
    "## information on filename\n",
    "citidir = \"https://s3.amazonaws.com/tripdata/\"\n",
    "citi_extension = \"-citibike-tripdata\"\n",
    "year = 2015\n",
    "months = ['01','02','03','04','05','06','07','08','09','10','11','12']"
   ]
  },
  {
   "cell_type": "code",
   "execution_count": 3,
   "metadata": {
    "collapsed": false
   },
   "outputs": [
    {
     "name": "stdout",
     "output_type": "stream",
     "text": [
      "https://s3.amazonaws.com/tripdata/201501-citibike-tripdata.zip\n",
      "https://s3.amazonaws.com/tripdata/201502-citibike-tripdata.zip\n",
      "https://s3.amazonaws.com/tripdata/201503-citibike-tripdata.zip\n",
      "https://s3.amazonaws.com/tripdata/201504-citibike-tripdata.zip\n",
      "https://s3.amazonaws.com/tripdata/201505-citibike-tripdata.zip\n",
      "https://s3.amazonaws.com/tripdata/201506-citibike-tripdata.zip\n",
      "https://s3.amazonaws.com/tripdata/201507-citibike-tripdata.zip\n",
      "https://s3.amazonaws.com/tripdata/201508-citibike-tripdata.zip\n",
      "https://s3.amazonaws.com/tripdata/201509-citibike-tripdata.zip\n",
      "https://s3.amazonaws.com/tripdata/201510-citibike-tripdata.zip\n",
      "https://s3.amazonaws.com/tripdata/201511-citibike-tripdata.zip\n",
      "https://s3.amazonaws.com/tripdata/201512-citibike-tripdata.zip\n"
     ]
    }
   ],
   "source": [
    "## store all data first in dictionary format using months as keys\n",
    "d = {}\n",
    "\n",
    "## download monthly data from the web for each month\n",
    "for mth in months:\n",
    "    #create filenames for given month\n",
    "    filename = str(year) + mth + citi_extension\n",
    "    citibike_zip_filename = citidir + filename + \".zip\"\n",
    "    citibike_csv_filename = filename + \".csv\"\n",
    "    print(citibike_zip_filename)\n",
    "    \n",
    "    #find file and use read_csv to save in dictionary of dataframes\n",
    "    requested_file = requests.get(citibike_zip_filename)\n",
    "    z = zipfile.ZipFile(io.BytesIO(requested_file.content))\n",
    "    d[mth] = pd.read_csv(z.open(citibike_csv_filename), header=0, sep=',', quotechar='\"')"
   ]
  },
  {
   "cell_type": "code",
   "execution_count": 4,
   "metadata": {
    "collapsed": true
   },
   "outputs": [],
   "source": [
    "## Concatenate into single yearly dataframe\n",
    "df = pd.DataFrame()\n",
    "\n",
    "## append results of each month\n",
    "for mth in months:\n",
    "    df = df.append(d[mth], ignore_index=True)"
   ]
  },
  {
   "cell_type": "code",
   "execution_count": 6,
   "metadata": {
    "collapsed": false
   },
   "outputs": [
    {
     "name": "stdout",
     "output_type": "stream",
     "text": [
      "         tripduration            starttime             stoptime  \\\n",
      "9937964           509  12/31/2015 16:50:17  12/31/2015 16:58:46   \n",
      "9937965           591  12/31/2015 17:17:52  12/31/2015 17:27:43   \n",
      "9937966           197  12/31/2015 17:56:22  12/31/2015 17:59:39   \n",
      "9937967           372  12/31/2015 21:20:38  12/31/2015 21:26:50   \n",
      "9937968           395  12/31/2015 21:49:19  12/31/2015 21:55:55   \n",
      "\n",
      "         start station id          start station name  start station latitude  \\\n",
      "9937964              3242  Schermerhorn St & Court St               40.691029   \n",
      "9937965              3242  Schermerhorn St & Court St               40.691029   \n",
      "9937966              3242  Schermerhorn St & Court St               40.691029   \n",
      "9937967              3242  Schermerhorn St & Court St               40.691029   \n",
      "9937968              3242  Schermerhorn St & Court St               40.691029   \n",
      "\n",
      "         start station longitude  end station id             end station name  \\\n",
      "9937964               -73.991834             261         Johnson St & Gold St   \n",
      "9937965               -73.991834             258  DeKalb Ave & Vanderbilt Ave   \n",
      "9937966               -73.991834             157      Henry St & Atlantic Ave   \n",
      "9937967               -73.991834             467              Dean St & 4 Ave   \n",
      "9937968               -73.991834             418           Front St & Gold St   \n",
      "\n",
      "         end station latitude  end station longitude  bikeid    usertype  \\\n",
      "9937964             40.694749             -73.983625   22282  Subscriber   \n",
      "9937965             40.689407             -73.968855   22366  Subscriber   \n",
      "9937966             40.690893             -73.996123   20663  Subscriber   \n",
      "9937967             40.683125             -73.978951   19782  Subscriber   \n",
      "9937968             40.702240             -73.982578   23411  Subscriber   \n",
      "\n",
      "         birth year  gender  \n",
      "9937964      1957.0       1  \n",
      "9937965      1978.0       1  \n",
      "9937966      1959.0       1  \n",
      "9937967      1987.0       1  \n",
      "9937968      1968.0       1  \n"
     ]
    }
   ],
   "source": [
    "#check out headers\n",
    "print(df.tail())"
   ]
  },
  {
   "cell_type": "code",
   "execution_count": 7,
   "metadata": {
    "collapsed": false
   },
   "outputs": [
    {
     "name": "stdout",
     "output_type": "stream",
     "text": [
      "Median trip duration: 629.0\n"
     ]
    }
   ],
   "source": [
    "print(\"Median trip duration:\", df[\"tripduration\"].median())"
   ]
  },
  {
   "cell_type": "code",
   "execution_count": 8,
   "metadata": {
    "collapsed": false
   },
   "outputs": [
    {
     "name": "stdout",
     "output_type": "stream",
     "text": [
      "Fraction of rides that start and end at same station: 0.0223583913373\n"
     ]
    }
   ],
   "source": [
    "#add new column to dataframe indicating whether start and end station IDs are the same or not\n",
    "df['same_start_end'] = pd.Series(df[\"start station id\"] == df[\"end station id\"], index=df.index)\n",
    "same_frac = df['same_start_end'].value_counts(normalize = True)\n",
    "print(\"Fraction of rides that start and end at same station:\", same_frac[True])"
   ]
  },
  {
   "cell_type": "code",
   "execution_count": null,
   "metadata": {
    "collapsed": true
   },
   "outputs": [],
   "source": []
  },
  {
   "cell_type": "code",
   "execution_count": 27,
   "metadata": {
    "collapsed": false
   },
   "outputs": [
    {
     "name": "stdout",
     "output_type": "stream",
     "text": [
      "8477\n"
     ]
    }
   ],
   "source": [
    "### count number of unique biks\n",
    "unique_bikes = df['bikeid'].unique()\n",
    "print(len(unique_bikes))"
   ]
  },
  {
   "cell_type": "code",
   "execution_count": 61,
   "metadata": {
    "collapsed": false
   },
   "outputs": [],
   "source": [
    "bikes = df.groupby('bikeid')"
   ]
  },
  {
   "cell_type": "code",
   "execution_count": 78,
   "metadata": {
    "collapsed": false
   },
   "outputs": [],
   "source": [
    "visited_stations = {}\n",
    "\n",
    "for k,v in bikes:\n",
    "    start_stations = bikes.get_group(k)['start station id']\n",
    "    end_stations = bikes.get_group(k)['end station id']\n",
    "    stations = pd.concat([start_stations, end_stations], axis=0, ignore_index = True)\n",
    "    unique_stations = stations.unique()\n",
    "    visited_stations[k] = len(unique_stations)"
   ]
  },
  {
   "cell_type": "code",
   "execution_count": 81,
   "metadata": {
    "collapsed": false
   },
   "outputs": [
    {
     "data": {
      "text/plain": [
       "54.541896535851848"
      ]
     },
     "execution_count": 81,
     "metadata": {},
     "output_type": "execute_result"
    }
   ],
   "source": [
    "np.std(list(visited_stations.values()))"
   ]
  },
  {
   "cell_type": "code",
   "execution_count": 93,
   "metadata": {
    "collapsed": false
   },
   "outputs": [
    {
     "data": {
      "text/plain": [
       "8477"
      ]
     },
     "execution_count": 93,
     "metadata": {},
     "output_type": "execute_result"
    }
   ],
   "source": [
    "len(vis)"
   ]
  },
  {
   "cell_type": "code",
   "execution_count": 104,
   "metadata": {
    "collapsed": false
   },
   "outputs": [
    {
     "name": "stdout",
     "output_type": "stream",
     "text": [
      "320.790020054\n",
      "333.0\n",
      "54.5418965359\n"
     ]
    },
    {
     "data": {
      "text/plain": [
       "array([355, 355, 355, 355, 355, 355, 355, 355, 355, 355, 355, 355, 355,\n",
       "       355, 355, 355, 355, 355, 355, 355, 355, 355, 355, 355, 355, 355,\n",
       "       355, 355, 355, 355, 355, 355, 355, 355, 355, 355, 355, 355, 355,\n",
       "       355, 355, 355, 355, 355, 355, 355, 355, 355, 355, 355, 355, 355,\n",
       "       355, 355, 355, 355, 355, 355, 355, 355, 355, 355, 355, 355, 356,\n",
       "       356, 356, 356, 356, 356, 356, 356, 356, 356, 356, 356, 356, 356,\n",
       "       356, 356, 356, 356, 356, 356, 356, 356, 356, 356, 356, 356, 356,\n",
       "       356, 356, 356, 356, 356, 356, 356, 356, 356, 356, 356, 356, 356,\n",
       "       356, 356, 356, 356, 356, 356, 356, 356, 356, 356, 356, 356, 356,\n",
       "       356, 356, 356, 356, 356, 356, 356, 356, 356, 356, 356, 356, 356,\n",
       "       356, 356, 356, 356, 356, 356, 356, 356, 356, 356, 356, 356, 356,\n",
       "       356, 357, 357, 357, 357, 357, 357, 357, 357, 357, 357, 357, 357,\n",
       "       357, 357, 357, 357, 357, 357, 357, 357, 357, 357, 357, 357, 357,\n",
       "       357, 357, 357, 357, 357, 357, 357, 357, 357, 357, 357, 357, 357,\n",
       "       357, 357, 357, 357, 357, 357, 357, 357, 357, 357, 357, 357, 357,\n",
       "       357, 357, 357, 357, 357, 357, 357, 357, 357, 357, 357, 357, 358,\n",
       "       358, 358, 358, 358, 358, 358, 358, 358, 358, 358, 358, 358, 358,\n",
       "       358, 358, 358, 358, 358, 358, 358, 358, 358, 358, 358, 358, 358,\n",
       "       358, 358, 358, 358, 358, 358, 358, 358, 358, 358, 358, 358, 358,\n",
       "       358, 358, 358, 358, 358, 358, 358, 358, 358, 358, 358, 358, 358,\n",
       "       358, 358, 358, 358, 358, 358, 358, 358, 358, 358, 358, 358, 358,\n",
       "       358, 358, 358, 359, 359, 359, 359, 359, 359, 359, 359, 359, 359,\n",
       "       359, 359, 359, 359, 359, 359, 359, 359, 359, 359, 359, 359, 359,\n",
       "       359, 359, 359, 359, 359, 359, 359, 359, 359, 359, 359, 359, 359,\n",
       "       359, 359, 359, 359, 359, 359, 359, 359, 359, 359, 359, 359, 359,\n",
       "       359, 359, 359, 359, 359, 359, 359, 359, 359, 359, 360, 360, 360,\n",
       "       360, 360, 360, 360, 360, 360, 360, 360, 360, 360, 360, 360, 360,\n",
       "       360, 360, 360, 360, 360, 360, 360, 360, 360, 360, 360, 360, 360,\n",
       "       360, 360, 360, 360, 360, 360, 360, 360, 360, 360, 360, 360, 360,\n",
       "       360, 360, 360, 360, 360, 360, 360, 360, 360, 360, 360, 360, 360,\n",
       "       360, 360, 360, 360, 360, 360, 360, 360, 360, 360, 360, 360, 360,\n",
       "       360, 360, 360, 360, 360, 360, 360, 360, 360, 361, 361, 361, 361,\n",
       "       361, 361, 361, 361, 361, 361, 361, 361, 361, 361, 361, 361, 361,\n",
       "       361, 361, 361, 361, 361, 361, 361, 361, 361, 361, 361, 361, 361,\n",
       "       361, 361, 361, 361, 361, 361, 361, 361, 361, 361, 361, 361, 361,\n",
       "       361, 361, 362, 362, 362, 362, 362, 362, 362, 362, 362, 362, 362,\n",
       "       362, 362, 362, 362, 362, 362, 362, 362, 362, 362, 362, 362, 362,\n",
       "       362, 362, 362, 362, 362, 362, 362, 362, 362, 362, 362, 362, 362,\n",
       "       362, 362, 362, 362, 362, 362, 362, 362, 362, 362, 362, 362, 362,\n",
       "       362, 362, 362, 362, 362, 362, 362, 362, 363, 363, 363, 363, 363,\n",
       "       363, 363, 363, 363, 363, 363, 363, 363, 363, 363, 363, 363, 363,\n",
       "       363, 363, 363, 363, 363, 363, 363, 363, 363, 363, 363, 363, 363,\n",
       "       363, 363, 363, 363, 363, 363, 363, 363, 363, 363, 363, 363, 363,\n",
       "       363, 363, 363, 363, 363, 363, 363, 363, 363, 364, 364, 364, 364,\n",
       "       364, 364, 364, 364, 364, 364, 364, 364, 364, 364, 364, 364, 364,\n",
       "       364, 364, 364, 364, 364, 364, 364, 364, 364, 364, 364, 364, 364,\n",
       "       364, 364, 364, 364, 364, 364, 364, 364, 365, 365, 365, 365, 365,\n",
       "       365, 365, 365, 365, 365, 365, 365, 365, 365, 365, 365, 365, 365,\n",
       "       365, 365, 365, 365, 365, 365, 365, 365, 365, 365, 365, 365, 365,\n",
       "       365, 366, 366, 366, 366, 366, 366, 366, 366, 366, 366, 366, 366,\n",
       "       366, 366, 366, 366, 366, 366, 366, 366, 366, 366, 366, 366, 366,\n",
       "       366, 367, 367, 367, 367, 367, 367, 367, 367, 367, 367, 367, 367,\n",
       "       367, 367, 367, 367, 367, 367, 367, 367, 367, 367, 367, 367, 367,\n",
       "       367, 367, 367, 367, 367, 367, 367, 367, 367, 367, 367, 367, 367,\n",
       "       367, 367, 367, 367, 368, 368, 368, 368, 368, 368, 368, 368, 368,\n",
       "       368, 368, 368, 368, 368, 368, 368, 368, 368, 368, 368, 368, 368,\n",
       "       368, 368, 368, 368, 368, 368, 368, 368, 368, 368, 368, 368, 368,\n",
       "       368, 369, 369, 369, 369, 369, 369, 369, 369, 369, 369, 369, 369,\n",
       "       369, 369, 369, 369, 369, 369, 369, 369, 369, 369, 369, 370, 370,\n",
       "       370, 370, 370, 370, 370, 370, 370, 370, 370, 370, 370, 370, 370,\n",
       "       370, 370, 370, 370, 370, 370, 370, 370, 370, 370, 370, 370, 370,\n",
       "       370, 370, 371, 371, 371, 371, 371, 371, 371, 371, 371, 371, 371,\n",
       "       371, 371, 371, 371, 371, 371, 371, 371, 371, 371, 371, 371, 371,\n",
       "       371, 371, 371, 371, 371, 372, 372, 372, 372, 372, 372, 372, 372,\n",
       "       372, 372, 372, 372, 372, 373, 373, 373, 373, 373, 373, 373, 373,\n",
       "       373, 373, 373, 373, 373, 373, 373, 373, 373, 373, 373, 373, 373,\n",
       "       374, 374, 374, 374, 374, 374, 374, 374, 374, 374, 374, 374, 374,\n",
       "       374, 374, 374, 374, 374, 374, 375, 375, 375, 375, 375, 375, 375,\n",
       "       375, 375, 375, 375, 375, 375, 375, 375, 375, 375, 376, 376, 376,\n",
       "       376, 376, 376, 376, 376, 376, 376, 376, 377, 377, 377, 377, 377,\n",
       "       377, 377, 377, 377, 377, 377, 377, 378, 378, 378, 378, 378, 378,\n",
       "       378, 378, 378, 378, 378, 378, 378, 379, 379, 379, 379, 379, 379,\n",
       "       379, 379, 379, 380, 380, 380, 380, 380, 380, 380, 380, 380, 380,\n",
       "       381, 381, 381, 381, 381, 382, 382, 382, 382, 382, 382, 382, 382,\n",
       "       382, 382, 382, 383, 383, 383, 383, 383, 383, 383, 384, 384, 385,\n",
       "       385, 385, 385, 385, 385, 385, 386, 386, 386, 386, 386, 387, 387,\n",
       "       387, 388, 388, 389, 389, 390, 390, 390, 390, 390, 391, 392])"
      ]
     },
     "execution_count": 104,
     "metadata": {},
     "output_type": "execute_result"
    }
   ],
   "source": [
    "vis = list(visited_stations.values())\n",
    "print(np.mean(vis))\n",
    "print(np.median(vis))\n",
    "print(np.std(vis))\n",
    "np.sort(vis)[-1000:]"
   ]
  },
  {
   "cell_type": "code",
   "execution_count": 266,
   "metadata": {
    "collapsed": true
   },
   "outputs": [],
   "source": []
  },
  {
   "cell_type": "code",
   "execution_count": 295,
   "metadata": {
    "collapsed": false
   },
   "outputs": [
    {
     "data": {
      "text/html": [
       "<div>\n",
       "<table border=\"1\" class=\"dataframe\">\n",
       "  <thead>\n",
       "    <tr style=\"text-align: right;\">\n",
       "      <th></th>\n",
       "      <th>tripduration</th>\n",
       "      <th>starttime</th>\n",
       "      <th>stoptime</th>\n",
       "      <th>start station id</th>\n",
       "      <th>start station name</th>\n",
       "      <th>start station latitude</th>\n",
       "      <th>start station longitude</th>\n",
       "      <th>end station id</th>\n",
       "      <th>end station name</th>\n",
       "      <th>end station latitude</th>\n",
       "      <th>end station longitude</th>\n",
       "      <th>bikeid</th>\n",
       "      <th>usertype</th>\n",
       "      <th>birth year</th>\n",
       "      <th>gender</th>\n",
       "      <th>same_start_end</th>\n",
       "    </tr>\n",
       "  </thead>\n",
       "  <tbody>\n",
       "    <tr>\n",
       "      <th>0</th>\n",
       "      <td>1346</td>\n",
       "      <td>1/1/2015 0:01</td>\n",
       "      <td>1/1/2015 0:24</td>\n",
       "      <td>455</td>\n",
       "      <td>1 Ave &amp; E 44 St</td>\n",
       "      <td>40.750020</td>\n",
       "      <td>-73.969053</td>\n",
       "      <td>265</td>\n",
       "      <td>Stanton St &amp; Chrystie St</td>\n",
       "      <td>40.722293</td>\n",
       "      <td>-73.991475</td>\n",
       "      <td>18660</td>\n",
       "      <td>Subscriber</td>\n",
       "      <td>1960.0</td>\n",
       "      <td>2</td>\n",
       "      <td>False</td>\n",
       "    </tr>\n",
       "    <tr>\n",
       "      <th>1</th>\n",
       "      <td>363</td>\n",
       "      <td>1/1/2015 0:02</td>\n",
       "      <td>1/1/2015 0:08</td>\n",
       "      <td>434</td>\n",
       "      <td>9 Ave &amp; W 18 St</td>\n",
       "      <td>40.743174</td>\n",
       "      <td>-74.003664</td>\n",
       "      <td>482</td>\n",
       "      <td>W 15 St &amp; 7 Ave</td>\n",
       "      <td>40.739355</td>\n",
       "      <td>-73.999318</td>\n",
       "      <td>16085</td>\n",
       "      <td>Subscriber</td>\n",
       "      <td>1963.0</td>\n",
       "      <td>1</td>\n",
       "      <td>False</td>\n",
       "    </tr>\n",
       "    <tr>\n",
       "      <th>2</th>\n",
       "      <td>346</td>\n",
       "      <td>1/1/2015 0:04</td>\n",
       "      <td>1/1/2015 0:10</td>\n",
       "      <td>491</td>\n",
       "      <td>E 24 St &amp; Park Ave S</td>\n",
       "      <td>40.740964</td>\n",
       "      <td>-73.986022</td>\n",
       "      <td>505</td>\n",
       "      <td>6 Ave &amp; W 33 St</td>\n",
       "      <td>40.749013</td>\n",
       "      <td>-73.988484</td>\n",
       "      <td>20845</td>\n",
       "      <td>Subscriber</td>\n",
       "      <td>1974.0</td>\n",
       "      <td>1</td>\n",
       "      <td>False</td>\n",
       "    </tr>\n",
       "    <tr>\n",
       "      <th>3</th>\n",
       "      <td>182</td>\n",
       "      <td>1/1/2015 0:04</td>\n",
       "      <td>1/1/2015 0:07</td>\n",
       "      <td>384</td>\n",
       "      <td>Fulton St &amp; Waverly Ave</td>\n",
       "      <td>40.683178</td>\n",
       "      <td>-73.965964</td>\n",
       "      <td>399</td>\n",
       "      <td>Lafayette Ave &amp; St James Pl</td>\n",
       "      <td>40.688515</td>\n",
       "      <td>-73.964763</td>\n",
       "      <td>19610</td>\n",
       "      <td>Subscriber</td>\n",
       "      <td>1969.0</td>\n",
       "      <td>1</td>\n",
       "      <td>False</td>\n",
       "    </tr>\n",
       "    <tr>\n",
       "      <th>4</th>\n",
       "      <td>969</td>\n",
       "      <td>1/1/2015 0:05</td>\n",
       "      <td>1/1/2015 0:21</td>\n",
       "      <td>474</td>\n",
       "      <td>5 Ave &amp; E 29 St</td>\n",
       "      <td>40.745168</td>\n",
       "      <td>-73.986831</td>\n",
       "      <td>432</td>\n",
       "      <td>E 7 St &amp; Avenue A</td>\n",
       "      <td>40.726218</td>\n",
       "      <td>-73.983799</td>\n",
       "      <td>20197</td>\n",
       "      <td>Subscriber</td>\n",
       "      <td>1977.0</td>\n",
       "      <td>1</td>\n",
       "      <td>False</td>\n",
       "    </tr>\n",
       "  </tbody>\n",
       "</table>\n",
       "</div>"
      ],
      "text/plain": [
       "   tripduration      starttime       stoptime  start station id  \\\n",
       "0          1346  1/1/2015 0:01  1/1/2015 0:24               455   \n",
       "1           363  1/1/2015 0:02  1/1/2015 0:08               434   \n",
       "2           346  1/1/2015 0:04  1/1/2015 0:10               491   \n",
       "3           182  1/1/2015 0:04  1/1/2015 0:07               384   \n",
       "4           969  1/1/2015 0:05  1/1/2015 0:21               474   \n",
       "\n",
       "        start station name  start station latitude  start station longitude  \\\n",
       "0          1 Ave & E 44 St               40.750020               -73.969053   \n",
       "1          9 Ave & W 18 St               40.743174               -74.003664   \n",
       "2     E 24 St & Park Ave S               40.740964               -73.986022   \n",
       "3  Fulton St & Waverly Ave               40.683178               -73.965964   \n",
       "4          5 Ave & E 29 St               40.745168               -73.986831   \n",
       "\n",
       "   end station id             end station name  end station latitude  \\\n",
       "0             265     Stanton St & Chrystie St             40.722293   \n",
       "1             482              W 15 St & 7 Ave             40.739355   \n",
       "2             505              6 Ave & W 33 St             40.749013   \n",
       "3             399  Lafayette Ave & St James Pl             40.688515   \n",
       "4             432            E 7 St & Avenue A             40.726218   \n",
       "\n",
       "   end station longitude  bikeid    usertype  birth year  gender  \\\n",
       "0             -73.991475   18660  Subscriber      1960.0       2   \n",
       "1             -73.999318   16085  Subscriber      1963.0       1   \n",
       "2             -73.988484   20845  Subscriber      1974.0       1   \n",
       "3             -73.964763   19610  Subscriber      1969.0       1   \n",
       "4             -73.983799   20197  Subscriber      1977.0       1   \n",
       "\n",
       "  same_start_end  \n",
       "0          False  \n",
       "1          False  \n",
       "2          False  \n",
       "3          False  \n",
       "4          False  "
      ]
     },
     "execution_count": 295,
     "metadata": {},
     "output_type": "execute_result"
    }
   ],
   "source": [
    "df.head()"
   ]
  },
  {
   "cell_type": "code",
   "execution_count": 324,
   "metadata": {
    "collapsed": false
   },
   "outputs": [],
   "source": [
    "date_format_noseconds = '%m/%d/%Y %H:%M'\n",
    "date_format_seconds = '%m/%d/%Y %H:%M:%S'\n",
    "switch_indices = [824308, 2438684, 3379903]"
   ]
  },
  {
   "cell_type": "code",
   "execution_count": 330,
   "metadata": {
    "collapsed": true
   },
   "outputs": [],
   "source": [
    "#January-March and Jun don't include seconds on starttime - rely on switch_indices to change import formats\n",
    "dates_1 = df['starttime'][:switch_indices[0]].apply(lambda x: datetime.strptime(x, date_format_noseconds))\n",
    "dates_2 = df['starttime'][switch_indices[0]:switch_indices[1]].apply(lambda x: datetime.strptime(x, date_format_seconds))\n",
    "dates_3 = df['starttime'][switch_indices[1]:switch_indices[2]].apply(lambda x: datetime.strptime(x, date_format_noseconds))\n",
    "dates_4 = df['starttime'][switch_indices[2]:].apply(lambda x: datetime.strptime(x, date_format_seconds))"
   ]
  },
  {
   "cell_type": "code",
   "execution_count": 331,
   "metadata": {
    "collapsed": false
   },
   "outputs": [],
   "source": [
    "df['datetime'] = pd.concat([dates_1,dates_2,dates_3,dates_4], axis=0)"
   ]
  },
  {
   "cell_type": "code",
   "execution_count": 332,
   "metadata": {
    "collapsed": false
   },
   "outputs": [
    {
     "name": "stdout",
     "output_type": "stream",
     "text": [
      "   tripduration      starttime       stoptime  start station id  \\\n",
      "0          1346  1/1/2015 0:01  1/1/2015 0:24               455   \n",
      "1           363  1/1/2015 0:02  1/1/2015 0:08               434   \n",
      "2           346  1/1/2015 0:04  1/1/2015 0:10               491   \n",
      "3           182  1/1/2015 0:04  1/1/2015 0:07               384   \n",
      "4           969  1/1/2015 0:05  1/1/2015 0:21               474   \n",
      "\n",
      "        start station name  start station latitude  start station longitude  \\\n",
      "0          1 Ave & E 44 St               40.750020               -73.969053   \n",
      "1          9 Ave & W 18 St               40.743174               -74.003664   \n",
      "2     E 24 St & Park Ave S               40.740964               -73.986022   \n",
      "3  Fulton St & Waverly Ave               40.683178               -73.965964   \n",
      "4          5 Ave & E 29 St               40.745168               -73.986831   \n",
      "\n",
      "   end station id             end station name  end station latitude  \\\n",
      "0             265     Stanton St & Chrystie St             40.722293   \n",
      "1             482              W 15 St & 7 Ave             40.739355   \n",
      "2             505              6 Ave & W 33 St             40.749013   \n",
      "3             399  Lafayette Ave & St James Pl             40.688515   \n",
      "4             432            E 7 St & Avenue A             40.726218   \n",
      "\n",
      "   end station longitude  bikeid    usertype  birth year  gender  \\\n",
      "0             -73.991475   18660  Subscriber      1960.0       2   \n",
      "1             -73.999318   16085  Subscriber      1963.0       1   \n",
      "2             -73.988484   20845  Subscriber      1974.0       1   \n",
      "3             -73.964763   19610  Subscriber      1969.0       1   \n",
      "4             -73.983799   20197  Subscriber      1977.0       1   \n",
      "\n",
      "  same_start_end            datetime  \n",
      "0          False 2015-01-01 00:01:00  \n",
      "1          False 2015-01-01 00:02:00  \n",
      "2          False 2015-01-01 00:04:00  \n",
      "3          False 2015-01-01 00:04:00  \n",
      "4          False 2015-01-01 00:05:00  \n"
     ]
    }
   ],
   "source": [
    "print(df.head())"
   ]
  },
  {
   "cell_type": "code",
   "execution_count": 341,
   "metadata": {
    "collapsed": false
   },
   "outputs": [],
   "source": [
    "df['startmonth'] = df['datetime'].apply(lambda x: x.month)"
   ]
  },
  {
   "cell_type": "code",
   "execution_count": 342,
   "metadata": {
    "collapsed": true
   },
   "outputs": [],
   "source": [
    "df_by_month = df.groupby('startmonth')"
   ]
  },
  {
   "cell_type": "code",
   "execution_count": 346,
   "metadata": {
    "collapsed": false
   },
   "outputs": [],
   "source": [
    "mean_duration_by_month = list(df_by_month['tripduration'].mean())"
   ]
  },
  {
   "cell_type": "code",
   "execution_count": 350,
   "metadata": {
    "collapsed": false
   },
   "outputs": [
    {
     "name": "stdout",
     "output_type": "stream",
     "text": [
      "430.57029597\n"
     ]
    }
   ],
   "source": [
    "print(np.max(mean_duration_by_month)-np.min(mean_duration_by_month))"
   ]
  },
  {
   "cell_type": "code",
   "execution_count": 351,
   "metadata": {
    "collapsed": true
   },
   "outputs": [],
   "source": [
    "tst = df_by_month['tripduration'].mean()"
   ]
  },
  {
   "cell_type": "code",
   "execution_count": 353,
   "metadata": {
    "collapsed": false
   },
   "outputs": [
    {
     "data": {
      "text/plain": [
       "649.38320723099582"
      ]
     },
     "execution_count": 353,
     "metadata": {},
     "output_type": "execute_result"
    }
   ],
   "source": [
    "np.min(tst)"
   ]
  },
  {
   "cell_type": "code",
   "execution_count": null,
   "metadata": {
    "collapsed": true
   },
   "outputs": [],
   "source": []
  },
  {
   "cell_type": "code",
   "execution_count": 334,
   "metadata": {
    "collapsed": true
   },
   "outputs": [],
   "source": [
    "def group_by_month(df, ind, col):\n",
    "    return df[col].loc[ind].month"
   ]
  },
  {
   "cell_type": "code",
   "execution_count": 335,
   "metadata": {
    "collapsed": false
   },
   "outputs": [
    {
     "ename": "KeyError",
     "evalue": "'the label [430] is not in the [index]'",
     "output_type": "error",
     "traceback": [
      "\u001b[0;31m---------------------------------------------------------------------------\u001b[0m",
      "\u001b[0;31mKeyboardInterrupt\u001b[0m                         Traceback (most recent call last)",
      "\u001b[0;32m//anaconda/lib/python3.5/site-packages/pandas/core/indexing.py\u001b[0m in \u001b[0;36m_has_valid_type\u001b[0;34m(self, key, axis)\u001b[0m\n\u001b[1;32m   1408\u001b[0m                 \u001b[0mkey\u001b[0m \u001b[0;34m=\u001b[0m \u001b[0mself\u001b[0m\u001b[0;34m.\u001b[0m\u001b[0m_convert_scalar_indexer\u001b[0m\u001b[0;34m(\u001b[0m\u001b[0mkey\u001b[0m\u001b[0;34m,\u001b[0m \u001b[0maxis\u001b[0m\u001b[0;34m)\u001b[0m\u001b[0;34m\u001b[0m\u001b[0m\n\u001b[0;32m-> 1409\u001b[0;31m                 \u001b[0;32mif\u001b[0m \u001b[0mkey\u001b[0m \u001b[0;32mnot\u001b[0m \u001b[0;32min\u001b[0m \u001b[0max\u001b[0m\u001b[0;34m:\u001b[0m\u001b[0;34m\u001b[0m\u001b[0m\n\u001b[0m\u001b[1;32m   1410\u001b[0m                     \u001b[0merror\u001b[0m\u001b[0;34m(\u001b[0m\u001b[0;34m)\u001b[0m\u001b[0;34m\u001b[0m\u001b[0m\n",
      "\u001b[0;32m//anaconda/lib/python3.5/site-packages/pandas/indexes/base.py\u001b[0m in \u001b[0;36m__contains__\u001b[0;34m(self, key)\u001b[0m\n\u001b[1;32m   1365\u001b[0m         \u001b[0;32mtry\u001b[0m\u001b[0;34m:\u001b[0m\u001b[0;34m\u001b[0m\u001b[0m\n\u001b[0;32m-> 1366\u001b[0;31m             \u001b[0;32mreturn\u001b[0m \u001b[0mkey\u001b[0m \u001b[0;32min\u001b[0m \u001b[0mself\u001b[0m\u001b[0;34m.\u001b[0m\u001b[0m_engine\u001b[0m\u001b[0;34m\u001b[0m\u001b[0m\n\u001b[0m\u001b[1;32m   1367\u001b[0m         \u001b[0;32mexcept\u001b[0m \u001b[0mTypeError\u001b[0m\u001b[0;34m:\u001b[0m\u001b[0;34m\u001b[0m\u001b[0m\n",
      "\u001b[0;31mKeyboardInterrupt\u001b[0m: ",
      "\nDuring handling of the above exception, another exception occurred:\n",
      "\u001b[0;31mKeyError\u001b[0m                                  Traceback (most recent call last)",
      "\u001b[0;32m<ipython-input-335-d45605f4fed1>\u001b[0m in \u001b[0;36m<module>\u001b[0;34m()\u001b[0m\n\u001b[0;32m----> 1\u001b[0;31m \u001b[0mdf_by_month\u001b[0m \u001b[0;34m=\u001b[0m \u001b[0mdf\u001b[0m\u001b[0;34m.\u001b[0m\u001b[0mgroupby\u001b[0m\u001b[0;34m(\u001b[0m\u001b[0;32mlambda\u001b[0m \u001b[0mx\u001b[0m\u001b[0;34m:\u001b[0m \u001b[0mgroup_by_month\u001b[0m\u001b[0;34m(\u001b[0m\u001b[0mdf\u001b[0m\u001b[0;34m,\u001b[0m \u001b[0mx\u001b[0m\u001b[0;34m,\u001b[0m \u001b[0;34m'datetime'\u001b[0m\u001b[0;34m)\u001b[0m\u001b[0;34m)\u001b[0m\u001b[0;34m\u001b[0m\u001b[0m\n\u001b[0m",
      "\u001b[0;32m//anaconda/lib/python3.5/site-packages/pandas/core/generic.py\u001b[0m in \u001b[0;36mgroupby\u001b[0;34m(self, by, axis, level, as_index, sort, group_keys, squeeze, **kwargs)\u001b[0m\n\u001b[1;32m   3972\u001b[0m         return groupby(self, by=by, axis=axis, level=level, as_index=as_index,\n\u001b[1;32m   3973\u001b[0m                        \u001b[0msort\u001b[0m\u001b[0;34m=\u001b[0m\u001b[0msort\u001b[0m\u001b[0;34m,\u001b[0m \u001b[0mgroup_keys\u001b[0m\u001b[0;34m=\u001b[0m\u001b[0mgroup_keys\u001b[0m\u001b[0;34m,\u001b[0m \u001b[0msqueeze\u001b[0m\u001b[0;34m=\u001b[0m\u001b[0msqueeze\u001b[0m\u001b[0;34m,\u001b[0m\u001b[0;34m\u001b[0m\u001b[0m\n\u001b[0;32m-> 3974\u001b[0;31m                        **kwargs)\n\u001b[0m\u001b[1;32m   3975\u001b[0m \u001b[0;34m\u001b[0m\u001b[0m\n\u001b[1;32m   3976\u001b[0m     \u001b[0;32mdef\u001b[0m \u001b[0masfreq\u001b[0m\u001b[0;34m(\u001b[0m\u001b[0mself\u001b[0m\u001b[0;34m,\u001b[0m \u001b[0mfreq\u001b[0m\u001b[0;34m,\u001b[0m \u001b[0mmethod\u001b[0m\u001b[0;34m=\u001b[0m\u001b[0;32mNone\u001b[0m\u001b[0;34m,\u001b[0m \u001b[0mhow\u001b[0m\u001b[0;34m=\u001b[0m\u001b[0;32mNone\u001b[0m\u001b[0;34m,\u001b[0m \u001b[0mnormalize\u001b[0m\u001b[0;34m=\u001b[0m\u001b[0;32mFalse\u001b[0m\u001b[0;34m)\u001b[0m\u001b[0;34m:\u001b[0m\u001b[0;34m\u001b[0m\u001b[0m\n",
      "\u001b[0;32m//anaconda/lib/python3.5/site-packages/pandas/core/groupby.py\u001b[0m in \u001b[0;36mgroupby\u001b[0;34m(obj, by, **kwds)\u001b[0m\n\u001b[1;32m   1499\u001b[0m         \u001b[0;32mraise\u001b[0m \u001b[0mTypeError\u001b[0m\u001b[0;34m(\u001b[0m\u001b[0;34m'invalid type: %s'\u001b[0m \u001b[0;34m%\u001b[0m \u001b[0mtype\u001b[0m\u001b[0;34m(\u001b[0m\u001b[0mobj\u001b[0m\u001b[0;34m)\u001b[0m\u001b[0;34m)\u001b[0m\u001b[0;34m\u001b[0m\u001b[0m\n\u001b[1;32m   1500\u001b[0m \u001b[0;34m\u001b[0m\u001b[0m\n\u001b[0;32m-> 1501\u001b[0;31m     \u001b[0;32mreturn\u001b[0m \u001b[0mklass\u001b[0m\u001b[0;34m(\u001b[0m\u001b[0mobj\u001b[0m\u001b[0;34m,\u001b[0m \u001b[0mby\u001b[0m\u001b[0;34m,\u001b[0m \u001b[0;34m**\u001b[0m\u001b[0mkwds\u001b[0m\u001b[0;34m)\u001b[0m\u001b[0;34m\u001b[0m\u001b[0m\n\u001b[0m\u001b[1;32m   1502\u001b[0m \u001b[0;34m\u001b[0m\u001b[0m\n\u001b[1;32m   1503\u001b[0m \u001b[0;34m\u001b[0m\u001b[0m\n",
      "\u001b[0;32m//anaconda/lib/python3.5/site-packages/pandas/core/groupby.py\u001b[0m in \u001b[0;36m__init__\u001b[0;34m(self, obj, keys, axis, level, grouper, exclusions, selection, as_index, sort, group_keys, squeeze, **kwargs)\u001b[0m\n\u001b[1;32m    368\u001b[0m                                                     \u001b[0mlevel\u001b[0m\u001b[0;34m=\u001b[0m\u001b[0mlevel\u001b[0m\u001b[0;34m,\u001b[0m\u001b[0;34m\u001b[0m\u001b[0m\n\u001b[1;32m    369\u001b[0m                                                     \u001b[0msort\u001b[0m\u001b[0;34m=\u001b[0m\u001b[0msort\u001b[0m\u001b[0;34m,\u001b[0m\u001b[0;34m\u001b[0m\u001b[0m\n\u001b[0;32m--> 370\u001b[0;31m                                                     mutated=self.mutated)\n\u001b[0m\u001b[1;32m    371\u001b[0m \u001b[0;34m\u001b[0m\u001b[0m\n\u001b[1;32m    372\u001b[0m         \u001b[0mself\u001b[0m\u001b[0;34m.\u001b[0m\u001b[0mobj\u001b[0m \u001b[0;34m=\u001b[0m \u001b[0mobj\u001b[0m\u001b[0;34m\u001b[0m\u001b[0m\n",
      "\u001b[0;32m//anaconda/lib/python3.5/site-packages/pandas/core/groupby.py\u001b[0m in \u001b[0;36m_get_grouper\u001b[0;34m(obj, key, axis, level, sort, mutated)\u001b[0m\n\u001b[1;32m   2490\u001b[0m                         \u001b[0msort\u001b[0m\u001b[0;34m=\u001b[0m\u001b[0msort\u001b[0m\u001b[0;34m,\u001b[0m\u001b[0;34m\u001b[0m\u001b[0m\n\u001b[1;32m   2491\u001b[0m                         in_axis=in_axis) \\\n\u001b[0;32m-> 2492\u001b[0;31m             \u001b[0;32mif\u001b[0m \u001b[0;32mnot\u001b[0m \u001b[0misinstance\u001b[0m\u001b[0;34m(\u001b[0m\u001b[0mgpr\u001b[0m\u001b[0;34m,\u001b[0m \u001b[0mGrouping\u001b[0m\u001b[0;34m)\u001b[0m \u001b[0;32melse\u001b[0m \u001b[0mgpr\u001b[0m\u001b[0;34m\u001b[0m\u001b[0m\n\u001b[0m\u001b[1;32m   2493\u001b[0m \u001b[0;34m\u001b[0m\u001b[0m\n\u001b[1;32m   2494\u001b[0m         \u001b[0mgroupings\u001b[0m\u001b[0;34m.\u001b[0m\u001b[0mappend\u001b[0m\u001b[0;34m(\u001b[0m\u001b[0mping\u001b[0m\u001b[0;34m)\u001b[0m\u001b[0;34m\u001b[0m\u001b[0m\n",
      "\u001b[0;32m//anaconda/lib/python3.5/site-packages/pandas/core/groupby.py\u001b[0m in \u001b[0;36m__init__\u001b[0;34m(self, index, grouper, obj, name, level, sort, in_axis)\u001b[0m\n\u001b[1;32m   2287\u001b[0m                     \u001b[0mt\u001b[0m \u001b[0;34m=\u001b[0m \u001b[0mself\u001b[0m\u001b[0;34m.\u001b[0m\u001b[0mname\u001b[0m \u001b[0;32mor\u001b[0m \u001b[0mstr\u001b[0m\u001b[0;34m(\u001b[0m\u001b[0mtype\u001b[0m\u001b[0;34m(\u001b[0m\u001b[0mself\u001b[0m\u001b[0;34m.\u001b[0m\u001b[0mgrouper\u001b[0m\u001b[0;34m)\u001b[0m\u001b[0;34m)\u001b[0m\u001b[0;34m\u001b[0m\u001b[0m\n\u001b[1;32m   2288\u001b[0m                     \u001b[0;32mraise\u001b[0m \u001b[0mValueError\u001b[0m\u001b[0;34m(\u001b[0m\u001b[0;34m\"Grouper for '%s' not 1-dimensional\"\u001b[0m \u001b[0;34m%\u001b[0m \u001b[0mt\u001b[0m\u001b[0;34m)\u001b[0m\u001b[0;34m\u001b[0m\u001b[0m\n\u001b[0;32m-> 2289\u001b[0;31m                 \u001b[0mself\u001b[0m\u001b[0;34m.\u001b[0m\u001b[0mgrouper\u001b[0m \u001b[0;34m=\u001b[0m \u001b[0mself\u001b[0m\u001b[0;34m.\u001b[0m\u001b[0mindex\u001b[0m\u001b[0;34m.\u001b[0m\u001b[0mmap\u001b[0m\u001b[0;34m(\u001b[0m\u001b[0mself\u001b[0m\u001b[0;34m.\u001b[0m\u001b[0mgrouper\u001b[0m\u001b[0;34m)\u001b[0m\u001b[0;34m\u001b[0m\u001b[0m\n\u001b[0m\u001b[1;32m   2290\u001b[0m                 if not (hasattr(self.grouper, \"__len__\") and\n\u001b[1;32m   2291\u001b[0m                         len(self.grouper) == len(self.index)):\n",
      "\u001b[0;32m//anaconda/lib/python3.5/site-packages/pandas/indexes/base.py\u001b[0m in \u001b[0;36mmap\u001b[0;34m(self, mapper)\u001b[0m\n\u001b[1;32m   2409\u001b[0m         \u001b[0mapplied\u001b[0m \u001b[0;34m:\u001b[0m \u001b[0marray\u001b[0m\u001b[0;34m\u001b[0m\u001b[0m\n\u001b[1;32m   2410\u001b[0m         \"\"\"\n\u001b[0;32m-> 2411\u001b[0;31m         \u001b[0;32mreturn\u001b[0m \u001b[0mself\u001b[0m\u001b[0;34m.\u001b[0m\u001b[0m_arrmap\u001b[0m\u001b[0;34m(\u001b[0m\u001b[0mself\u001b[0m\u001b[0;34m.\u001b[0m\u001b[0mvalues\u001b[0m\u001b[0;34m,\u001b[0m \u001b[0mmapper\u001b[0m\u001b[0;34m)\u001b[0m\u001b[0;34m\u001b[0m\u001b[0m\n\u001b[0m\u001b[1;32m   2412\u001b[0m \u001b[0;34m\u001b[0m\u001b[0m\n\u001b[1;32m   2413\u001b[0m     \u001b[0;32mdef\u001b[0m \u001b[0misin\u001b[0m\u001b[0;34m(\u001b[0m\u001b[0mself\u001b[0m\u001b[0;34m,\u001b[0m \u001b[0mvalues\u001b[0m\u001b[0;34m,\u001b[0m \u001b[0mlevel\u001b[0m\u001b[0;34m=\u001b[0m\u001b[0;32mNone\u001b[0m\u001b[0;34m)\u001b[0m\u001b[0;34m:\u001b[0m\u001b[0;34m\u001b[0m\u001b[0m\n",
      "\u001b[0;32mpandas/src/algos_common_helper.pxi\u001b[0m in \u001b[0;36mpandas.algos.arrmap_int64 (pandas/algos.c:55202)\u001b[0;34m()\u001b[0m\n",
      "\u001b[0;32m<ipython-input-335-d45605f4fed1>\u001b[0m in \u001b[0;36m<lambda>\u001b[0;34m(x)\u001b[0m\n\u001b[0;32m----> 1\u001b[0;31m \u001b[0mdf_by_month\u001b[0m \u001b[0;34m=\u001b[0m \u001b[0mdf\u001b[0m\u001b[0;34m.\u001b[0m\u001b[0mgroupby\u001b[0m\u001b[0;34m(\u001b[0m\u001b[0;32mlambda\u001b[0m \u001b[0mx\u001b[0m\u001b[0;34m:\u001b[0m \u001b[0mgroup_by_month\u001b[0m\u001b[0;34m(\u001b[0m\u001b[0mdf\u001b[0m\u001b[0;34m,\u001b[0m \u001b[0mx\u001b[0m\u001b[0;34m,\u001b[0m \u001b[0;34m'datetime'\u001b[0m\u001b[0;34m)\u001b[0m\u001b[0;34m)\u001b[0m\u001b[0;34m\u001b[0m\u001b[0m\n\u001b[0m",
      "\u001b[0;32m<ipython-input-334-25c2200aa3ca>\u001b[0m in \u001b[0;36mgroup_by_month\u001b[0;34m(df, ind, col)\u001b[0m\n\u001b[1;32m      1\u001b[0m \u001b[0;32mdef\u001b[0m \u001b[0mgroup_by_month\u001b[0m\u001b[0;34m(\u001b[0m\u001b[0mdf\u001b[0m\u001b[0;34m,\u001b[0m \u001b[0mind\u001b[0m\u001b[0;34m,\u001b[0m \u001b[0mcol\u001b[0m\u001b[0;34m)\u001b[0m\u001b[0;34m:\u001b[0m\u001b[0;34m\u001b[0m\u001b[0m\n\u001b[0;32m----> 2\u001b[0;31m     \u001b[0;32mreturn\u001b[0m \u001b[0mdf\u001b[0m\u001b[0;34m[\u001b[0m\u001b[0mcol\u001b[0m\u001b[0;34m]\u001b[0m\u001b[0;34m.\u001b[0m\u001b[0mloc\u001b[0m\u001b[0;34m[\u001b[0m\u001b[0mind\u001b[0m\u001b[0;34m]\u001b[0m\u001b[0;34m.\u001b[0m\u001b[0mmonth\u001b[0m\u001b[0;34m\u001b[0m\u001b[0m\n\u001b[0m",
      "\u001b[0;32m//anaconda/lib/python3.5/site-packages/pandas/core/indexing.py\u001b[0m in \u001b[0;36m__getitem__\u001b[0;34m(self, key)\u001b[0m\n\u001b[1;32m   1309\u001b[0m             \u001b[0;32mreturn\u001b[0m \u001b[0mself\u001b[0m\u001b[0;34m.\u001b[0m\u001b[0m_getitem_tuple\u001b[0m\u001b[0;34m(\u001b[0m\u001b[0mkey\u001b[0m\u001b[0;34m)\u001b[0m\u001b[0;34m\u001b[0m\u001b[0m\n\u001b[1;32m   1310\u001b[0m         \u001b[0;32melse\u001b[0m\u001b[0;34m:\u001b[0m\u001b[0;34m\u001b[0m\u001b[0m\n\u001b[0;32m-> 1311\u001b[0;31m             \u001b[0;32mreturn\u001b[0m \u001b[0mself\u001b[0m\u001b[0;34m.\u001b[0m\u001b[0m_getitem_axis\u001b[0m\u001b[0;34m(\u001b[0m\u001b[0mkey\u001b[0m\u001b[0;34m,\u001b[0m \u001b[0maxis\u001b[0m\u001b[0;34m=\u001b[0m\u001b[0;36m0\u001b[0m\u001b[0;34m)\u001b[0m\u001b[0;34m\u001b[0m\u001b[0m\n\u001b[0m\u001b[1;32m   1312\u001b[0m \u001b[0;34m\u001b[0m\u001b[0m\n\u001b[1;32m   1313\u001b[0m     \u001b[0;32mdef\u001b[0m \u001b[0m_getitem_axis\u001b[0m\u001b[0;34m(\u001b[0m\u001b[0mself\u001b[0m\u001b[0;34m,\u001b[0m \u001b[0mkey\u001b[0m\u001b[0;34m,\u001b[0m \u001b[0maxis\u001b[0m\u001b[0;34m=\u001b[0m\u001b[0;36m0\u001b[0m\u001b[0;34m)\u001b[0m\u001b[0;34m:\u001b[0m\u001b[0;34m\u001b[0m\u001b[0m\n",
      "\u001b[0;32m//anaconda/lib/python3.5/site-packages/pandas/core/indexing.py\u001b[0m in \u001b[0;36m_getitem_axis\u001b[0;34m(self, key, axis)\u001b[0m\n\u001b[1;32m   1479\u001b[0m \u001b[0;34m\u001b[0m\u001b[0m\n\u001b[1;32m   1480\u001b[0m         \u001b[0;31m# fall thru to straight lookup\u001b[0m\u001b[0;34m\u001b[0m\u001b[0;34m\u001b[0m\u001b[0m\n\u001b[0;32m-> 1481\u001b[0;31m         \u001b[0mself\u001b[0m\u001b[0;34m.\u001b[0m\u001b[0m_has_valid_type\u001b[0m\u001b[0;34m(\u001b[0m\u001b[0mkey\u001b[0m\u001b[0;34m,\u001b[0m \u001b[0maxis\u001b[0m\u001b[0;34m)\u001b[0m\u001b[0;34m\u001b[0m\u001b[0m\n\u001b[0m\u001b[1;32m   1482\u001b[0m         \u001b[0;32mreturn\u001b[0m \u001b[0mself\u001b[0m\u001b[0;34m.\u001b[0m\u001b[0m_get_label\u001b[0m\u001b[0;34m(\u001b[0m\u001b[0mkey\u001b[0m\u001b[0;34m,\u001b[0m \u001b[0maxis\u001b[0m\u001b[0;34m=\u001b[0m\u001b[0maxis\u001b[0m\u001b[0;34m)\u001b[0m\u001b[0;34m\u001b[0m\u001b[0m\n\u001b[1;32m   1483\u001b[0m \u001b[0;34m\u001b[0m\u001b[0m\n",
      "\u001b[0;32m//anaconda/lib/python3.5/site-packages/pandas/core/indexing.py\u001b[0m in \u001b[0;36m_has_valid_type\u001b[0;34m(self, key, axis)\u001b[0m\n\u001b[1;32m   1416\u001b[0m                 \u001b[0;32mraise\u001b[0m\u001b[0;34m\u001b[0m\u001b[0m\n\u001b[1;32m   1417\u001b[0m             \u001b[0;32mexcept\u001b[0m\u001b[0;34m:\u001b[0m\u001b[0;34m\u001b[0m\u001b[0m\n\u001b[0;32m-> 1418\u001b[0;31m                 \u001b[0merror\u001b[0m\u001b[0;34m(\u001b[0m\u001b[0;34m)\u001b[0m\u001b[0;34m\u001b[0m\u001b[0m\n\u001b[0m\u001b[1;32m   1419\u001b[0m \u001b[0;34m\u001b[0m\u001b[0m\n\u001b[1;32m   1420\u001b[0m         \u001b[0;32mreturn\u001b[0m \u001b[0;32mTrue\u001b[0m\u001b[0;34m\u001b[0m\u001b[0m\n",
      "\u001b[0;32m//anaconda/lib/python3.5/site-packages/pandas/core/indexing.py\u001b[0m in \u001b[0;36merror\u001b[0;34m()\u001b[0m\n\u001b[1;32m   1403\u001b[0m                                     \"key\")\n\u001b[1;32m   1404\u001b[0m                 raise KeyError(\"the label [%s] is not in the [%s]\" %\n\u001b[0;32m-> 1405\u001b[0;31m                                (key, self.obj._get_axis_name(axis)))\n\u001b[0m\u001b[1;32m   1406\u001b[0m \u001b[0;34m\u001b[0m\u001b[0m\n\u001b[1;32m   1407\u001b[0m             \u001b[0;32mtry\u001b[0m\u001b[0;34m:\u001b[0m\u001b[0;34m\u001b[0m\u001b[0m\n",
      "\u001b[0;31mKeyError\u001b[0m: 'the label [430] is not in the [index]'"
     ]
    }
   ],
   "source": [
    "df_by_month = df.groupby(lambda x: group_by_month(df, x, 'datetime'))"
   ]
  },
  {
   "cell_type": "code",
   "execution_count": null,
   "metadata": {
    "collapsed": true
   },
   "outputs": [],
   "source": []
  },
  {
   "cell_type": "code",
   "execution_count": 315,
   "metadata": {
    "collapsed": false
   },
   "outputs": [
    {
     "name": "stdout",
     "output_type": "stream",
     "text": [
      "3379903\n",
      "3379904\n",
      "3379905\n",
      "3379906\n"
     ]
    },
    {
     "ename": "KeyboardInterrupt",
     "evalue": "",
     "output_type": "error",
     "traceback": [
      "\u001b[0;31m---------------------------------------------------------------------------\u001b[0m",
      "\u001b[0;31mValueError\u001b[0m                                Traceback (most recent call last)",
      "\u001b[0;32m<ipython-input-315-40d56e926734>\u001b[0m in \u001b[0;36m<module>\u001b[0;34m()\u001b[0m\n\u001b[1;32m      4\u001b[0m     \u001b[0;32mtry\u001b[0m\u001b[0;34m:\u001b[0m\u001b[0;34m\u001b[0m\u001b[0m\n\u001b[0;32m----> 5\u001b[0;31m         \u001b[0mdatetime\u001b[0m\u001b[0;34m.\u001b[0m\u001b[0mstrptime\u001b[0m\u001b[0;34m(\u001b[0m\u001b[0mdate\u001b[0m\u001b[0;34m,\u001b[0m \u001b[0mdate_format_noseconds\u001b[0m\u001b[0;34m)\u001b[0m\u001b[0;34m\u001b[0m\u001b[0m\n\u001b[0m\u001b[1;32m      6\u001b[0m     \u001b[0;32mexcept\u001b[0m\u001b[0;34m:\u001b[0m\u001b[0;34m\u001b[0m\u001b[0m\n",
      "\u001b[0;32m//anaconda/lib/python3.5/_strptime.py\u001b[0m in \u001b[0;36m_strptime_datetime\u001b[0;34m(cls, data_string, format)\u001b[0m\n\u001b[1;32m    509\u001b[0m     format string.\"\"\"\n\u001b[0;32m--> 510\u001b[0;31m     \u001b[0mtt\u001b[0m\u001b[0;34m,\u001b[0m \u001b[0mfraction\u001b[0m \u001b[0;34m=\u001b[0m \u001b[0m_strptime\u001b[0m\u001b[0;34m(\u001b[0m\u001b[0mdata_string\u001b[0m\u001b[0;34m,\u001b[0m \u001b[0mformat\u001b[0m\u001b[0;34m)\u001b[0m\u001b[0;34m\u001b[0m\u001b[0m\n\u001b[0m\u001b[1;32m    511\u001b[0m     \u001b[0mtzname\u001b[0m\u001b[0;34m,\u001b[0m \u001b[0mgmtoff\u001b[0m \u001b[0;34m=\u001b[0m \u001b[0mtt\u001b[0m\u001b[0;34m[\u001b[0m\u001b[0;34m-\u001b[0m\u001b[0;36m2\u001b[0m\u001b[0;34m:\u001b[0m\u001b[0;34m]\u001b[0m\u001b[0;34m\u001b[0m\u001b[0m\n",
      "\u001b[0;32m//anaconda/lib/python3.5/_strptime.py\u001b[0m in \u001b[0;36m_strptime\u001b[0;34m(data_string, format)\u001b[0m\n\u001b[1;32m    345\u001b[0m         raise ValueError(\"unconverted data remains: %s\" %\n\u001b[0;32m--> 346\u001b[0;31m                           data_string[found.end():])\n\u001b[0m\u001b[1;32m    347\u001b[0m \u001b[0;34m\u001b[0m\u001b[0m\n",
      "\u001b[0;31mValueError\u001b[0m: unconverted data remains: :23",
      "\nDuring handling of the above exception, another exception occurred:\n",
      "\u001b[0;31mKeyboardInterrupt\u001b[0m                         Traceback (most recent call last)",
      "\u001b[0;32m<ipython-input-315-40d56e926734>\u001b[0m in \u001b[0;36m<module>\u001b[0;34m()\u001b[0m\n\u001b[1;32m      6\u001b[0m     \u001b[0;32mexcept\u001b[0m\u001b[0;34m:\u001b[0m\u001b[0;34m\u001b[0m\u001b[0m\n\u001b[1;32m      7\u001b[0m         \u001b[0mprint\u001b[0m\u001b[0;34m(\u001b[0m\u001b[0mi\u001b[0m\u001b[0;34m+\u001b[0m\u001b[0mstartindex\u001b[0m\u001b[0;34m)\u001b[0m\u001b[0;34m\u001b[0m\u001b[0m\n\u001b[0;32m----> 8\u001b[0;31m         \u001b[0mtime\u001b[0m\u001b[0;34m.\u001b[0m\u001b[0msleep\u001b[0m\u001b[0;34m(\u001b[0m\u001b[0;36m1\u001b[0m\u001b[0;34m)\u001b[0m\u001b[0;34m\u001b[0m\u001b[0m\n\u001b[0m",
      "\u001b[0;31mKeyboardInterrupt\u001b[0m: "
     ]
    }
   ],
   "source": [
    "startindex = 2438684\n",
    "\n",
    "for i, date in enumerate(df['starttime'][startindex:]):\n",
    "    try:\n",
    "        datetime.strptime(date, date_format_noseconds)\n",
    "    except:\n",
    "        print(i+startindex)\n",
    "        time.sleep(1)"
   ]
  },
  {
   "cell_type": "code",
   "execution_count": 314,
   "metadata": {
    "collapsed": false
   },
   "outputs": [
    {
     "ename": "ValueError",
     "evalue": "unconverted data remains: :03",
     "output_type": "error",
     "traceback": [
      "\u001b[0;31m---------------------------------------------------------------------------\u001b[0m",
      "\u001b[0;31mValueError\u001b[0m                                Traceback (most recent call last)",
      "\u001b[0;32m<ipython-input-314-1df9ea905dbc>\u001b[0m in \u001b[0;36m<module>\u001b[0;34m()\u001b[0m\n\u001b[0;32m----> 1\u001b[0;31m \u001b[0mtst\u001b[0m \u001b[0;34m=\u001b[0m \u001b[0mdf\u001b[0m\u001b[0;34m[\u001b[0m\u001b[0;34m'starttime'\u001b[0m\u001b[0;34m]\u001b[0m\u001b[0;34m[\u001b[0m\u001b[0;36m2438684\u001b[0m\u001b[0;34m:\u001b[0m\u001b[0;34m]\u001b[0m\u001b[0;34m.\u001b[0m\u001b[0mapply\u001b[0m\u001b[0;34m(\u001b[0m\u001b[0;32mlambda\u001b[0m \u001b[0mx\u001b[0m\u001b[0;34m:\u001b[0m \u001b[0mdatetime\u001b[0m\u001b[0;34m.\u001b[0m\u001b[0mstrptime\u001b[0m\u001b[0;34m(\u001b[0m\u001b[0mx\u001b[0m\u001b[0;34m,\u001b[0m \u001b[0mdate_format_noseconds\u001b[0m\u001b[0;34m)\u001b[0m\u001b[0;34m)\u001b[0m\u001b[0;34m\u001b[0m\u001b[0m\n\u001b[0m",
      "\u001b[0;32m//anaconda/lib/python3.5/site-packages/pandas/core/series.py\u001b[0m in \u001b[0;36mapply\u001b[0;34m(self, func, convert_dtype, args, **kwds)\u001b[0m\n\u001b[1;32m   2290\u001b[0m             \u001b[0;32melse\u001b[0m\u001b[0;34m:\u001b[0m\u001b[0;34m\u001b[0m\u001b[0m\n\u001b[1;32m   2291\u001b[0m                 \u001b[0mvalues\u001b[0m \u001b[0;34m=\u001b[0m \u001b[0mself\u001b[0m\u001b[0;34m.\u001b[0m\u001b[0masobject\u001b[0m\u001b[0;34m\u001b[0m\u001b[0m\n\u001b[0;32m-> 2292\u001b[0;31m                 \u001b[0mmapped\u001b[0m \u001b[0;34m=\u001b[0m \u001b[0mlib\u001b[0m\u001b[0;34m.\u001b[0m\u001b[0mmap_infer\u001b[0m\u001b[0;34m(\u001b[0m\u001b[0mvalues\u001b[0m\u001b[0;34m,\u001b[0m \u001b[0mf\u001b[0m\u001b[0;34m,\u001b[0m \u001b[0mconvert\u001b[0m\u001b[0;34m=\u001b[0m\u001b[0mconvert_dtype\u001b[0m\u001b[0;34m)\u001b[0m\u001b[0;34m\u001b[0m\u001b[0m\n\u001b[0m\u001b[1;32m   2293\u001b[0m \u001b[0;34m\u001b[0m\u001b[0m\n\u001b[1;32m   2294\u001b[0m         \u001b[0;32mif\u001b[0m \u001b[0mlen\u001b[0m\u001b[0;34m(\u001b[0m\u001b[0mmapped\u001b[0m\u001b[0;34m)\u001b[0m \u001b[0;32mand\u001b[0m \u001b[0misinstance\u001b[0m\u001b[0;34m(\u001b[0m\u001b[0mmapped\u001b[0m\u001b[0;34m[\u001b[0m\u001b[0;36m0\u001b[0m\u001b[0;34m]\u001b[0m\u001b[0;34m,\u001b[0m \u001b[0mSeries\u001b[0m\u001b[0;34m)\u001b[0m\u001b[0;34m:\u001b[0m\u001b[0;34m\u001b[0m\u001b[0m\n",
      "\u001b[0;32mpandas/src/inference.pyx\u001b[0m in \u001b[0;36mpandas.lib.map_infer (pandas/lib.c:63307)\u001b[0;34m()\u001b[0m\n",
      "\u001b[0;32m<ipython-input-314-1df9ea905dbc>\u001b[0m in \u001b[0;36m<lambda>\u001b[0;34m(x)\u001b[0m\n\u001b[0;32m----> 1\u001b[0;31m \u001b[0mtst\u001b[0m \u001b[0;34m=\u001b[0m \u001b[0mdf\u001b[0m\u001b[0;34m[\u001b[0m\u001b[0;34m'starttime'\u001b[0m\u001b[0;34m]\u001b[0m\u001b[0;34m[\u001b[0m\u001b[0;36m2438684\u001b[0m\u001b[0;34m:\u001b[0m\u001b[0;34m]\u001b[0m\u001b[0;34m.\u001b[0m\u001b[0mapply\u001b[0m\u001b[0;34m(\u001b[0m\u001b[0;32mlambda\u001b[0m \u001b[0mx\u001b[0m\u001b[0;34m:\u001b[0m \u001b[0mdatetime\u001b[0m\u001b[0;34m.\u001b[0m\u001b[0mstrptime\u001b[0m\u001b[0;34m(\u001b[0m\u001b[0mx\u001b[0m\u001b[0;34m,\u001b[0m \u001b[0mdate_format_noseconds\u001b[0m\u001b[0;34m)\u001b[0m\u001b[0;34m)\u001b[0m\u001b[0;34m\u001b[0m\u001b[0m\n\u001b[0m",
      "\u001b[0;32m//anaconda/lib/python3.5/_strptime.py\u001b[0m in \u001b[0;36m_strptime_datetime\u001b[0;34m(cls, data_string, format)\u001b[0m\n\u001b[1;32m    508\u001b[0m     \"\"\"Return a class cls instance based on the input string and the\n\u001b[1;32m    509\u001b[0m     format string.\"\"\"\n\u001b[0;32m--> 510\u001b[0;31m     \u001b[0mtt\u001b[0m\u001b[0;34m,\u001b[0m \u001b[0mfraction\u001b[0m \u001b[0;34m=\u001b[0m \u001b[0m_strptime\u001b[0m\u001b[0;34m(\u001b[0m\u001b[0mdata_string\u001b[0m\u001b[0;34m,\u001b[0m \u001b[0mformat\u001b[0m\u001b[0;34m)\u001b[0m\u001b[0;34m\u001b[0m\u001b[0m\n\u001b[0m\u001b[1;32m    511\u001b[0m     \u001b[0mtzname\u001b[0m\u001b[0;34m,\u001b[0m \u001b[0mgmtoff\u001b[0m \u001b[0;34m=\u001b[0m \u001b[0mtt\u001b[0m\u001b[0;34m[\u001b[0m\u001b[0;34m-\u001b[0m\u001b[0;36m2\u001b[0m\u001b[0;34m:\u001b[0m\u001b[0;34m]\u001b[0m\u001b[0;34m\u001b[0m\u001b[0m\n\u001b[1;32m    512\u001b[0m     \u001b[0margs\u001b[0m \u001b[0;34m=\u001b[0m \u001b[0mtt\u001b[0m\u001b[0;34m[\u001b[0m\u001b[0;34m:\u001b[0m\u001b[0;36m6\u001b[0m\u001b[0;34m]\u001b[0m \u001b[0;34m+\u001b[0m \u001b[0;34m(\u001b[0m\u001b[0mfraction\u001b[0m\u001b[0;34m,\u001b[0m\u001b[0;34m)\u001b[0m\u001b[0;34m\u001b[0m\u001b[0m\n",
      "\u001b[0;32m//anaconda/lib/python3.5/_strptime.py\u001b[0m in \u001b[0;36m_strptime\u001b[0;34m(data_string, format)\u001b[0m\n\u001b[1;32m    344\u001b[0m     \u001b[0;32mif\u001b[0m \u001b[0mlen\u001b[0m\u001b[0;34m(\u001b[0m\u001b[0mdata_string\u001b[0m\u001b[0;34m)\u001b[0m \u001b[0;34m!=\u001b[0m \u001b[0mfound\u001b[0m\u001b[0;34m.\u001b[0m\u001b[0mend\u001b[0m\u001b[0;34m(\u001b[0m\u001b[0;34m)\u001b[0m\u001b[0;34m:\u001b[0m\u001b[0;34m\u001b[0m\u001b[0m\n\u001b[1;32m    345\u001b[0m         raise ValueError(\"unconverted data remains: %s\" %\n\u001b[0;32m--> 346\u001b[0;31m                           data_string[found.end():])\n\u001b[0m\u001b[1;32m    347\u001b[0m \u001b[0;34m\u001b[0m\u001b[0m\n\u001b[1;32m    348\u001b[0m     \u001b[0myear\u001b[0m \u001b[0;34m=\u001b[0m \u001b[0;32mNone\u001b[0m\u001b[0;34m\u001b[0m\u001b[0m\n",
      "\u001b[0;31mValueError\u001b[0m: unconverted data remains: :03"
     ]
    }
   ],
   "source": [
    "tst = df['starttime'][2438684:].apply(lambda x: datetime.strptime(x, date_format_noseconds))"
   ]
  },
  {
   "cell_type": "code",
   "execution_count": 322,
   "metadata": {
    "collapsed": false
   },
   "outputs": [],
   "source": [
    "tst = df['starttime'][3379903:].apply(lambda x: datetime.strptime(x, date_format_seconds))"
   ]
  },
  {
   "cell_type": "code",
   "execution_count": 323,
   "metadata": {
    "collapsed": false
   },
   "outputs": [
    {
     "name": "stdout",
     "output_type": "stream",
     "text": [
      "9937959   2015-12-31 12:00:05\n",
      "9937960   2015-12-31 13:44:49\n",
      "9937961   2015-12-31 15:05:11\n",
      "9937962   2015-12-31 15:50:37\n",
      "9937963   2015-12-31 15:50:52\n",
      "9937964   2015-12-31 16:50:17\n",
      "9937965   2015-12-31 17:17:52\n",
      "9937966   2015-12-31 17:56:22\n",
      "9937967   2015-12-31 21:20:38\n",
      "9937968   2015-12-31 21:49:19\n",
      "Name: starttime, dtype: datetime64[ns]\n"
     ]
    }
   ],
   "source": [
    "print(tst[-10:])"
   ]
  },
  {
   "cell_type": "code",
   "execution_count": 145,
   "metadata": {
    "collapsed": false
   },
   "outputs": [
    {
     "ename": "TypeError",
     "evalue": "strptime() argument 1 must be str, not Series",
     "output_type": "error",
     "traceback": [
      "\u001b[0;31m---------------------------------------------------------------------------\u001b[0m",
      "\u001b[0;31mTypeError\u001b[0m                                 Traceback (most recent call last)",
      "\u001b[0;32m<ipython-input-145-1a70665978a7>\u001b[0m in \u001b[0;36m<module>\u001b[0;34m()\u001b[0m\n\u001b[0;32m----> 1\u001b[0;31m \u001b[0mdf_baby\u001b[0m\u001b[0;34m[\u001b[0m\u001b[0;34m'datetime'\u001b[0m\u001b[0;34m]\u001b[0m \u001b[0;34m=\u001b[0m \u001b[0mdatetime\u001b[0m\u001b[0;34m.\u001b[0m\u001b[0mstrptime\u001b[0m\u001b[0;34m(\u001b[0m\u001b[0mdf\u001b[0m\u001b[0;34m[\u001b[0m\u001b[0;34m'starttime'\u001b[0m\u001b[0;34m]\u001b[0m\u001b[0;34m,\u001b[0m\u001b[0;34m'%m/%d/%Y %H:%M'\u001b[0m\u001b[0;34m)\u001b[0m\u001b[0;34m\u001b[0m\u001b[0m\n\u001b[0m",
      "\u001b[0;31mTypeError\u001b[0m: strptime() argument 1 must be str, not Series"
     ]
    }
   ],
   "source": [
    "df_baby['datetime'] =  datetime.strptime(df['starttime'],'%m/%d/%Y %H:%M')"
   ]
  },
  {
   "cell_type": "code",
   "execution_count": 285,
   "metadata": {
    "collapsed": false
   },
   "outputs": [
    {
     "data": {
      "text/plain": [
       "tripduration                                          249\n",
       "starttime                               4/1/2015 06:49:09\n",
       "stoptime                                4/1/2015 06:53:19\n",
       "start station id                                      481\n",
       "start station name                   S 3 St & Bedford Ave\n",
       "start station latitude                            40.7126\n",
       "start station longitude                          -73.9626\n",
       "end station id                                        539\n",
       "end station name           Metropolitan Ave & Bedford Ave\n",
       "end station latitude                              40.7153\n",
       "end station longitude                            -73.9602\n",
       "bikeid                                              20654\n",
       "usertype                                       Subscriber\n",
       "birth year                                           1957\n",
       "gender                                                  1\n",
       "same_start_end                                      False\n",
       "Name: 825000, dtype: object"
      ]
     },
     "execution_count": 285,
     "metadata": {},
     "output_type": "execute_result"
    }
   ],
   "source": [
    "df.loc[825000]"
   ]
  },
  {
   "cell_type": "code",
   "execution_count": 277,
   "metadata": {
    "collapsed": false
   },
   "outputs": [
    {
     "name": "stdout",
     "output_type": "stream",
     "text": [
      "824308\n",
      "824309\n",
      "824310\n",
      "824311\n",
      "824312\n",
      "824313\n",
      "824314\n",
      "824315\n",
      "824316\n",
      "824317\n",
      "824318\n",
      "824319\n",
      "824320\n",
      "824321\n",
      "824322\n",
      "824323\n",
      "824324\n",
      "824325\n",
      "824326\n",
      "824327\n",
      "824328\n",
      "824329\n",
      "824330\n",
      "824331\n",
      "824332\n",
      "824333\n",
      "824334\n",
      "824335\n",
      "824336\n",
      "824337\n",
      "824338\n",
      "824339\n",
      "824340\n",
      "824341\n",
      "824342\n",
      "824343\n",
      "824344\n",
      "824345\n",
      "824346\n",
      "824347\n",
      "824348\n",
      "824349\n",
      "824350\n",
      "824351\n",
      "824352\n",
      "824353\n",
      "824354\n",
      "824355\n",
      "824356\n",
      "824357\n",
      "824358\n",
      "824359\n",
      "824360\n",
      "824361\n",
      "824362\n"
     ]
    },
    {
     "ename": "KeyboardInterrupt",
     "evalue": "",
     "output_type": "error",
     "traceback": [
      "\u001b[0;31m---------------------------------------------------------------------------\u001b[0m",
      "\u001b[0;31mValueError\u001b[0m                                Traceback (most recent call last)",
      "\u001b[0;32m<ipython-input-277-d30e6bc7c24c>\u001b[0m in \u001b[0;36m<module>\u001b[0;34m()\u001b[0m\n\u001b[1;32m      2\u001b[0m     \u001b[0;32mtry\u001b[0m\u001b[0;34m:\u001b[0m\u001b[0;34m\u001b[0m\u001b[0m\n\u001b[0;32m----> 3\u001b[0;31m         \u001b[0mdatetime\u001b[0m\u001b[0;34m.\u001b[0m\u001b[0mstrptime\u001b[0m\u001b[0;34m(\u001b[0m\u001b[0mdate\u001b[0m\u001b[0;34m,\u001b[0m\u001b[0;34m'%m/%d/%Y %H:%M'\u001b[0m\u001b[0;34m)\u001b[0m \u001b[0;31m# returns DataFrame\u001b[0m\u001b[0;34m\u001b[0m\u001b[0m\n\u001b[0m\u001b[1;32m      4\u001b[0m     \u001b[0;32mexcept\u001b[0m\u001b[0;34m:\u001b[0m\u001b[0;34m\u001b[0m\u001b[0m\n",
      "\u001b[0;32m//anaconda/lib/python3.5/_strptime.py\u001b[0m in \u001b[0;36m_strptime_datetime\u001b[0;34m(cls, data_string, format)\u001b[0m\n\u001b[1;32m    509\u001b[0m     format string.\"\"\"\n\u001b[0;32m--> 510\u001b[0;31m     \u001b[0mtt\u001b[0m\u001b[0;34m,\u001b[0m \u001b[0mfraction\u001b[0m \u001b[0;34m=\u001b[0m \u001b[0m_strptime\u001b[0m\u001b[0;34m(\u001b[0m\u001b[0mdata_string\u001b[0m\u001b[0;34m,\u001b[0m \u001b[0mformat\u001b[0m\u001b[0;34m)\u001b[0m\u001b[0;34m\u001b[0m\u001b[0m\n\u001b[0m\u001b[1;32m    511\u001b[0m     \u001b[0mtzname\u001b[0m\u001b[0;34m,\u001b[0m \u001b[0mgmtoff\u001b[0m \u001b[0;34m=\u001b[0m \u001b[0mtt\u001b[0m\u001b[0;34m[\u001b[0m\u001b[0;34m-\u001b[0m\u001b[0;36m2\u001b[0m\u001b[0;34m:\u001b[0m\u001b[0;34m]\u001b[0m\u001b[0;34m\u001b[0m\u001b[0m\n",
      "\u001b[0;32m//anaconda/lib/python3.5/_strptime.py\u001b[0m in \u001b[0;36m_strptime\u001b[0;34m(data_string, format)\u001b[0m\n\u001b[1;32m    345\u001b[0m         raise ValueError(\"unconverted data remains: %s\" %\n\u001b[0;32m--> 346\u001b[0;31m                           data_string[found.end():])\n\u001b[0m\u001b[1;32m    347\u001b[0m \u001b[0;34m\u001b[0m\u001b[0m\n",
      "\u001b[0;31mValueError\u001b[0m: unconverted data remains: :22",
      "\nDuring handling of the above exception, another exception occurred:\n",
      "\u001b[0;31mKeyboardInterrupt\u001b[0m                         Traceback (most recent call last)",
      "\u001b[0;32m<ipython-input-277-d30e6bc7c24c>\u001b[0m in \u001b[0;36m<module>\u001b[0;34m()\u001b[0m\n\u001b[1;32m      4\u001b[0m     \u001b[0;32mexcept\u001b[0m\u001b[0;34m:\u001b[0m\u001b[0;34m\u001b[0m\u001b[0m\n\u001b[1;32m      5\u001b[0m         \u001b[0mprint\u001b[0m\u001b[0;34m(\u001b[0m\u001b[0mi\u001b[0m\u001b[0;34m)\u001b[0m\u001b[0;34m\u001b[0m\u001b[0m\n\u001b[0;32m----> 6\u001b[0;31m         \u001b[0mtime\u001b[0m\u001b[0;34m.\u001b[0m\u001b[0msleep\u001b[0m\u001b[0;34m(\u001b[0m\u001b[0;36m.2\u001b[0m\u001b[0;34m)\u001b[0m\u001b[0;34m\u001b[0m\u001b[0m\n\u001b[0m",
      "\u001b[0;31mKeyboardInterrupt\u001b[0m: "
     ]
    }
   ],
   "source": [
    "for i,date in enumerate(df['starttime']):\n",
    "    try:\n",
    "        datetime.strptime(date,'%m/%d/%Y %H:%M') # returns DataFrame\n",
    "    except:\n",
    "        print(i)\n",
    "        time.sleep(.2)"
   ]
  },
  {
   "cell_type": "code",
   "execution_count": 206,
   "metadata": {
    "collapsed": false
   },
   "outputs": [
    {
     "data": {
      "text/html": [
       "<div>\n",
       "<table border=\"1\" class=\"dataframe\">\n",
       "  <thead>\n",
       "    <tr style=\"text-align: right;\">\n",
       "      <th></th>\n",
       "      <th>tripduration</th>\n",
       "      <th>starttime</th>\n",
       "      <th>stoptime</th>\n",
       "      <th>start station id</th>\n",
       "      <th>start station name</th>\n",
       "      <th>start station latitude</th>\n",
       "      <th>start station longitude</th>\n",
       "      <th>end station id</th>\n",
       "      <th>end station name</th>\n",
       "      <th>end station latitude</th>\n",
       "      <th>end station longitude</th>\n",
       "      <th>bikeid</th>\n",
       "      <th>usertype</th>\n",
       "      <th>birth year</th>\n",
       "      <th>gender</th>\n",
       "      <th>same_start_end</th>\n",
       "    </tr>\n",
       "  </thead>\n",
       "  <tbody>\n",
       "    <tr>\n",
       "      <th>0</th>\n",
       "      <td>1346</td>\n",
       "      <td>1/1/2015 0:01</td>\n",
       "      <td>1/1/2015 0:24</td>\n",
       "      <td>455</td>\n",
       "      <td>1 Ave &amp; E 44 St</td>\n",
       "      <td>40.750020</td>\n",
       "      <td>-73.969053</td>\n",
       "      <td>265</td>\n",
       "      <td>Stanton St &amp; Chrystie St</td>\n",
       "      <td>40.722293</td>\n",
       "      <td>-73.991475</td>\n",
       "      <td>18660</td>\n",
       "      <td>Subscriber</td>\n",
       "      <td>1960.0</td>\n",
       "      <td>2</td>\n",
       "      <td>False</td>\n",
       "    </tr>\n",
       "    <tr>\n",
       "      <th>1</th>\n",
       "      <td>363</td>\n",
       "      <td>1/1/2015 0:02</td>\n",
       "      <td>1/1/2015 0:08</td>\n",
       "      <td>434</td>\n",
       "      <td>9 Ave &amp; W 18 St</td>\n",
       "      <td>40.743174</td>\n",
       "      <td>-74.003664</td>\n",
       "      <td>482</td>\n",
       "      <td>W 15 St &amp; 7 Ave</td>\n",
       "      <td>40.739355</td>\n",
       "      <td>-73.999318</td>\n",
       "      <td>16085</td>\n",
       "      <td>Subscriber</td>\n",
       "      <td>1963.0</td>\n",
       "      <td>1</td>\n",
       "      <td>False</td>\n",
       "    </tr>\n",
       "    <tr>\n",
       "      <th>2</th>\n",
       "      <td>346</td>\n",
       "      <td>1/1/2015 0:04</td>\n",
       "      <td>1/1/2015 0:10</td>\n",
       "      <td>491</td>\n",
       "      <td>E 24 St &amp; Park Ave S</td>\n",
       "      <td>40.740964</td>\n",
       "      <td>-73.986022</td>\n",
       "      <td>505</td>\n",
       "      <td>6 Ave &amp; W 33 St</td>\n",
       "      <td>40.749013</td>\n",
       "      <td>-73.988484</td>\n",
       "      <td>20845</td>\n",
       "      <td>Subscriber</td>\n",
       "      <td>1974.0</td>\n",
       "      <td>1</td>\n",
       "      <td>False</td>\n",
       "    </tr>\n",
       "    <tr>\n",
       "      <th>3</th>\n",
       "      <td>182</td>\n",
       "      <td>1/1/2015 0:04</td>\n",
       "      <td>1/1/2015 0:07</td>\n",
       "      <td>384</td>\n",
       "      <td>Fulton St &amp; Waverly Ave</td>\n",
       "      <td>40.683178</td>\n",
       "      <td>-73.965964</td>\n",
       "      <td>399</td>\n",
       "      <td>Lafayette Ave &amp; St James Pl</td>\n",
       "      <td>40.688515</td>\n",
       "      <td>-73.964763</td>\n",
       "      <td>19610</td>\n",
       "      <td>Subscriber</td>\n",
       "      <td>1969.0</td>\n",
       "      <td>1</td>\n",
       "      <td>False</td>\n",
       "    </tr>\n",
       "    <tr>\n",
       "      <th>4</th>\n",
       "      <td>969</td>\n",
       "      <td>1/1/2015 0:05</td>\n",
       "      <td>1/1/2015 0:21</td>\n",
       "      <td>474</td>\n",
       "      <td>5 Ave &amp; E 29 St</td>\n",
       "      <td>40.745168</td>\n",
       "      <td>-73.986831</td>\n",
       "      <td>432</td>\n",
       "      <td>E 7 St &amp; Avenue A</td>\n",
       "      <td>40.726218</td>\n",
       "      <td>-73.983799</td>\n",
       "      <td>20197</td>\n",
       "      <td>Subscriber</td>\n",
       "      <td>1977.0</td>\n",
       "      <td>1</td>\n",
       "      <td>False</td>\n",
       "    </tr>\n",
       "  </tbody>\n",
       "</table>\n",
       "</div>"
      ],
      "text/plain": [
       "   tripduration      starttime       stoptime  start station id  \\\n",
       "0          1346  1/1/2015 0:01  1/1/2015 0:24               455   \n",
       "1           363  1/1/2015 0:02  1/1/2015 0:08               434   \n",
       "2           346  1/1/2015 0:04  1/1/2015 0:10               491   \n",
       "3           182  1/1/2015 0:04  1/1/2015 0:07               384   \n",
       "4           969  1/1/2015 0:05  1/1/2015 0:21               474   \n",
       "\n",
       "        start station name  start station latitude  start station longitude  \\\n",
       "0          1 Ave & E 44 St               40.750020               -73.969053   \n",
       "1          9 Ave & W 18 St               40.743174               -74.003664   \n",
       "2     E 24 St & Park Ave S               40.740964               -73.986022   \n",
       "3  Fulton St & Waverly Ave               40.683178               -73.965964   \n",
       "4          5 Ave & E 29 St               40.745168               -73.986831   \n",
       "\n",
       "   end station id             end station name  end station latitude  \\\n",
       "0             265     Stanton St & Chrystie St             40.722293   \n",
       "1             482              W 15 St & 7 Ave             40.739355   \n",
       "2             505              6 Ave & W 33 St             40.749013   \n",
       "3             399  Lafayette Ave & St James Pl             40.688515   \n",
       "4             432            E 7 St & Avenue A             40.726218   \n",
       "\n",
       "   end station longitude  bikeid    usertype  birth year  gender  \\\n",
       "0             -73.991475   18660  Subscriber      1960.0       2   \n",
       "1             -73.999318   16085  Subscriber      1963.0       1   \n",
       "2             -73.988484   20845  Subscriber      1974.0       1   \n",
       "3             -73.964763   19610  Subscriber      1969.0       1   \n",
       "4             -73.983799   20197  Subscriber      1977.0       1   \n",
       "\n",
       "  same_start_end  \n",
       "0          False  \n",
       "1          False  \n",
       "2          False  \n",
       "3          False  \n",
       "4          False  "
      ]
     },
     "execution_count": 206,
     "metadata": {},
     "output_type": "execute_result"
    }
   ],
   "source": [
    "df.head()"
   ]
  },
  {
   "cell_type": "code",
   "execution_count": 204,
   "metadata": {
    "collapsed": false
   },
   "outputs": [],
   "source": [
    "dates = df['starttime']\n",
    "datelist = list(datelen)"
   ]
  },
  {
   "cell_type": "code",
   "execution_count": 215,
   "metadata": {
    "collapsed": false
   },
   "outputs": [
    {
     "data": {
      "text/plain": [
       "str"
      ]
     },
     "execution_count": 215,
     "metadata": {},
     "output_type": "execute_result"
    }
   ],
   "source": [
    "type(datelist[9])"
   ]
  },
  {
   "cell_type": "code",
   "execution_count": 237,
   "metadata": {
    "collapsed": false
   },
   "outputs": [],
   "source": [
    "splitdates = []\n",
    "\n",
    "for date in datelist:\n",
    "    \n",
    "    splitdates.append(re.split('\\s|/',date))\n",
    "    \n"
   ]
  },
  {
   "cell_type": "code",
   "execution_count": 238,
   "metadata": {
    "collapsed": false
   },
   "outputs": [
    {
     "data": {
      "text/plain": [
       "['1', '1', '2015', '0:01']"
      ]
     },
     "execution_count": 238,
     "metadata": {},
     "output_type": "execute_result"
    }
   ],
   "source": [
    "splitdates[0]"
   ]
  },
  {
   "cell_type": "code",
   "execution_count": 241,
   "metadata": {
    "collapsed": true
   },
   "outputs": [],
   "source": [
    "dateyear = [ x[2] for x in splitdates]"
   ]
  },
  {
   "cell_type": "code",
   "execution_count": 258,
   "metadata": {
    "collapsed": false
   },
   "outputs": [],
   "source": [
    "len(dateyear)\n",
    "checkyear = [ x == '2015' for x in dateyear ]"
   ]
  },
  {
   "cell_type": "code",
   "execution_count": 261,
   "metadata": {
    "collapsed": false
   },
   "outputs": [
    {
     "name": "stdout",
     "output_type": "stream",
     "text": [
      "9937969\n",
      "9937969\n"
     ]
    }
   ],
   "source": [
    "print(sum(checkyear))\n",
    "print(len(dateyear))"
   ]
  },
  {
   "cell_type": "code",
   "execution_count": 207,
   "metadata": {
    "collapsed": false
   },
   "outputs": [],
   "source": [
    "dates[0]\n",
    "secondhalf = lambda x: x[1]\n"
   ]
  },
  {
   "cell_type": "code",
   "execution_count": 188,
   "metadata": {
    "collapsed": false
   },
   "outputs": [
    {
     "name": "stdout",
     "output_type": "stream",
     "text": [
      "['0:01', '0:02', '0:04', '0:04', '0:05', '0:07', '0:07', '0:08', '0:09', '0:10', '0:10', '0:11', '0:13', '0:13', '0:14', '0:14', '0:14', '0:16', '0:17', '0:18', '0:18', '0:18', '0:19', '0:20', '0:21', '0:21', '0:21', '0:22', '0:22', '0:22', '0:23', '0:23', '0:23', '0:24', '0:25', '0:25', '0:26', '0:27', '0:27', '0:27', '0:27', '0:27', '0:27', '0:28', '0:28', '0:28', '0:28', '0:29', '0:29', '0:31', '0:32', '0:32', '0:32', '0:32', '0:32', '0:33', '0:34', '0:35', '0:35', '0:35', '0:35', '0:35', '0:35', '0:35', '0:36', '0:37', '0:37', '0:38', '0:38', '0:39', '0:39', '0:40', '0:41', '0:42', '0:42', '0:42', '0:43', '0:43', '0:43', '0:43', '0:44', '0:44', '0:44', '0:44', '0:46', '0:46', '0:46', '0:46', '0:46', '0:46', '0:47', '0:47', '0:47', '0:48', '0:48', '0:49', '0:49', '0:49', '0:49', '0:51']\n"
     ]
    }
   ],
   "source": [
    "tst4 = [ secondhalf(date) for date in dates ]\n",
    "print(tst4[:100])"
   ]
  },
  {
   "cell_type": "code",
   "execution_count": null,
   "metadata": {
    "collapsed": true
   },
   "outputs": [],
   "source": []
  },
  {
   "cell_type": "code",
   "execution_count": 192,
   "metadata": {
    "collapsed": false
   },
   "outputs": [],
   "source": [
    "tst5 = [x.split(\":\") for x in tst4]"
   ]
  },
  {
   "cell_type": "code",
   "execution_count": 194,
   "metadata": {
    "collapsed": false
   },
   "outputs": [],
   "source": [
    "tst6 = [ secondhalf(date) for date in tst5 ]\n"
   ]
  },
  {
   "cell_type": "code",
   "execution_count": 198,
   "metadata": {
    "collapsed": false
   },
   "outputs": [],
   "source": [
    "tst7 = [len(x) for x in tst6]"
   ]
  },
  {
   "cell_type": "code",
   "execution_count": 203,
   "metadata": {
    "collapsed": false
   },
   "outputs": [
    {
     "name": "stdout",
     "output_type": "stream",
     "text": [
      "9937969\n",
      "9937969\n"
     ]
    }
   ],
   "source": [
    "print(len(tst7))\n",
    "print(tst7.count(2))"
   ]
  },
  {
   "cell_type": "code",
   "execution_count": 201,
   "metadata": {
    "collapsed": false
   },
   "outputs": [],
   "source": [
    "tst2 = [ lambda x: x[1][:] for x in dates ]"
   ]
  },
  {
   "cell_type": "code",
   "execution_count": 180,
   "metadata": {
    "collapsed": false
   },
   "outputs": [
    {
     "name": "stdout",
     "output_type": "stream",
     "text": [
      "[<function <listcomp>.<lambda> at 0x16361a840>, <function <listcomp>.<lambda> at 0x16361af28>, <function <listcomp>.<lambda> at 0x16361ae18>, <function <listcomp>.<lambda> at 0x11f4ca0d0>, <function <listcomp>.<lambda> at 0x11f4cabf8>, <function <listcomp>.<lambda> at 0x11f4ca840>, <function <listcomp>.<lambda> at 0x11f4ca8c8>, <function <listcomp>.<lambda> at 0x11f4ca7b8>, <function <listcomp>.<lambda> at 0x11f4caa60>, <function <listcomp>.<lambda> at 0x11f4ca9d8>, <function <listcomp>.<lambda> at 0x11f4caf28>, <function <listcomp>.<lambda> at 0x11f4cad08>, <function <listcomp>.<lambda> at 0x11f4caae8>, <function <listcomp>.<lambda> at 0x11f4cae18>, <function <listcomp>.<lambda> at 0x11f4ca950>, <function <listcomp>.<lambda> at 0x1614fe048>, <function <listcomp>.<lambda> at 0x1614fe0d0>, <function <listcomp>.<lambda> at 0x1614fe158>, <function <listcomp>.<lambda> at 0x1614fe1e0>, <function <listcomp>.<lambda> at 0x1614fe268>, <function <listcomp>.<lambda> at 0x1614fe2f0>, <function <listcomp>.<lambda> at 0x1614fe378>, <function <listcomp>.<lambda> at 0x1614fe400>, <function <listcomp>.<lambda> at 0x1614fe488>, <function <listcomp>.<lambda> at 0x1614fe510>, <function <listcomp>.<lambda> at 0x1614fe598>, <function <listcomp>.<lambda> at 0x1614fe620>, <function <listcomp>.<lambda> at 0x1614fe6a8>, <function <listcomp>.<lambda> at 0x1614fe730>, <function <listcomp>.<lambda> at 0x1614fe7b8>, <function <listcomp>.<lambda> at 0x1614fe840>, <function <listcomp>.<lambda> at 0x1614fe8c8>, <function <listcomp>.<lambda> at 0x1614fe950>, <function <listcomp>.<lambda> at 0x1614fe9d8>, <function <listcomp>.<lambda> at 0x1614fea60>, <function <listcomp>.<lambda> at 0x1614feae8>, <function <listcomp>.<lambda> at 0x1614feb70>, <function <listcomp>.<lambda> at 0x1614febf8>, <function <listcomp>.<lambda> at 0x1614fec80>, <function <listcomp>.<lambda> at 0x1614fed08>, <function <listcomp>.<lambda> at 0x1614fed90>, <function <listcomp>.<lambda> at 0x1614fee18>, <function <listcomp>.<lambda> at 0x1614feea0>, <function <listcomp>.<lambda> at 0x1614fef28>, <function <listcomp>.<lambda> at 0x359dc8048>, <function <listcomp>.<lambda> at 0x359dc80d0>, <function <listcomp>.<lambda> at 0x359dc8158>, <function <listcomp>.<lambda> at 0x359dc81e0>, <function <listcomp>.<lambda> at 0x359dc8268>, <function <listcomp>.<lambda> at 0x359dc82f0>, <function <listcomp>.<lambda> at 0x359dc8378>, <function <listcomp>.<lambda> at 0x359dc8400>, <function <listcomp>.<lambda> at 0x359dc8488>, <function <listcomp>.<lambda> at 0x359dc8510>, <function <listcomp>.<lambda> at 0x359dc8598>, <function <listcomp>.<lambda> at 0x359dc8620>, <function <listcomp>.<lambda> at 0x359dc86a8>, <function <listcomp>.<lambda> at 0x359dc8730>, <function <listcomp>.<lambda> at 0x359dc87b8>, <function <listcomp>.<lambda> at 0x359dc8840>, <function <listcomp>.<lambda> at 0x359dc88c8>, <function <listcomp>.<lambda> at 0x359dc8950>, <function <listcomp>.<lambda> at 0x359dc89d8>, <function <listcomp>.<lambda> at 0x359dc8a60>, <function <listcomp>.<lambda> at 0x359dc8ae8>, <function <listcomp>.<lambda> at 0x359dc8b70>, <function <listcomp>.<lambda> at 0x359dc8bf8>, <function <listcomp>.<lambda> at 0x359dc8c80>, <function <listcomp>.<lambda> at 0x359dc8d08>, <function <listcomp>.<lambda> at 0x359dc8d90>, <function <listcomp>.<lambda> at 0x359dc8e18>, <function <listcomp>.<lambda> at 0x359dc8ea0>, <function <listcomp>.<lambda> at 0x359dc8f28>, <function <listcomp>.<lambda> at 0x359dc9048>, <function <listcomp>.<lambda> at 0x359dc90d0>, <function <listcomp>.<lambda> at 0x359dc9158>, <function <listcomp>.<lambda> at 0x359dc91e0>, <function <listcomp>.<lambda> at 0x359dc9268>, <function <listcomp>.<lambda> at 0x359dc92f0>, <function <listcomp>.<lambda> at 0x359dc9378>, <function <listcomp>.<lambda> at 0x359dc9400>, <function <listcomp>.<lambda> at 0x359dc9488>, <function <listcomp>.<lambda> at 0x359dc9510>, <function <listcomp>.<lambda> at 0x359dc9598>, <function <listcomp>.<lambda> at 0x359dc9620>, <function <listcomp>.<lambda> at 0x359dc96a8>, <function <listcomp>.<lambda> at 0x359dc9730>, <function <listcomp>.<lambda> at 0x359dc97b8>, <function <listcomp>.<lambda> at 0x359dc9840>, <function <listcomp>.<lambda> at 0x359dc98c8>, <function <listcomp>.<lambda> at 0x359dc9950>, <function <listcomp>.<lambda> at 0x359dc99d8>, <function <listcomp>.<lambda> at 0x359dc9a60>, <function <listcomp>.<lambda> at 0x359dc9ae8>, <function <listcomp>.<lambda> at 0x359dc9b70>, <function <listcomp>.<lambda> at 0x359dc9bf8>, <function <listcomp>.<lambda> at 0x359dc9c80>, <function <listcomp>.<lambda> at 0x359dc9d08>, <function <listcomp>.<lambda> at 0x359dc9d90>, <function <listcomp>.<lambda> at 0x359dc9e18>]\n"
     ]
    }
   ],
   "source": [
    "tst3 = list(tst2)\n",
    "print(tst3[:100])"
   ]
  },
  {
   "cell_type": "code",
   "execution_count": 162,
   "metadata": {
    "collapsed": false
   },
   "outputs": [
    {
     "data": {
      "text/plain": [
       "18    4715467\n",
       "19    2039306\n",
       "17    1417669\n",
       "15     981406\n",
       "14     678261\n",
       "13     105860\n",
       "Name: starttime, dtype: int64"
      ]
     },
     "execution_count": 162,
     "metadata": {},
     "output_type": "execute_result"
    }
   ],
   "source": [
    "datelen.value_counts()"
   ]
  },
  {
   "cell_type": "code",
   "execution_count": 70,
   "metadata": {
    "collapsed": false
   },
   "outputs": [
    {
     "data": {
      "text/plain": [
       "pandas.core.series.Series"
      ]
     },
     "execution_count": 70,
     "metadata": {},
     "output_type": "execute_result"
    }
   ],
   "source": [
    "type(end_stations)"
   ]
  },
  {
   "cell_type": "code",
   "execution_count": 60,
   "metadata": {
    "collapsed": false
   },
   "outputs": [
    {
     "ename": "TypeError",
     "evalue": "unsupported operand type(s) for *: 'SeriesGroupBy' and 'int'",
     "output_type": "error",
     "traceback": [
      "\u001b[0;31m---------------------------------------------------------------------------\u001b[0m",
      "\u001b[0;31mTypeError\u001b[0m                                 Traceback (most recent call last)",
      "\u001b[0;32m<ipython-input-60-a73d5837d4fa>\u001b[0m in \u001b[0;36m<module>\u001b[0;34m()\u001b[0m\n\u001b[0;32m----> 1\u001b[0;31m \u001b[0mbikes\u001b[0m\u001b[0;34m[\u001b[0m\u001b[0;34m'test_column'\u001b[0m\u001b[0;34m]\u001b[0m \u001b[0;34m=\u001b[0m \u001b[0mbikes\u001b[0m\u001b[0;34m[\u001b[0m\u001b[0;34m'start station id'\u001b[0m\u001b[0;34m]\u001b[0m\u001b[0;34m*\u001b[0m\u001b[0;36m2\u001b[0m\u001b[0;34m\u001b[0m\u001b[0m\n\u001b[0m",
      "\u001b[0;31mTypeError\u001b[0m: unsupported operand type(s) for *: 'SeriesGroupBy' and 'int'"
     ]
    }
   ],
   "source": [
    "bikes['test_column'] = bikes['start station id']*2"
   ]
  },
  {
   "cell_type": "code",
   "execution_count": 13,
   "metadata": {
    "collapsed": false
   },
   "outputs": [],
   "source": [
    "start_stations = bikes['start station id']\n",
    "end_stations = bikes['end station id']"
   ]
  },
  {
   "cell_type": "code",
   "execution_count": 57,
   "metadata": {
    "collapsed": false
   },
   "outputs": [
    {
     "name": "stdout",
     "output_type": "stream",
     "text": [
      "<class 'numpy.int64'>\n",
      "<class 'pandas.core.series.Series'>\n",
      "<class 'numpy.int64'>\n",
      "<class 'pandas.core.series.Series'>\n",
      "<class 'numpy.int64'>\n",
      "<class 'pandas.core.series.Series'>\n"
     ]
    },
    {
     "ename": "KeyboardInterrupt",
     "evalue": "",
     "output_type": "error",
     "traceback": [
      "\u001b[0;31m---------------------------------------------------------------------------\u001b[0m",
      "\u001b[0;31mKeyboardInterrupt\u001b[0m                         Traceback (most recent call last)",
      "\u001b[0;32m<ipython-input-57-14ce1a24d7db>\u001b[0m in \u001b[0;36m<module>\u001b[0;34m()\u001b[0m\n\u001b[1;32m      2\u001b[0m     \u001b[0mprint\u001b[0m\u001b[0;34m(\u001b[0m\u001b[0mtype\u001b[0m\u001b[0;34m(\u001b[0m\u001b[0mk\u001b[0m\u001b[0;34m)\u001b[0m\u001b[0;34m)\u001b[0m\u001b[0;34m\u001b[0m\u001b[0m\n\u001b[1;32m      3\u001b[0m     \u001b[0mprint\u001b[0m\u001b[0;34m(\u001b[0m\u001b[0mtype\u001b[0m\u001b[0;34m(\u001b[0m\u001b[0mv\u001b[0m\u001b[0;34m)\u001b[0m\u001b[0;34m)\u001b[0m\u001b[0;34m\u001b[0m\u001b[0m\n\u001b[0;32m----> 4\u001b[0;31m     \u001b[0mtime\u001b[0m\u001b[0;34m.\u001b[0m\u001b[0msleep\u001b[0m\u001b[0;34m(\u001b[0m\u001b[0;36m3\u001b[0m\u001b[0;34m)\u001b[0m\u001b[0;34m\u001b[0m\u001b[0m\n\u001b[0m",
      "\u001b[0;31mKeyboardInterrupt\u001b[0m: "
     ]
    }
   ],
   "source": [
    "for k,v in start_stations:\n",
    "    print(type(k))\n",
    "    print(type(v))\n",
    "    time.sleep(3)"
   ]
  },
  {
   "cell_type": "code",
   "execution_count": 22,
   "metadata": {
    "collapsed": false
   },
   "outputs": [
    {
     "name": "stdout",
     "output_type": "stream",
     "text": [
      "14529\n",
      "1233\n",
      "14530\n",
      "588\n",
      "14531\n",
      "1081\n",
      "14532\n",
      "1088\n",
      "14533\n",
      "1326\n",
      "14534\n",
      "1308\n"
     ]
    },
    {
     "ename": "KeyboardInterrupt",
     "evalue": "",
     "output_type": "error",
     "traceback": [
      "\u001b[0;31m---------------------------------------------------------------------------\u001b[0m",
      "\u001b[0;31mKeyboardInterrupt\u001b[0m                         Traceback (most recent call last)",
      "\u001b[0;32m<ipython-input-22-35612a465a6a>\u001b[0m in \u001b[0;36m<module>\u001b[0;34m()\u001b[0m\n\u001b[1;32m      2\u001b[0m     \u001b[0mprint\u001b[0m\u001b[0;34m(\u001b[0m\u001b[0mk\u001b[0m\u001b[0;34m)\u001b[0m\u001b[0;34m\u001b[0m\u001b[0m\n\u001b[1;32m      3\u001b[0m     \u001b[0mprint\u001b[0m\u001b[0;34m(\u001b[0m\u001b[0mlen\u001b[0m\u001b[0;34m(\u001b[0m\u001b[0mv\u001b[0m\u001b[0;34m)\u001b[0m\u001b[0;34m)\u001b[0m\u001b[0;34m\u001b[0m\u001b[0m\n\u001b[0;32m----> 4\u001b[0;31m     \u001b[0mtime\u001b[0m\u001b[0;34m.\u001b[0m\u001b[0msleep\u001b[0m\u001b[0;34m(\u001b[0m\u001b[0;36m3\u001b[0m\u001b[0;34m)\u001b[0m\u001b[0;34m\u001b[0m\u001b[0m\n\u001b[0m",
      "\u001b[0;31mKeyboardInterrupt\u001b[0m: "
     ]
    }
   ],
   "source": [
    "for k,v in start_stations:\n",
    "    print(k)\n",
    "    print(len(v))\n",
    "    time.sleep(3)"
   ]
  },
  {
   "cell_type": "code",
   "execution_count": 43,
   "metadata": {
    "collapsed": false
   },
   "outputs": [
    {
     "data": {
      "text/plain": [
       "1524        326\n",
       "1793        497\n",
       "5715        496\n",
       "8123        195\n",
       "8360        250\n",
       "8642        358\n",
       "8812        435\n",
       "9156        466\n",
       "29006       362\n",
       "40268       456\n",
       "41290       498\n",
       "42450       474\n",
       "46917       478\n",
       "49233       520\n",
       "52693       379\n",
       "64762       468\n",
       "66571       465\n",
       "69884       348\n",
       "70780       128\n",
       "71709       508\n",
       "74789       362\n",
       "74959       167\n",
       "92747       465\n",
       "93800       359\n",
       "94762       479\n",
       "95286       512\n",
       "95408       489\n",
       "95589       515\n",
       "95984       434\n",
       "97689       357\n",
       "           ... \n",
       "9673414     499\n",
       "9673468     499\n",
       "9683359     503\n",
       "9691099     505\n",
       "9702844     510\n",
       "9704054     511\n",
       "9704064     511\n",
       "9710968     513\n",
       "9718734     517\n",
       "9721447     517\n",
       "9727077     519\n",
       "9732240     519\n",
       "9738998     521\n",
       "9740958     521\n",
       "9742686     522\n",
       "9748180     523\n",
       "9767093     531\n",
       "9771969     533\n",
       "9775500     536\n",
       "9778113     537\n",
       "9785418     540\n",
       "9786726     545\n",
       "9856904    3134\n",
       "9860888    3137\n",
       "9860914    3137\n",
       "9862644    3139\n",
       "9891913    3160\n",
       "9904603    3168\n",
       "9912224    3175\n",
       "9926818    3230\n",
       "Name: start station id, dtype: int64"
      ]
     },
     "execution_count": 43,
     "metadata": {},
     "output_type": "execute_result"
    }
   ],
   "source": [
    "list(start_stations)[0][1]"
   ]
  },
  {
   "cell_type": "code",
   "execution_count": 47,
   "metadata": {
    "collapsed": false
   },
   "outputs": [
    {
     "data": {
      "text/plain": [
       "array([ 326,  497,  496,  195,  250,  358,  435,  466,  362,  456,  498,\n",
       "        474,  478,  520,  379,  468,  465,  348,  128,  508,  167,  359,\n",
       "        479,  512,  489,  515,  434,  357,  469,  490,  352, 2022,  447,\n",
       "        495,  237,  402,  280,  342,  531,  296,  249,  540,  476,  393,\n",
       "        300,  336, 2010,  368,  463,  127,  382,  223,  293,  403,  317,\n",
       "        151,  238,  477,  526,  488,  380,  455,  267,  513,  404,  327,\n",
       "        521,  533,  507,  236,  325,  459,  426,  347,  294,  523,  546,\n",
       "        445,  517,  537,  464,  433,  312,  518,  164,  538,  458,  530,\n",
       "        328,  318, 2006,  499,  461,  334,  264,  504,  411,  301,  491,\n",
       "        511, 2012,  501,  522,  510,  441,  485,  305,  480,  484,  446,\n",
       "       2021,  310,  406,  376,  146,  408,  505,  375,  536,  525,  448,\n",
       "        259,  400,  303,  152,  306,  276,  316,  415,  279, 2004,  252,\n",
       "        503,  516,  308,  363,  346,  383,  492,  487,  168,  527,  509,\n",
       "        483,  297,  438,  401,  356,  229,   79,  268,  355,  254,  337,\n",
       "        423,  524,  153,  290,  405,  369,  432,  442,  519,  367, 2023,\n",
       "        281,  248,  345,  284,  265,  481,  414,  261,  217,  239,  419,\n",
       "        143, 2002,  262,  243,  295,  439,  329,  444, 2008,  450,  500,\n",
       "        228,  472,  147,  364,  418, 2009,   82,  387,  321,  225,  427,\n",
       "        431,  420,  270,  271,  514,  422,  224,  247,  529,  161,  532,\n",
       "        282,  430, 2000,  386,  528,  475,  253,  462,  428,  534,  116,\n",
       "        263,  412,  332,  311,  545,  285,  486,  251,  453,  340,  351,\n",
       "        417,  377,  174,  440,  335,  473,  366,  372,  436,  353,  409,\n",
       "        330,  449,  494,  150,  502,  388,  307,  339,  493,  173, 2003,\n",
       "       3002,  349,  457,  304,  324,  314,  390,  539,  460,  160,  302,\n",
       "        212,  323,  157,  416,  394,  315,  360,  320,   83,  350,  257,\n",
       "        331,  361,  385, 3129, 3124, 3127, 3104,  144,  392,  471, 3108,\n",
       "        482,  137, 3169, 3136, 3149,  233,  391, 3148, 3156, 3230,  470,\n",
       "        319, 3175,  384,  399,  313,  278, 3143, 3146, 3172, 3167, 3164,\n",
       "       3158, 3170, 3165,  341, 3137, 3168, 3122, 3119, 3126, 3111, 3078,\n",
       "        389, 3092,  218,  407,  467, 3141,  343,  398, 3134, 3139, 3160])"
      ]
     },
     "execution_count": 47,
     "metadata": {},
     "output_type": "execute_result"
    }
   ],
   "source": [
    "bikes.get_group(14529)['start station id'].unique()"
   ]
  },
  {
   "cell_type": "code",
   "execution_count": 39,
   "metadata": {
    "collapsed": false
   },
   "outputs": [
    {
     "ename": "Exception",
     "evalue": "Column(s) start station id already selected",
     "output_type": "error",
     "traceback": [
      "\u001b[0;31m---------------------------------------------------------------------------\u001b[0m",
      "\u001b[0;31mException\u001b[0m                                 Traceback (most recent call last)",
      "\u001b[0;32m<ipython-input-39-dfce91b674c6>\u001b[0m in \u001b[0;36m<module>\u001b[0;34m()\u001b[0m\n\u001b[0;32m----> 1\u001b[0;31m \u001b[0mstart_groups\u001b[0m \u001b[0;34m=\u001b[0m \u001b[0mstart_stations\u001b[0m\u001b[0;34m[\u001b[0m\u001b[0;34m:\u001b[0m\u001b[0;34m]\u001b[0m\u001b[0;34m[\u001b[0m\u001b[0;36m1\u001b[0m\u001b[0;34m]\u001b[0m\u001b[0;34m.\u001b[0m\u001b[0mgroups\u001b[0m\u001b[0;34m\u001b[0m\u001b[0m\n\u001b[0m",
      "\u001b[0;32m//anaconda/lib/python3.5/site-packages/pandas/core/base.py\u001b[0m in \u001b[0;36m__getitem__\u001b[0;34m(self, key)\u001b[0m\n\u001b[1;32m    328\u001b[0m     \u001b[0;32mdef\u001b[0m \u001b[0m__getitem__\u001b[0m\u001b[0;34m(\u001b[0m\u001b[0mself\u001b[0m\u001b[0;34m,\u001b[0m \u001b[0mkey\u001b[0m\u001b[0;34m)\u001b[0m\u001b[0;34m:\u001b[0m\u001b[0;34m\u001b[0m\u001b[0m\n\u001b[1;32m    329\u001b[0m         \u001b[0;32mif\u001b[0m \u001b[0mself\u001b[0m\u001b[0;34m.\u001b[0m\u001b[0m_selection\u001b[0m \u001b[0;32mis\u001b[0m \u001b[0;32mnot\u001b[0m \u001b[0;32mNone\u001b[0m\u001b[0;34m:\u001b[0m\u001b[0;34m\u001b[0m\u001b[0m\n\u001b[0;32m--> 330\u001b[0;31m             \u001b[0;32mraise\u001b[0m \u001b[0mException\u001b[0m\u001b[0;34m(\u001b[0m\u001b[0;34m'Column(s) %s already selected'\u001b[0m \u001b[0;34m%\u001b[0m \u001b[0mself\u001b[0m\u001b[0;34m.\u001b[0m\u001b[0m_selection\u001b[0m\u001b[0;34m)\u001b[0m\u001b[0;34m\u001b[0m\u001b[0m\n\u001b[0m\u001b[1;32m    331\u001b[0m \u001b[0;34m\u001b[0m\u001b[0m\n\u001b[1;32m    332\u001b[0m         if isinstance(key, (list, tuple, ABCSeries, ABCIndexClass,\n",
      "\u001b[0;31mException\u001b[0m: Column(s) start station id already selected"
     ]
    }
   ],
   "source": [
    "start_groups = start_stations[:][1].groups"
   ]
  },
  {
   "cell_type": "code",
   "execution_count": 28,
   "metadata": {
    "collapsed": false
   },
   "outputs": [
    {
     "name": "stdout",
     "output_type": "stream",
     "text": [
      "16384\n",
      "Int64Index([ 310666,  310792,  310827,  311876,  311957,  312174,  312284,\n",
      "             317817,  327540,  329184,\n",
      "            ...\n",
      "            9871878, 9876316, 9887862, 9891524, 9894988, 9900518, 9901120,\n",
      "            9918194, 9926187, 9929251],\n",
      "           dtype='int64', length=1261)\n",
      "16385\n",
      "Int64Index([  57492,   57562,   59694,   60688,   63911,   64175,   67342,\n",
      "              70718,  150859,  154102,\n",
      "            ...\n",
      "            9864457, 9864462, 9867593, 9873595, 9878460, 9881575, 9907128,\n",
      "            9909383, 9918169, 9933977],\n",
      "           dtype='int64', length=980)\n"
     ]
    },
    {
     "ename": "KeyboardInterrupt",
     "evalue": "",
     "output_type": "error",
     "traceback": [
      "\u001b[0;31m---------------------------------------------------------------------------\u001b[0m",
      "\u001b[0;31mKeyboardInterrupt\u001b[0m                         Traceback (most recent call last)",
      "\u001b[0;32m<ipython-input-28-960a32fb96e8>\u001b[0m in \u001b[0;36m<module>\u001b[0;34m()\u001b[0m\n\u001b[1;32m      2\u001b[0m     \u001b[0mprint\u001b[0m\u001b[0;34m(\u001b[0m\u001b[0mk\u001b[0m\u001b[0;34m)\u001b[0m\u001b[0;34m\u001b[0m\u001b[0m\n\u001b[1;32m      3\u001b[0m     \u001b[0mprint\u001b[0m\u001b[0;34m(\u001b[0m\u001b[0mv\u001b[0m\u001b[0;34m)\u001b[0m\u001b[0;34m\u001b[0m\u001b[0m\n\u001b[0;32m----> 4\u001b[0;31m     \u001b[0mtime\u001b[0m\u001b[0;34m.\u001b[0m\u001b[0msleep\u001b[0m\u001b[0;34m(\u001b[0m\u001b[0;36m3\u001b[0m\u001b[0;34m)\u001b[0m\u001b[0;34m\u001b[0m\u001b[0m\n\u001b[0m",
      "\u001b[0;31mKeyboardInterrupt\u001b[0m: "
     ]
    }
   ],
   "source": [
    "for k,v in start_groups.items():\n",
    "    print(k)\n",
    "    print(v)\n",
    "    time.sleep(3)"
   ]
  },
  {
   "cell_type": "code",
   "execution_count": 25,
   "metadata": {
    "collapsed": false
   },
   "outputs": [
    {
     "data": {
      "text/plain": [
       "8477"
      ]
     },
     "execution_count": 25,
     "metadata": {},
     "output_type": "execute_result"
    }
   ],
   "source": [
    "len(start_groups.keys())"
   ]
  },
  {
   "cell_type": "code",
   "execution_count": 355,
   "metadata": {
    "collapsed": false
   },
   "outputs": [
    {
     "name": "stdout",
     "output_type": "stream",
     "text": [
      "   tripduration      starttime       stoptime  start station id  \\\n",
      "0          1346  1/1/2015 0:01  1/1/2015 0:24               455   \n",
      "1           363  1/1/2015 0:02  1/1/2015 0:08               434   \n",
      "2           346  1/1/2015 0:04  1/1/2015 0:10               491   \n",
      "3           182  1/1/2015 0:04  1/1/2015 0:07               384   \n",
      "4           969  1/1/2015 0:05  1/1/2015 0:21               474   \n",
      "\n",
      "        start station name  start station latitude  start station longitude  \\\n",
      "0          1 Ave & E 44 St               40.750020               -73.969053   \n",
      "1          9 Ave & W 18 St               40.743174               -74.003664   \n",
      "2     E 24 St & Park Ave S               40.740964               -73.986022   \n",
      "3  Fulton St & Waverly Ave               40.683178               -73.965964   \n",
      "4          5 Ave & E 29 St               40.745168               -73.986831   \n",
      "\n",
      "   end station id             end station name  end station latitude  \\\n",
      "0             265     Stanton St & Chrystie St             40.722293   \n",
      "1             482              W 15 St & 7 Ave             40.739355   \n",
      "2             505              6 Ave & W 33 St             40.749013   \n",
      "3             399  Lafayette Ave & St James Pl             40.688515   \n",
      "4             432            E 7 St & Avenue A             40.726218   \n",
      "\n",
      "   end station longitude  bikeid    usertype  birth year  gender  \\\n",
      "0             -73.991475   18660  Subscriber      1960.0       2   \n",
      "1             -73.999318   16085  Subscriber      1963.0       1   \n",
      "2             -73.988484   20845  Subscriber      1974.0       1   \n",
      "3             -73.964763   19610  Subscriber      1969.0       1   \n",
      "4             -73.983799   20197  Subscriber      1977.0       1   \n",
      "\n",
      "  same_start_end            datetime  startmonth  \n",
      "0          False 2015-01-01 00:01:00           1  \n",
      "1          False 2015-01-01 00:02:00           1  \n",
      "2          False 2015-01-01 00:04:00           1  \n",
      "3          False 2015-01-01 00:04:00           1  \n",
      "4          False 2015-01-01 00:05:00           1  \n"
     ]
    }
   ],
   "source": [
    "print(df.head())"
   ]
  },
  {
   "cell_type": "code",
   "execution_count": 358,
   "metadata": {
    "collapsed": false
   },
   "outputs": [],
   "source": [
    "users = df.groupby('usertype')"
   ]
  },
  {
   "cell_type": "code",
   "execution_count": 375,
   "metadata": {
    "collapsed": false
   },
   "outputs": [],
   "source": [
    "max_ride_time = {'Customer': 1800, 'Subscriber': 2700}\n",
    "ride_number = {}\n",
    "rides_overtime = {}\n",
    "\n",
    "for k,v in users:\n",
    "\n",
    "    ride_times = users.get_group(k)['tripduration']\n",
    "    ride_number[k] = len(ride_times)\n",
    "    rides_overtime[k] = np.sum(ride_times > max_ride_time[k])\n",
    "    \n",
    "overtime_frac = np.sum(list(rides_overtime.values()))/np.sum(list(ride_number.values()))\n"
   ]
  },
  {
   "cell_type": "code",
   "execution_count": 376,
   "metadata": {
    "collapsed": false
   },
   "outputs": [
    {
     "name": "stdout",
     "output_type": "stream",
     "text": [
      "0.0381067801681\n"
     ]
    }
   ],
   "source": [
    "print(overtime_frac)"
   ]
  },
  {
   "cell_type": "code",
   "execution_count": 390,
   "metadata": {
    "collapsed": false
   },
   "outputs": [
    {
     "name": "stdout",
     "output_type": "stream",
     "text": [
      "Customer\n",
      "0.232040575568\n",
      "Subscriber\n",
      "0.00862699930147\n"
     ]
    }
   ],
   "source": [
    "for (k1,v1),(k2,v2) in zip(ride_number.items(),rides_overtime.items()):\n",
    "    print(k1)\n",
    "    print(v2/v1)"
   ]
  },
  {
   "cell_type": "raw",
   "metadata": {},
   "source": [
    "rides_overtime.values()"
   ]
  },
  {
   "cell_type": "code",
   "execution_count": 377,
   "metadata": {
    "collapsed": false
   },
   "outputs": [
    {
     "data": {
      "text/plain": [
       "dict_values([304282, 74422])"
      ]
     },
     "execution_count": 377,
     "metadata": {},
     "output_type": "execute_result"
    }
   ],
   "source": [
    "rides_overtime.values()"
   ]
  },
  {
   "cell_type": "code",
   "execution_count": 378,
   "metadata": {
    "collapsed": false
   },
   "outputs": [
    {
     "data": {
      "text/plain": [
       "dict_values([1311331, 8626638])"
      ]
     },
     "execution_count": 378,
     "metadata": {},
     "output_type": "execute_result"
    }
   ],
   "source": [
    "ride_number.values()"
   ]
  },
  {
   "cell_type": "code",
   "execution_count": 380,
   "metadata": {
    "collapsed": false
   },
   "outputs": [
    {
     "data": {
      "text/plain": [
       "378704"
      ]
     },
     "execution_count": 380,
     "metadata": {},
     "output_type": "execute_result"
    }
   ],
   "source": [
    "np.sum(list(rides_overtime.values()))"
   ]
  },
  {
   "cell_type": "code",
   "execution_count": 381,
   "metadata": {
    "collapsed": false
   },
   "outputs": [
    {
     "data": {
      "text/plain": [
       "9937969"
      ]
     },
     "execution_count": 381,
     "metadata": {},
     "output_type": "execute_result"
    }
   ],
   "source": [
    "np.sum(list(ride_number.values()))"
   ]
  },
  {
   "cell_type": "code",
   "execution_count": null,
   "metadata": {
    "collapsed": true
   },
   "outputs": [],
   "source": []
  }
 ],
 "metadata": {
  "kernelspec": {
   "display_name": "Python 3",
   "language": "python",
   "name": "python3"
  },
  "language_info": {
   "codemirror_mode": {
    "name": "ipython",
    "version": 3
   },
   "file_extension": ".py",
   "mimetype": "text/x-python",
   "name": "python",
   "nbconvert_exporter": "python",
   "pygments_lexer": "ipython3",
   "version": "3.5.2"
  }
 },
 "nbformat": 4,
 "nbformat_minor": 0
}
