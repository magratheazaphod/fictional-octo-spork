{
 "cells": [
  {
   "cell_type": "code",
   "execution_count": 108,
   "metadata": {
    "collapsed": true
   },
   "outputs": [],
   "source": [
    "#use Pandas to import data\n",
    "import pandas as pd\n",
    "import zipfile\n",
    "import requests\n",
    "import io\n",
    "import time\n",
    "import numpy as np\n",
    "from datetime import datetime"
   ]
  },
  {
   "cell_type": "code",
   "execution_count": 2,
   "metadata": {
    "collapsed": true
   },
   "outputs": [],
   "source": [
    "## information on filename\n",
    "citidir = \"https://s3.amazonaws.com/tripdata/\"\n",
    "citi_extension = \"-citibike-tripdata\"\n",
    "year = 2015\n",
    "months = ['01','02','03','04','05','06','07','08','09','10','11','12']"
   ]
  },
  {
   "cell_type": "code",
   "execution_count": 3,
   "metadata": {
    "collapsed": false
   },
   "outputs": [
    {
     "name": "stdout",
     "output_type": "stream",
     "text": [
      "https://s3.amazonaws.com/tripdata/201501-citibike-tripdata.zip\n",
      "https://s3.amazonaws.com/tripdata/201502-citibike-tripdata.zip\n",
      "https://s3.amazonaws.com/tripdata/201503-citibike-tripdata.zip\n",
      "https://s3.amazonaws.com/tripdata/201504-citibike-tripdata.zip\n",
      "https://s3.amazonaws.com/tripdata/201505-citibike-tripdata.zip\n",
      "https://s3.amazonaws.com/tripdata/201506-citibike-tripdata.zip\n",
      "https://s3.amazonaws.com/tripdata/201507-citibike-tripdata.zip\n",
      "https://s3.amazonaws.com/tripdata/201508-citibike-tripdata.zip\n",
      "https://s3.amazonaws.com/tripdata/201509-citibike-tripdata.zip\n",
      "https://s3.amazonaws.com/tripdata/201510-citibike-tripdata.zip\n",
      "https://s3.amazonaws.com/tripdata/201511-citibike-tripdata.zip\n",
      "https://s3.amazonaws.com/tripdata/201512-citibike-tripdata.zip\n"
     ]
    }
   ],
   "source": [
    "## store all data first in dictionary format using months as keys\n",
    "d = {}\n",
    "\n",
    "## download monthly data from the web for each month\n",
    "for mth in months:\n",
    "    #create filenames for given month\n",
    "    filename = str(year) + mth + citi_extension\n",
    "    citibike_zip_filename = citidir + filename + \".zip\"\n",
    "    citibike_csv_filename = filename + \".csv\"\n",
    "    print(citibike_zip_filename)\n",
    "    \n",
    "    #find file and use read_csv to save in dictionary of dataframes\n",
    "    requested_file = requests.get(citibike_zip_filename)\n",
    "    z = zipfile.ZipFile(io.BytesIO(requested_file.content))\n",
    "    d[mth] = pd.read_csv(z.open(citibike_csv_filename), header=0, sep=',', quotechar='\"')"
   ]
  },
  {
   "cell_type": "code",
   "execution_count": 4,
   "metadata": {
    "collapsed": true
   },
   "outputs": [],
   "source": [
    "## Concatenate into single yearly dataframe\n",
    "df = pd.DataFrame()\n",
    "\n",
    "## append results of each month\n",
    "for mth in months:\n",
    "    df = df.append(d[mth], ignore_index=True)"
   ]
  },
  {
   "cell_type": "code",
   "execution_count": 6,
   "metadata": {
    "collapsed": false
   },
   "outputs": [
    {
     "name": "stdout",
     "output_type": "stream",
     "text": [
      "         tripduration            starttime             stoptime  \\\n",
      "9937964           509  12/31/2015 16:50:17  12/31/2015 16:58:46   \n",
      "9937965           591  12/31/2015 17:17:52  12/31/2015 17:27:43   \n",
      "9937966           197  12/31/2015 17:56:22  12/31/2015 17:59:39   \n",
      "9937967           372  12/31/2015 21:20:38  12/31/2015 21:26:50   \n",
      "9937968           395  12/31/2015 21:49:19  12/31/2015 21:55:55   \n",
      "\n",
      "         start station id          start station name  start station latitude  \\\n",
      "9937964              3242  Schermerhorn St & Court St               40.691029   \n",
      "9937965              3242  Schermerhorn St & Court St               40.691029   \n",
      "9937966              3242  Schermerhorn St & Court St               40.691029   \n",
      "9937967              3242  Schermerhorn St & Court St               40.691029   \n",
      "9937968              3242  Schermerhorn St & Court St               40.691029   \n",
      "\n",
      "         start station longitude  end station id             end station name  \\\n",
      "9937964               -73.991834             261         Johnson St & Gold St   \n",
      "9937965               -73.991834             258  DeKalb Ave & Vanderbilt Ave   \n",
      "9937966               -73.991834             157      Henry St & Atlantic Ave   \n",
      "9937967               -73.991834             467              Dean St & 4 Ave   \n",
      "9937968               -73.991834             418           Front St & Gold St   \n",
      "\n",
      "         end station latitude  end station longitude  bikeid    usertype  \\\n",
      "9937964             40.694749             -73.983625   22282  Subscriber   \n",
      "9937965             40.689407             -73.968855   22366  Subscriber   \n",
      "9937966             40.690893             -73.996123   20663  Subscriber   \n",
      "9937967             40.683125             -73.978951   19782  Subscriber   \n",
      "9937968             40.702240             -73.982578   23411  Subscriber   \n",
      "\n",
      "         birth year  gender  \n",
      "9937964      1957.0       1  \n",
      "9937965      1978.0       1  \n",
      "9937966      1959.0       1  \n",
      "9937967      1987.0       1  \n",
      "9937968      1968.0       1  \n"
     ]
    }
   ],
   "source": [
    "#check out headers\n",
    "print(df.tail())"
   ]
  },
  {
   "cell_type": "code",
   "execution_count": 7,
   "metadata": {
    "collapsed": false
   },
   "outputs": [
    {
     "name": "stdout",
     "output_type": "stream",
     "text": [
      "Median trip duration: 629.0\n"
     ]
    }
   ],
   "source": [
    "print(\"Median trip duration:\", df[\"tripduration\"].median())"
   ]
  },
  {
   "cell_type": "code",
   "execution_count": 8,
   "metadata": {
    "collapsed": false
   },
   "outputs": [
    {
     "name": "stdout",
     "output_type": "stream",
     "text": [
      "Fraction of rides that start and end at same station: 0.0223583913373\n"
     ]
    }
   ],
   "source": [
    "#add new column to dataframe indicating whether start and end station IDs are the same or not\n",
    "df['same_start_end'] = pd.Series(df[\"start station id\"] == df[\"end station id\"], index=df.index)\n",
    "same_frac = df['same_start_end'].value_counts(normalize = True)\n",
    "print(\"Fraction of rides that start and end at same station:\", same_frac[True])"
   ]
  },
  {
   "cell_type": "code",
   "execution_count": null,
   "metadata": {
    "collapsed": true
   },
   "outputs": [],
   "source": []
  },
  {
   "cell_type": "code",
   "execution_count": 27,
   "metadata": {
    "collapsed": false
   },
   "outputs": [
    {
     "name": "stdout",
     "output_type": "stream",
     "text": [
      "8477\n"
     ]
    }
   ],
   "source": [
    "### count number of unique biks\n",
    "unique_bikes = df['bikeid'].unique()\n",
    "print(len(unique_bikes))"
   ]
  },
  {
   "cell_type": "code",
   "execution_count": 61,
   "metadata": {
    "collapsed": false
   },
   "outputs": [],
   "source": [
    "bikes = df.groupby('bikeid')"
   ]
  },
  {
   "cell_type": "code",
   "execution_count": 78,
   "metadata": {
    "collapsed": false
   },
   "outputs": [],
   "source": [
    "visited_stations = {}\n",
    "\n",
    "for k,v in bikes:\n",
    "    start_stations = bikes.get_group(k)['start station id']\n",
    "    end_stations = bikes.get_group(k)['end station id']\n",
    "    stations = pd.concat([start_stations, end_stations], axis=0, ignore_index = True)\n",
    "    unique_stations = stations.unique()\n",
    "    visited_stations[k] = len(unique_stations)"
   ]
  },
  {
   "cell_type": "code",
   "execution_count": 81,
   "metadata": {
    "collapsed": false
   },
   "outputs": [
    {
     "data": {
      "text/plain": [
       "54.541896535851848"
      ]
     },
     "execution_count": 81,
     "metadata": {},
     "output_type": "execute_result"
    }
   ],
   "source": [
    "np.std(list(visited_stations.values()))"
   ]
  },
  {
   "cell_type": "code",
   "execution_count": 93,
   "metadata": {
    "collapsed": false
   },
   "outputs": [
    {
     "data": {
      "text/plain": [
       "8477"
      ]
     },
     "execution_count": 93,
     "metadata": {},
     "output_type": "execute_result"
    }
   ],
   "source": [
    "len(vis)"
   ]
  },
  {
   "cell_type": "code",
   "execution_count": 104,
   "metadata": {
    "collapsed": false
   },
   "outputs": [
    {
     "name": "stdout",
     "output_type": "stream",
     "text": [
      "320.790020054\n",
      "333.0\n",
      "54.5418965359\n"
     ]
    },
    {
     "data": {
      "text/plain": [
       "array([355, 355, 355, 355, 355, 355, 355, 355, 355, 355, 355, 355, 355,\n",
       "       355, 355, 355, 355, 355, 355, 355, 355, 355, 355, 355, 355, 355,\n",
       "       355, 355, 355, 355, 355, 355, 355, 355, 355, 355, 355, 355, 355,\n",
       "       355, 355, 355, 355, 355, 355, 355, 355, 355, 355, 355, 355, 355,\n",
       "       355, 355, 355, 355, 355, 355, 355, 355, 355, 355, 355, 355, 356,\n",
       "       356, 356, 356, 356, 356, 356, 356, 356, 356, 356, 356, 356, 356,\n",
       "       356, 356, 356, 356, 356, 356, 356, 356, 356, 356, 356, 356, 356,\n",
       "       356, 356, 356, 356, 356, 356, 356, 356, 356, 356, 356, 356, 356,\n",
       "       356, 356, 356, 356, 356, 356, 356, 356, 356, 356, 356, 356, 356,\n",
       "       356, 356, 356, 356, 356, 356, 356, 356, 356, 356, 356, 356, 356,\n",
       "       356, 356, 356, 356, 356, 356, 356, 356, 356, 356, 356, 356, 356,\n",
       "       356, 357, 357, 357, 357, 357, 357, 357, 357, 357, 357, 357, 357,\n",
       "       357, 357, 357, 357, 357, 357, 357, 357, 357, 357, 357, 357, 357,\n",
       "       357, 357, 357, 357, 357, 357, 357, 357, 357, 357, 357, 357, 357,\n",
       "       357, 357, 357, 357, 357, 357, 357, 357, 357, 357, 357, 357, 357,\n",
       "       357, 357, 357, 357, 357, 357, 357, 357, 357, 357, 357, 357, 358,\n",
       "       358, 358, 358, 358, 358, 358, 358, 358, 358, 358, 358, 358, 358,\n",
       "       358, 358, 358, 358, 358, 358, 358, 358, 358, 358, 358, 358, 358,\n",
       "       358, 358, 358, 358, 358, 358, 358, 358, 358, 358, 358, 358, 358,\n",
       "       358, 358, 358, 358, 358, 358, 358, 358, 358, 358, 358, 358, 358,\n",
       "       358, 358, 358, 358, 358, 358, 358, 358, 358, 358, 358, 358, 358,\n",
       "       358, 358, 358, 359, 359, 359, 359, 359, 359, 359, 359, 359, 359,\n",
       "       359, 359, 359, 359, 359, 359, 359, 359, 359, 359, 359, 359, 359,\n",
       "       359, 359, 359, 359, 359, 359, 359, 359, 359, 359, 359, 359, 359,\n",
       "       359, 359, 359, 359, 359, 359, 359, 359, 359, 359, 359, 359, 359,\n",
       "       359, 359, 359, 359, 359, 359, 359, 359, 359, 359, 360, 360, 360,\n",
       "       360, 360, 360, 360, 360, 360, 360, 360, 360, 360, 360, 360, 360,\n",
       "       360, 360, 360, 360, 360, 360, 360, 360, 360, 360, 360, 360, 360,\n",
       "       360, 360, 360, 360, 360, 360, 360, 360, 360, 360, 360, 360, 360,\n",
       "       360, 360, 360, 360, 360, 360, 360, 360, 360, 360, 360, 360, 360,\n",
       "       360, 360, 360, 360, 360, 360, 360, 360, 360, 360, 360, 360, 360,\n",
       "       360, 360, 360, 360, 360, 360, 360, 360, 360, 361, 361, 361, 361,\n",
       "       361, 361, 361, 361, 361, 361, 361, 361, 361, 361, 361, 361, 361,\n",
       "       361, 361, 361, 361, 361, 361, 361, 361, 361, 361, 361, 361, 361,\n",
       "       361, 361, 361, 361, 361, 361, 361, 361, 361, 361, 361, 361, 361,\n",
       "       361, 361, 362, 362, 362, 362, 362, 362, 362, 362, 362, 362, 362,\n",
       "       362, 362, 362, 362, 362, 362, 362, 362, 362, 362, 362, 362, 362,\n",
       "       362, 362, 362, 362, 362, 362, 362, 362, 362, 362, 362, 362, 362,\n",
       "       362, 362, 362, 362, 362, 362, 362, 362, 362, 362, 362, 362, 362,\n",
       "       362, 362, 362, 362, 362, 362, 362, 362, 363, 363, 363, 363, 363,\n",
       "       363, 363, 363, 363, 363, 363, 363, 363, 363, 363, 363, 363, 363,\n",
       "       363, 363, 363, 363, 363, 363, 363, 363, 363, 363, 363, 363, 363,\n",
       "       363, 363, 363, 363, 363, 363, 363, 363, 363, 363, 363, 363, 363,\n",
       "       363, 363, 363, 363, 363, 363, 363, 363, 363, 364, 364, 364, 364,\n",
       "       364, 364, 364, 364, 364, 364, 364, 364, 364, 364, 364, 364, 364,\n",
       "       364, 364, 364, 364, 364, 364, 364, 364, 364, 364, 364, 364, 364,\n",
       "       364, 364, 364, 364, 364, 364, 364, 364, 365, 365, 365, 365, 365,\n",
       "       365, 365, 365, 365, 365, 365, 365, 365, 365, 365, 365, 365, 365,\n",
       "       365, 365, 365, 365, 365, 365, 365, 365, 365, 365, 365, 365, 365,\n",
       "       365, 366, 366, 366, 366, 366, 366, 366, 366, 366, 366, 366, 366,\n",
       "       366, 366, 366, 366, 366, 366, 366, 366, 366, 366, 366, 366, 366,\n",
       "       366, 367, 367, 367, 367, 367, 367, 367, 367, 367, 367, 367, 367,\n",
       "       367, 367, 367, 367, 367, 367, 367, 367, 367, 367, 367, 367, 367,\n",
       "       367, 367, 367, 367, 367, 367, 367, 367, 367, 367, 367, 367, 367,\n",
       "       367, 367, 367, 367, 368, 368, 368, 368, 368, 368, 368, 368, 368,\n",
       "       368, 368, 368, 368, 368, 368, 368, 368, 368, 368, 368, 368, 368,\n",
       "       368, 368, 368, 368, 368, 368, 368, 368, 368, 368, 368, 368, 368,\n",
       "       368, 369, 369, 369, 369, 369, 369, 369, 369, 369, 369, 369, 369,\n",
       "       369, 369, 369, 369, 369, 369, 369, 369, 369, 369, 369, 370, 370,\n",
       "       370, 370, 370, 370, 370, 370, 370, 370, 370, 370, 370, 370, 370,\n",
       "       370, 370, 370, 370, 370, 370, 370, 370, 370, 370, 370, 370, 370,\n",
       "       370, 370, 371, 371, 371, 371, 371, 371, 371, 371, 371, 371, 371,\n",
       "       371, 371, 371, 371, 371, 371, 371, 371, 371, 371, 371, 371, 371,\n",
       "       371, 371, 371, 371, 371, 372, 372, 372, 372, 372, 372, 372, 372,\n",
       "       372, 372, 372, 372, 372, 373, 373, 373, 373, 373, 373, 373, 373,\n",
       "       373, 373, 373, 373, 373, 373, 373, 373, 373, 373, 373, 373, 373,\n",
       "       374, 374, 374, 374, 374, 374, 374, 374, 374, 374, 374, 374, 374,\n",
       "       374, 374, 374, 374, 374, 374, 375, 375, 375, 375, 375, 375, 375,\n",
       "       375, 375, 375, 375, 375, 375, 375, 375, 375, 375, 376, 376, 376,\n",
       "       376, 376, 376, 376, 376, 376, 376, 376, 377, 377, 377, 377, 377,\n",
       "       377, 377, 377, 377, 377, 377, 377, 378, 378, 378, 378, 378, 378,\n",
       "       378, 378, 378, 378, 378, 378, 378, 379, 379, 379, 379, 379, 379,\n",
       "       379, 379, 379, 380, 380, 380, 380, 380, 380, 380, 380, 380, 380,\n",
       "       381, 381, 381, 381, 381, 382, 382, 382, 382, 382, 382, 382, 382,\n",
       "       382, 382, 382, 383, 383, 383, 383, 383, 383, 383, 384, 384, 385,\n",
       "       385, 385, 385, 385, 385, 385, 386, 386, 386, 386, 386, 387, 387,\n",
       "       387, 388, 388, 389, 389, 390, 390, 390, 390, 390, 391, 392])"
      ]
     },
     "execution_count": 104,
     "metadata": {},
     "output_type": "execute_result"
    }
   ],
   "source": [
    "vis = list(visited_stations.values())\n",
    "print(np.mean(vis))\n",
    "print(np.median(vis))\n",
    "print(np.std(vis))\n",
    "np.sort(vis)[-1000:]"
   ]
  },
  {
   "cell_type": "code",
   "execution_count": null,
   "metadata": {
    "collapsed": true
   },
   "outputs": [],
   "source": [
    "df_by_month = df.groupby('bikeid')"
   ]
  },
  {
   "cell_type": "code",
   "execution_count": 127,
   "metadata": {
    "collapsed": false
   },
   "outputs": [
    {
     "name": "stdout",
     "output_type": "stream",
     "text": [
      "1/1/2015 13:39\n"
     ]
    }
   ],
   "source": [
    "tst = df.loc[2000].starttime\n",
    "print(tst)"
   ]
  },
  {
   "cell_type": "code",
   "execution_count": 129,
   "metadata": {
    "collapsed": false
   },
   "outputs": [
    {
     "data": {
      "text/plain": [
       "13"
      ]
     },
     "execution_count": 129,
     "metadata": {},
     "output_type": "execute_result"
    }
   ],
   "source": [
    "date_object = datetime.strptime(tst,'%m/%d/%Y %H:%M')\n",
    "date_object.hour"
   ]
  },
  {
   "cell_type": "code",
   "execution_count": 145,
   "metadata": {
    "collapsed": false
   },
   "outputs": [
    {
     "ename": "TypeError",
     "evalue": "strptime() argument 1 must be str, not Series",
     "output_type": "error",
     "traceback": [
      "\u001b[0;31m---------------------------------------------------------------------------\u001b[0m",
      "\u001b[0;31mTypeError\u001b[0m                                 Traceback (most recent call last)",
      "\u001b[0;32m<ipython-input-145-1a70665978a7>\u001b[0m in \u001b[0;36m<module>\u001b[0;34m()\u001b[0m\n\u001b[0;32m----> 1\u001b[0;31m \u001b[0mdf_baby\u001b[0m\u001b[0;34m[\u001b[0m\u001b[0;34m'datetime'\u001b[0m\u001b[0;34m]\u001b[0m \u001b[0;34m=\u001b[0m \u001b[0mdatetime\u001b[0m\u001b[0;34m.\u001b[0m\u001b[0mstrptime\u001b[0m\u001b[0;34m(\u001b[0m\u001b[0mdf\u001b[0m\u001b[0;34m[\u001b[0m\u001b[0;34m'starttime'\u001b[0m\u001b[0;34m]\u001b[0m\u001b[0;34m,\u001b[0m\u001b[0;34m'%m/%d/%Y %H:%M'\u001b[0m\u001b[0;34m)\u001b[0m\u001b[0;34m\u001b[0m\u001b[0m\n\u001b[0m",
      "\u001b[0;31mTypeError\u001b[0m: strptime() argument 1 must be str, not Series"
     ]
    }
   ],
   "source": [
    "df_baby['datetime'] datetime.strptime(df['starttime'],'%m/%d/%Y %H:%M')"
   ]
  },
  {
   "cell_type": "code",
   "execution_count": 155,
   "metadata": {
    "collapsed": false
   },
   "outputs": [
    {
     "ename": "ValueError",
     "evalue": "unconverted data remains: :23",
     "output_type": "error",
     "traceback": [
      "\u001b[0;31m---------------------------------------------------------------------------\u001b[0m",
      "\u001b[0;31mValueError\u001b[0m                                Traceback (most recent call last)",
      "\u001b[0;32m<ipython-input-155-053cb74bde6d>\u001b[0m in \u001b[0;36m<module>\u001b[0;34m()\u001b[0m\n\u001b[0;32m----> 1\u001b[0;31m \u001b[0mdf_baby\u001b[0m\u001b[0;34m[\u001b[0m\u001b[0;34m'starttime'\u001b[0m\u001b[0;34m]\u001b[0m\u001b[0;34m.\u001b[0m\u001b[0mmap\u001b[0m\u001b[0;34m(\u001b[0m\u001b[0;32mlambda\u001b[0m \u001b[0mx\u001b[0m\u001b[0;34m:\u001b[0m \u001b[0mdatetime\u001b[0m\u001b[0;34m.\u001b[0m\u001b[0mstrptime\u001b[0m\u001b[0;34m(\u001b[0m\u001b[0mx\u001b[0m\u001b[0;34m,\u001b[0m\u001b[0;34m'%m/%d/%Y %H:%M'\u001b[0m\u001b[0;34m)\u001b[0m\u001b[0;34m)\u001b[0m \u001b[0;31m# returns DataFrame\u001b[0m\u001b[0;34m\u001b[0m\u001b[0m\n\u001b[0m",
      "\u001b[0;32m//anaconda/lib/python3.5/site-packages/pandas/core/series.py\u001b[0m in \u001b[0;36mmap\u001b[0;34m(self, arg, na_action)\u001b[0m\n\u001b[1;32m   2173\u001b[0m             \u001b[0mnew_values\u001b[0m \u001b[0;34m=\u001b[0m \u001b[0malgos\u001b[0m\u001b[0;34m.\u001b[0m\u001b[0mtake_1d\u001b[0m\u001b[0;34m(\u001b[0m\u001b[0marg\u001b[0m\u001b[0;34m.\u001b[0m\u001b[0m_values\u001b[0m\u001b[0;34m,\u001b[0m \u001b[0mindexer\u001b[0m\u001b[0;34m)\u001b[0m\u001b[0;34m\u001b[0m\u001b[0m\n\u001b[1;32m   2174\u001b[0m         \u001b[0;32melse\u001b[0m\u001b[0;34m:\u001b[0m\u001b[0;34m\u001b[0m\u001b[0m\n\u001b[0;32m-> 2175\u001b[0;31m             \u001b[0mnew_values\u001b[0m \u001b[0;34m=\u001b[0m \u001b[0mmap_f\u001b[0m\u001b[0;34m(\u001b[0m\u001b[0mvalues\u001b[0m\u001b[0;34m,\u001b[0m \u001b[0marg\u001b[0m\u001b[0;34m)\u001b[0m\u001b[0;34m\u001b[0m\u001b[0m\n\u001b[0m\u001b[1;32m   2176\u001b[0m \u001b[0;34m\u001b[0m\u001b[0m\n\u001b[1;32m   2177\u001b[0m         return self._constructor(new_values,\n",
      "\u001b[0;32mpandas/src/inference.pyx\u001b[0m in \u001b[0;36mpandas.lib.map_infer (pandas/lib.c:63307)\u001b[0;34m()\u001b[0m\n",
      "\u001b[0;32m<ipython-input-155-053cb74bde6d>\u001b[0m in \u001b[0;36m<lambda>\u001b[0;34m(x)\u001b[0m\n\u001b[0;32m----> 1\u001b[0;31m \u001b[0mdf_baby\u001b[0m\u001b[0;34m[\u001b[0m\u001b[0;34m'starttime'\u001b[0m\u001b[0;34m]\u001b[0m\u001b[0;34m.\u001b[0m\u001b[0mmap\u001b[0m\u001b[0;34m(\u001b[0m\u001b[0;32mlambda\u001b[0m \u001b[0mx\u001b[0m\u001b[0;34m:\u001b[0m \u001b[0mdatetime\u001b[0m\u001b[0;34m.\u001b[0m\u001b[0mstrptime\u001b[0m\u001b[0;34m(\u001b[0m\u001b[0mx\u001b[0m\u001b[0;34m,\u001b[0m\u001b[0;34m'%m/%d/%Y %H:%M'\u001b[0m\u001b[0;34m)\u001b[0m\u001b[0;34m)\u001b[0m \u001b[0;31m# returns DataFrame\u001b[0m\u001b[0;34m\u001b[0m\u001b[0m\n\u001b[0m",
      "\u001b[0;32m//anaconda/lib/python3.5/_strptime.py\u001b[0m in \u001b[0;36m_strptime_datetime\u001b[0;34m(cls, data_string, format)\u001b[0m\n\u001b[1;32m    508\u001b[0m     \"\"\"Return a class cls instance based on the input string and the\n\u001b[1;32m    509\u001b[0m     format string.\"\"\"\n\u001b[0;32m--> 510\u001b[0;31m     \u001b[0mtt\u001b[0m\u001b[0;34m,\u001b[0m \u001b[0mfraction\u001b[0m \u001b[0;34m=\u001b[0m \u001b[0m_strptime\u001b[0m\u001b[0;34m(\u001b[0m\u001b[0mdata_string\u001b[0m\u001b[0;34m,\u001b[0m \u001b[0mformat\u001b[0m\u001b[0;34m)\u001b[0m\u001b[0;34m\u001b[0m\u001b[0m\n\u001b[0m\u001b[1;32m    511\u001b[0m     \u001b[0mtzname\u001b[0m\u001b[0;34m,\u001b[0m \u001b[0mgmtoff\u001b[0m \u001b[0;34m=\u001b[0m \u001b[0mtt\u001b[0m\u001b[0;34m[\u001b[0m\u001b[0;34m-\u001b[0m\u001b[0;36m2\u001b[0m\u001b[0;34m:\u001b[0m\u001b[0;34m]\u001b[0m\u001b[0;34m\u001b[0m\u001b[0m\n\u001b[1;32m    512\u001b[0m     \u001b[0margs\u001b[0m \u001b[0;34m=\u001b[0m \u001b[0mtt\u001b[0m\u001b[0;34m[\u001b[0m\u001b[0;34m:\u001b[0m\u001b[0;36m6\u001b[0m\u001b[0;34m]\u001b[0m \u001b[0;34m+\u001b[0m \u001b[0;34m(\u001b[0m\u001b[0mfraction\u001b[0m\u001b[0;34m,\u001b[0m\u001b[0;34m)\u001b[0m\u001b[0;34m\u001b[0m\u001b[0m\n",
      "\u001b[0;32m//anaconda/lib/python3.5/_strptime.py\u001b[0m in \u001b[0;36m_strptime\u001b[0;34m(data_string, format)\u001b[0m\n\u001b[1;32m    344\u001b[0m     \u001b[0;32mif\u001b[0m \u001b[0mlen\u001b[0m\u001b[0;34m(\u001b[0m\u001b[0mdata_string\u001b[0m\u001b[0;34m)\u001b[0m \u001b[0;34m!=\u001b[0m \u001b[0mfound\u001b[0m\u001b[0;34m.\u001b[0m\u001b[0mend\u001b[0m\u001b[0;34m(\u001b[0m\u001b[0;34m)\u001b[0m\u001b[0;34m:\u001b[0m\u001b[0;34m\u001b[0m\u001b[0m\n\u001b[1;32m    345\u001b[0m         raise ValueError(\"unconverted data remains: %s\" %\n\u001b[0;32m--> 346\u001b[0;31m                           data_string[found.end():])\n\u001b[0m\u001b[1;32m    347\u001b[0m \u001b[0;34m\u001b[0m\u001b[0m\n\u001b[1;32m    348\u001b[0m     \u001b[0myear\u001b[0m \u001b[0;34m=\u001b[0m \u001b[0;32mNone\u001b[0m\u001b[0;34m\u001b[0m\u001b[0m\n",
      "\u001b[0;31mValueError\u001b[0m: unconverted data remains: :23"
     ]
    }
   ],
   "source": [
    "df_baby['starttime'].map(lambda x: datetime.strptime(x,'%m/%d/%Y %H:%M')) # returns DataFrame"
   ]
  },
  {
   "cell_type": "code",
   "execution_count": 165,
   "metadata": {
    "collapsed": false
   },
   "outputs": [],
   "source": [
    "datelen = df['starttime']\n",
    "tst = list(datelen)"
   ]
  },
  {
   "cell_type": "code",
   "execution_count": 167,
   "metadata": {
    "collapsed": false
   },
   "outputs": [],
   "source": [
    "dates = []\n",
    "\n",
    "for date in tst:\n",
    "    dates.append(date.split(\" \"))\n"
   ]
  },
  {
   "cell_type": "code",
   "execution_count": 182,
   "metadata": {
    "collapsed": false
   },
   "outputs": [],
   "source": [
    "dates[0]\n",
    "secondhalf = lambda x: x[1]\n"
   ]
  },
  {
   "cell_type": "code",
   "execution_count": 188,
   "metadata": {
    "collapsed": false
   },
   "outputs": [
    {
     "name": "stdout",
     "output_type": "stream",
     "text": [
      "['0:01', '0:02', '0:04', '0:04', '0:05', '0:07', '0:07', '0:08', '0:09', '0:10', '0:10', '0:11', '0:13', '0:13', '0:14', '0:14', '0:14', '0:16', '0:17', '0:18', '0:18', '0:18', '0:19', '0:20', '0:21', '0:21', '0:21', '0:22', '0:22', '0:22', '0:23', '0:23', '0:23', '0:24', '0:25', '0:25', '0:26', '0:27', '0:27', '0:27', '0:27', '0:27', '0:27', '0:28', '0:28', '0:28', '0:28', '0:29', '0:29', '0:31', '0:32', '0:32', '0:32', '0:32', '0:32', '0:33', '0:34', '0:35', '0:35', '0:35', '0:35', '0:35', '0:35', '0:35', '0:36', '0:37', '0:37', '0:38', '0:38', '0:39', '0:39', '0:40', '0:41', '0:42', '0:42', '0:42', '0:43', '0:43', '0:43', '0:43', '0:44', '0:44', '0:44', '0:44', '0:46', '0:46', '0:46', '0:46', '0:46', '0:46', '0:47', '0:47', '0:47', '0:48', '0:48', '0:49', '0:49', '0:49', '0:49', '0:51']\n"
     ]
    }
   ],
   "source": [
    "tst4 = [ secondhalf(date) for date in dates ]\n",
    "print(tst4[:100])"
   ]
  },
  {
   "cell_type": "code",
   "execution_count": null,
   "metadata": {
    "collapsed": true
   },
   "outputs": [],
   "source": []
  },
  {
   "cell_type": "code",
   "execution_count": 192,
   "metadata": {
    "collapsed": false
   },
   "outputs": [],
   "source": [
    "tst5 = [x.split(\":\") for x in tst4]"
   ]
  },
  {
   "cell_type": "code",
   "execution_count": 194,
   "metadata": {
    "collapsed": false
   },
   "outputs": [],
   "source": [
    "tst6 = [ secondhalf(date) for date in tst5 ]\n"
   ]
  },
  {
   "cell_type": "code",
   "execution_count": 195,
   "metadata": {
    "collapsed": false
   },
   "outputs": [
    {
     "data": {
      "text/plain": [
       "9937969"
      ]
     },
     "execution_count": 195,
     "metadata": {},
     "output_type": "execute_result"
    }
   ],
   "source": [
    "tst6.count()"
   ]
  },
  {
   "cell_type": "code",
   "execution_count": 176,
   "metadata": {
    "collapsed": false
   },
   "outputs": [],
   "source": [
    "tst2 = [ lambda x: x[1][:] for x in dates ]"
   ]
  },
  {
   "cell_type": "code",
   "execution_count": 180,
   "metadata": {
    "collapsed": false
   },
   "outputs": [
    {
     "name": "stdout",
     "output_type": "stream",
     "text": [
      "[<function <listcomp>.<lambda> at 0x16361a840>, <function <listcomp>.<lambda> at 0x16361af28>, <function <listcomp>.<lambda> at 0x16361ae18>, <function <listcomp>.<lambda> at 0x11f4ca0d0>, <function <listcomp>.<lambda> at 0x11f4cabf8>, <function <listcomp>.<lambda> at 0x11f4ca840>, <function <listcomp>.<lambda> at 0x11f4ca8c8>, <function <listcomp>.<lambda> at 0x11f4ca7b8>, <function <listcomp>.<lambda> at 0x11f4caa60>, <function <listcomp>.<lambda> at 0x11f4ca9d8>, <function <listcomp>.<lambda> at 0x11f4caf28>, <function <listcomp>.<lambda> at 0x11f4cad08>, <function <listcomp>.<lambda> at 0x11f4caae8>, <function <listcomp>.<lambda> at 0x11f4cae18>, <function <listcomp>.<lambda> at 0x11f4ca950>, <function <listcomp>.<lambda> at 0x1614fe048>, <function <listcomp>.<lambda> at 0x1614fe0d0>, <function <listcomp>.<lambda> at 0x1614fe158>, <function <listcomp>.<lambda> at 0x1614fe1e0>, <function <listcomp>.<lambda> at 0x1614fe268>, <function <listcomp>.<lambda> at 0x1614fe2f0>, <function <listcomp>.<lambda> at 0x1614fe378>, <function <listcomp>.<lambda> at 0x1614fe400>, <function <listcomp>.<lambda> at 0x1614fe488>, <function <listcomp>.<lambda> at 0x1614fe510>, <function <listcomp>.<lambda> at 0x1614fe598>, <function <listcomp>.<lambda> at 0x1614fe620>, <function <listcomp>.<lambda> at 0x1614fe6a8>, <function <listcomp>.<lambda> at 0x1614fe730>, <function <listcomp>.<lambda> at 0x1614fe7b8>, <function <listcomp>.<lambda> at 0x1614fe840>, <function <listcomp>.<lambda> at 0x1614fe8c8>, <function <listcomp>.<lambda> at 0x1614fe950>, <function <listcomp>.<lambda> at 0x1614fe9d8>, <function <listcomp>.<lambda> at 0x1614fea60>, <function <listcomp>.<lambda> at 0x1614feae8>, <function <listcomp>.<lambda> at 0x1614feb70>, <function <listcomp>.<lambda> at 0x1614febf8>, <function <listcomp>.<lambda> at 0x1614fec80>, <function <listcomp>.<lambda> at 0x1614fed08>, <function <listcomp>.<lambda> at 0x1614fed90>, <function <listcomp>.<lambda> at 0x1614fee18>, <function <listcomp>.<lambda> at 0x1614feea0>, <function <listcomp>.<lambda> at 0x1614fef28>, <function <listcomp>.<lambda> at 0x359dc8048>, <function <listcomp>.<lambda> at 0x359dc80d0>, <function <listcomp>.<lambda> at 0x359dc8158>, <function <listcomp>.<lambda> at 0x359dc81e0>, <function <listcomp>.<lambda> at 0x359dc8268>, <function <listcomp>.<lambda> at 0x359dc82f0>, <function <listcomp>.<lambda> at 0x359dc8378>, <function <listcomp>.<lambda> at 0x359dc8400>, <function <listcomp>.<lambda> at 0x359dc8488>, <function <listcomp>.<lambda> at 0x359dc8510>, <function <listcomp>.<lambda> at 0x359dc8598>, <function <listcomp>.<lambda> at 0x359dc8620>, <function <listcomp>.<lambda> at 0x359dc86a8>, <function <listcomp>.<lambda> at 0x359dc8730>, <function <listcomp>.<lambda> at 0x359dc87b8>, <function <listcomp>.<lambda> at 0x359dc8840>, <function <listcomp>.<lambda> at 0x359dc88c8>, <function <listcomp>.<lambda> at 0x359dc8950>, <function <listcomp>.<lambda> at 0x359dc89d8>, <function <listcomp>.<lambda> at 0x359dc8a60>, <function <listcomp>.<lambda> at 0x359dc8ae8>, <function <listcomp>.<lambda> at 0x359dc8b70>, <function <listcomp>.<lambda> at 0x359dc8bf8>, <function <listcomp>.<lambda> at 0x359dc8c80>, <function <listcomp>.<lambda> at 0x359dc8d08>, <function <listcomp>.<lambda> at 0x359dc8d90>, <function <listcomp>.<lambda> at 0x359dc8e18>, <function <listcomp>.<lambda> at 0x359dc8ea0>, <function <listcomp>.<lambda> at 0x359dc8f28>, <function <listcomp>.<lambda> at 0x359dc9048>, <function <listcomp>.<lambda> at 0x359dc90d0>, <function <listcomp>.<lambda> at 0x359dc9158>, <function <listcomp>.<lambda> at 0x359dc91e0>, <function <listcomp>.<lambda> at 0x359dc9268>, <function <listcomp>.<lambda> at 0x359dc92f0>, <function <listcomp>.<lambda> at 0x359dc9378>, <function <listcomp>.<lambda> at 0x359dc9400>, <function <listcomp>.<lambda> at 0x359dc9488>, <function <listcomp>.<lambda> at 0x359dc9510>, <function <listcomp>.<lambda> at 0x359dc9598>, <function <listcomp>.<lambda> at 0x359dc9620>, <function <listcomp>.<lambda> at 0x359dc96a8>, <function <listcomp>.<lambda> at 0x359dc9730>, <function <listcomp>.<lambda> at 0x359dc97b8>, <function <listcomp>.<lambda> at 0x359dc9840>, <function <listcomp>.<lambda> at 0x359dc98c8>, <function <listcomp>.<lambda> at 0x359dc9950>, <function <listcomp>.<lambda> at 0x359dc99d8>, <function <listcomp>.<lambda> at 0x359dc9a60>, <function <listcomp>.<lambda> at 0x359dc9ae8>, <function <listcomp>.<lambda> at 0x359dc9b70>, <function <listcomp>.<lambda> at 0x359dc9bf8>, <function <listcomp>.<lambda> at 0x359dc9c80>, <function <listcomp>.<lambda> at 0x359dc9d08>, <function <listcomp>.<lambda> at 0x359dc9d90>, <function <listcomp>.<lambda> at 0x359dc9e18>]\n"
     ]
    }
   ],
   "source": [
    "tst3 = list(tst2)\n",
    "print(tst3[:100])"
   ]
  },
  {
   "cell_type": "code",
   "execution_count": 162,
   "metadata": {
    "collapsed": false
   },
   "outputs": [
    {
     "data": {
      "text/plain": [
       "18    4715467\n",
       "19    2039306\n",
       "17    1417669\n",
       "15     981406\n",
       "14     678261\n",
       "13     105860\n",
       "Name: starttime, dtype: int64"
      ]
     },
     "execution_count": 162,
     "metadata": {},
     "output_type": "execute_result"
    }
   ],
   "source": [
    "datelen.value_counts()"
   ]
  },
  {
   "cell_type": "code",
   "execution_count": 70,
   "metadata": {
    "collapsed": false
   },
   "outputs": [
    {
     "data": {
      "text/plain": [
       "pandas.core.series.Series"
      ]
     },
     "execution_count": 70,
     "metadata": {},
     "output_type": "execute_result"
    }
   ],
   "source": [
    "type(end_stations)"
   ]
  },
  {
   "cell_type": "code",
   "execution_count": 60,
   "metadata": {
    "collapsed": false
   },
   "outputs": [
    {
     "ename": "TypeError",
     "evalue": "unsupported operand type(s) for *: 'SeriesGroupBy' and 'int'",
     "output_type": "error",
     "traceback": [
      "\u001b[0;31m---------------------------------------------------------------------------\u001b[0m",
      "\u001b[0;31mTypeError\u001b[0m                                 Traceback (most recent call last)",
      "\u001b[0;32m<ipython-input-60-a73d5837d4fa>\u001b[0m in \u001b[0;36m<module>\u001b[0;34m()\u001b[0m\n\u001b[0;32m----> 1\u001b[0;31m \u001b[0mbikes\u001b[0m\u001b[0;34m[\u001b[0m\u001b[0;34m'test_column'\u001b[0m\u001b[0;34m]\u001b[0m \u001b[0;34m=\u001b[0m \u001b[0mbikes\u001b[0m\u001b[0;34m[\u001b[0m\u001b[0;34m'start station id'\u001b[0m\u001b[0;34m]\u001b[0m\u001b[0;34m*\u001b[0m\u001b[0;36m2\u001b[0m\u001b[0;34m\u001b[0m\u001b[0m\n\u001b[0m",
      "\u001b[0;31mTypeError\u001b[0m: unsupported operand type(s) for *: 'SeriesGroupBy' and 'int'"
     ]
    }
   ],
   "source": [
    "bikes['test_column'] = bikes['start station id']*2"
   ]
  },
  {
   "cell_type": "code",
   "execution_count": 13,
   "metadata": {
    "collapsed": false
   },
   "outputs": [],
   "source": [
    "start_stations = bikes['start station id']\n",
    "end_stations = bikes['end station id']"
   ]
  },
  {
   "cell_type": "code",
   "execution_count": 57,
   "metadata": {
    "collapsed": false
   },
   "outputs": [
    {
     "name": "stdout",
     "output_type": "stream",
     "text": [
      "<class 'numpy.int64'>\n",
      "<class 'pandas.core.series.Series'>\n",
      "<class 'numpy.int64'>\n",
      "<class 'pandas.core.series.Series'>\n",
      "<class 'numpy.int64'>\n",
      "<class 'pandas.core.series.Series'>\n"
     ]
    },
    {
     "ename": "KeyboardInterrupt",
     "evalue": "",
     "output_type": "error",
     "traceback": [
      "\u001b[0;31m---------------------------------------------------------------------------\u001b[0m",
      "\u001b[0;31mKeyboardInterrupt\u001b[0m                         Traceback (most recent call last)",
      "\u001b[0;32m<ipython-input-57-14ce1a24d7db>\u001b[0m in \u001b[0;36m<module>\u001b[0;34m()\u001b[0m\n\u001b[1;32m      2\u001b[0m     \u001b[0mprint\u001b[0m\u001b[0;34m(\u001b[0m\u001b[0mtype\u001b[0m\u001b[0;34m(\u001b[0m\u001b[0mk\u001b[0m\u001b[0;34m)\u001b[0m\u001b[0;34m)\u001b[0m\u001b[0;34m\u001b[0m\u001b[0m\n\u001b[1;32m      3\u001b[0m     \u001b[0mprint\u001b[0m\u001b[0;34m(\u001b[0m\u001b[0mtype\u001b[0m\u001b[0;34m(\u001b[0m\u001b[0mv\u001b[0m\u001b[0;34m)\u001b[0m\u001b[0;34m)\u001b[0m\u001b[0;34m\u001b[0m\u001b[0m\n\u001b[0;32m----> 4\u001b[0;31m     \u001b[0mtime\u001b[0m\u001b[0;34m.\u001b[0m\u001b[0msleep\u001b[0m\u001b[0;34m(\u001b[0m\u001b[0;36m3\u001b[0m\u001b[0;34m)\u001b[0m\u001b[0;34m\u001b[0m\u001b[0m\n\u001b[0m",
      "\u001b[0;31mKeyboardInterrupt\u001b[0m: "
     ]
    }
   ],
   "source": [
    "for k,v in start_stations:\n",
    "    print(type(k))\n",
    "    print(type(v))\n",
    "    time.sleep(3)"
   ]
  },
  {
   "cell_type": "code",
   "execution_count": 22,
   "metadata": {
    "collapsed": false
   },
   "outputs": [
    {
     "name": "stdout",
     "output_type": "stream",
     "text": [
      "14529\n",
      "1233\n",
      "14530\n",
      "588\n",
      "14531\n",
      "1081\n",
      "14532\n",
      "1088\n",
      "14533\n",
      "1326\n",
      "14534\n",
      "1308\n"
     ]
    },
    {
     "ename": "KeyboardInterrupt",
     "evalue": "",
     "output_type": "error",
     "traceback": [
      "\u001b[0;31m---------------------------------------------------------------------------\u001b[0m",
      "\u001b[0;31mKeyboardInterrupt\u001b[0m                         Traceback (most recent call last)",
      "\u001b[0;32m<ipython-input-22-35612a465a6a>\u001b[0m in \u001b[0;36m<module>\u001b[0;34m()\u001b[0m\n\u001b[1;32m      2\u001b[0m     \u001b[0mprint\u001b[0m\u001b[0;34m(\u001b[0m\u001b[0mk\u001b[0m\u001b[0;34m)\u001b[0m\u001b[0;34m\u001b[0m\u001b[0m\n\u001b[1;32m      3\u001b[0m     \u001b[0mprint\u001b[0m\u001b[0;34m(\u001b[0m\u001b[0mlen\u001b[0m\u001b[0;34m(\u001b[0m\u001b[0mv\u001b[0m\u001b[0;34m)\u001b[0m\u001b[0;34m)\u001b[0m\u001b[0;34m\u001b[0m\u001b[0m\n\u001b[0;32m----> 4\u001b[0;31m     \u001b[0mtime\u001b[0m\u001b[0;34m.\u001b[0m\u001b[0msleep\u001b[0m\u001b[0;34m(\u001b[0m\u001b[0;36m3\u001b[0m\u001b[0;34m)\u001b[0m\u001b[0;34m\u001b[0m\u001b[0m\n\u001b[0m",
      "\u001b[0;31mKeyboardInterrupt\u001b[0m: "
     ]
    }
   ],
   "source": [
    "for k,v in start_stations:\n",
    "    print(k)\n",
    "    print(len(v))\n",
    "    time.sleep(3)"
   ]
  },
  {
   "cell_type": "code",
   "execution_count": 43,
   "metadata": {
    "collapsed": false
   },
   "outputs": [
    {
     "data": {
      "text/plain": [
       "1524        326\n",
       "1793        497\n",
       "5715        496\n",
       "8123        195\n",
       "8360        250\n",
       "8642        358\n",
       "8812        435\n",
       "9156        466\n",
       "29006       362\n",
       "40268       456\n",
       "41290       498\n",
       "42450       474\n",
       "46917       478\n",
       "49233       520\n",
       "52693       379\n",
       "64762       468\n",
       "66571       465\n",
       "69884       348\n",
       "70780       128\n",
       "71709       508\n",
       "74789       362\n",
       "74959       167\n",
       "92747       465\n",
       "93800       359\n",
       "94762       479\n",
       "95286       512\n",
       "95408       489\n",
       "95589       515\n",
       "95984       434\n",
       "97689       357\n",
       "           ... \n",
       "9673414     499\n",
       "9673468     499\n",
       "9683359     503\n",
       "9691099     505\n",
       "9702844     510\n",
       "9704054     511\n",
       "9704064     511\n",
       "9710968     513\n",
       "9718734     517\n",
       "9721447     517\n",
       "9727077     519\n",
       "9732240     519\n",
       "9738998     521\n",
       "9740958     521\n",
       "9742686     522\n",
       "9748180     523\n",
       "9767093     531\n",
       "9771969     533\n",
       "9775500     536\n",
       "9778113     537\n",
       "9785418     540\n",
       "9786726     545\n",
       "9856904    3134\n",
       "9860888    3137\n",
       "9860914    3137\n",
       "9862644    3139\n",
       "9891913    3160\n",
       "9904603    3168\n",
       "9912224    3175\n",
       "9926818    3230\n",
       "Name: start station id, dtype: int64"
      ]
     },
     "execution_count": 43,
     "metadata": {},
     "output_type": "execute_result"
    }
   ],
   "source": [
    "list(start_stations)[0][1]"
   ]
  },
  {
   "cell_type": "code",
   "execution_count": 47,
   "metadata": {
    "collapsed": false
   },
   "outputs": [
    {
     "data": {
      "text/plain": [
       "array([ 326,  497,  496,  195,  250,  358,  435,  466,  362,  456,  498,\n",
       "        474,  478,  520,  379,  468,  465,  348,  128,  508,  167,  359,\n",
       "        479,  512,  489,  515,  434,  357,  469,  490,  352, 2022,  447,\n",
       "        495,  237,  402,  280,  342,  531,  296,  249,  540,  476,  393,\n",
       "        300,  336, 2010,  368,  463,  127,  382,  223,  293,  403,  317,\n",
       "        151,  238,  477,  526,  488,  380,  455,  267,  513,  404,  327,\n",
       "        521,  533,  507,  236,  325,  459,  426,  347,  294,  523,  546,\n",
       "        445,  517,  537,  464,  433,  312,  518,  164,  538,  458,  530,\n",
       "        328,  318, 2006,  499,  461,  334,  264,  504,  411,  301,  491,\n",
       "        511, 2012,  501,  522,  510,  441,  485,  305,  480,  484,  446,\n",
       "       2021,  310,  406,  376,  146,  408,  505,  375,  536,  525,  448,\n",
       "        259,  400,  303,  152,  306,  276,  316,  415,  279, 2004,  252,\n",
       "        503,  516,  308,  363,  346,  383,  492,  487,  168,  527,  509,\n",
       "        483,  297,  438,  401,  356,  229,   79,  268,  355,  254,  337,\n",
       "        423,  524,  153,  290,  405,  369,  432,  442,  519,  367, 2023,\n",
       "        281,  248,  345,  284,  265,  481,  414,  261,  217,  239,  419,\n",
       "        143, 2002,  262,  243,  295,  439,  329,  444, 2008,  450,  500,\n",
       "        228,  472,  147,  364,  418, 2009,   82,  387,  321,  225,  427,\n",
       "        431,  420,  270,  271,  514,  422,  224,  247,  529,  161,  532,\n",
       "        282,  430, 2000,  386,  528,  475,  253,  462,  428,  534,  116,\n",
       "        263,  412,  332,  311,  545,  285,  486,  251,  453,  340,  351,\n",
       "        417,  377,  174,  440,  335,  473,  366,  372,  436,  353,  409,\n",
       "        330,  449,  494,  150,  502,  388,  307,  339,  493,  173, 2003,\n",
       "       3002,  349,  457,  304,  324,  314,  390,  539,  460,  160,  302,\n",
       "        212,  323,  157,  416,  394,  315,  360,  320,   83,  350,  257,\n",
       "        331,  361,  385, 3129, 3124, 3127, 3104,  144,  392,  471, 3108,\n",
       "        482,  137, 3169, 3136, 3149,  233,  391, 3148, 3156, 3230,  470,\n",
       "        319, 3175,  384,  399,  313,  278, 3143, 3146, 3172, 3167, 3164,\n",
       "       3158, 3170, 3165,  341, 3137, 3168, 3122, 3119, 3126, 3111, 3078,\n",
       "        389, 3092,  218,  407,  467, 3141,  343,  398, 3134, 3139, 3160])"
      ]
     },
     "execution_count": 47,
     "metadata": {},
     "output_type": "execute_result"
    }
   ],
   "source": [
    "bikes.get_group(14529)['start station id'].unique()"
   ]
  },
  {
   "cell_type": "code",
   "execution_count": 39,
   "metadata": {
    "collapsed": false
   },
   "outputs": [
    {
     "ename": "Exception",
     "evalue": "Column(s) start station id already selected",
     "output_type": "error",
     "traceback": [
      "\u001b[0;31m---------------------------------------------------------------------------\u001b[0m",
      "\u001b[0;31mException\u001b[0m                                 Traceback (most recent call last)",
      "\u001b[0;32m<ipython-input-39-dfce91b674c6>\u001b[0m in \u001b[0;36m<module>\u001b[0;34m()\u001b[0m\n\u001b[0;32m----> 1\u001b[0;31m \u001b[0mstart_groups\u001b[0m \u001b[0;34m=\u001b[0m \u001b[0mstart_stations\u001b[0m\u001b[0;34m[\u001b[0m\u001b[0;34m:\u001b[0m\u001b[0;34m]\u001b[0m\u001b[0;34m[\u001b[0m\u001b[0;36m1\u001b[0m\u001b[0;34m]\u001b[0m\u001b[0;34m.\u001b[0m\u001b[0mgroups\u001b[0m\u001b[0;34m\u001b[0m\u001b[0m\n\u001b[0m",
      "\u001b[0;32m//anaconda/lib/python3.5/site-packages/pandas/core/base.py\u001b[0m in \u001b[0;36m__getitem__\u001b[0;34m(self, key)\u001b[0m\n\u001b[1;32m    328\u001b[0m     \u001b[0;32mdef\u001b[0m \u001b[0m__getitem__\u001b[0m\u001b[0;34m(\u001b[0m\u001b[0mself\u001b[0m\u001b[0;34m,\u001b[0m \u001b[0mkey\u001b[0m\u001b[0;34m)\u001b[0m\u001b[0;34m:\u001b[0m\u001b[0;34m\u001b[0m\u001b[0m\n\u001b[1;32m    329\u001b[0m         \u001b[0;32mif\u001b[0m \u001b[0mself\u001b[0m\u001b[0;34m.\u001b[0m\u001b[0m_selection\u001b[0m \u001b[0;32mis\u001b[0m \u001b[0;32mnot\u001b[0m \u001b[0;32mNone\u001b[0m\u001b[0;34m:\u001b[0m\u001b[0;34m\u001b[0m\u001b[0m\n\u001b[0;32m--> 330\u001b[0;31m             \u001b[0;32mraise\u001b[0m \u001b[0mException\u001b[0m\u001b[0;34m(\u001b[0m\u001b[0;34m'Column(s) %s already selected'\u001b[0m \u001b[0;34m%\u001b[0m \u001b[0mself\u001b[0m\u001b[0;34m.\u001b[0m\u001b[0m_selection\u001b[0m\u001b[0;34m)\u001b[0m\u001b[0;34m\u001b[0m\u001b[0m\n\u001b[0m\u001b[1;32m    331\u001b[0m \u001b[0;34m\u001b[0m\u001b[0m\n\u001b[1;32m    332\u001b[0m         if isinstance(key, (list, tuple, ABCSeries, ABCIndexClass,\n",
      "\u001b[0;31mException\u001b[0m: Column(s) start station id already selected"
     ]
    }
   ],
   "source": [
    "start_groups = start_stations[:][1].groups"
   ]
  },
  {
   "cell_type": "code",
   "execution_count": 28,
   "metadata": {
    "collapsed": false
   },
   "outputs": [
    {
     "name": "stdout",
     "output_type": "stream",
     "text": [
      "16384\n",
      "Int64Index([ 310666,  310792,  310827,  311876,  311957,  312174,  312284,\n",
      "             317817,  327540,  329184,\n",
      "            ...\n",
      "            9871878, 9876316, 9887862, 9891524, 9894988, 9900518, 9901120,\n",
      "            9918194, 9926187, 9929251],\n",
      "           dtype='int64', length=1261)\n",
      "16385\n",
      "Int64Index([  57492,   57562,   59694,   60688,   63911,   64175,   67342,\n",
      "              70718,  150859,  154102,\n",
      "            ...\n",
      "            9864457, 9864462, 9867593, 9873595, 9878460, 9881575, 9907128,\n",
      "            9909383, 9918169, 9933977],\n",
      "           dtype='int64', length=980)\n"
     ]
    },
    {
     "ename": "KeyboardInterrupt",
     "evalue": "",
     "output_type": "error",
     "traceback": [
      "\u001b[0;31m---------------------------------------------------------------------------\u001b[0m",
      "\u001b[0;31mKeyboardInterrupt\u001b[0m                         Traceback (most recent call last)",
      "\u001b[0;32m<ipython-input-28-960a32fb96e8>\u001b[0m in \u001b[0;36m<module>\u001b[0;34m()\u001b[0m\n\u001b[1;32m      2\u001b[0m     \u001b[0mprint\u001b[0m\u001b[0;34m(\u001b[0m\u001b[0mk\u001b[0m\u001b[0;34m)\u001b[0m\u001b[0;34m\u001b[0m\u001b[0m\n\u001b[1;32m      3\u001b[0m     \u001b[0mprint\u001b[0m\u001b[0;34m(\u001b[0m\u001b[0mv\u001b[0m\u001b[0;34m)\u001b[0m\u001b[0;34m\u001b[0m\u001b[0m\n\u001b[0;32m----> 4\u001b[0;31m     \u001b[0mtime\u001b[0m\u001b[0;34m.\u001b[0m\u001b[0msleep\u001b[0m\u001b[0;34m(\u001b[0m\u001b[0;36m3\u001b[0m\u001b[0;34m)\u001b[0m\u001b[0;34m\u001b[0m\u001b[0m\n\u001b[0m",
      "\u001b[0;31mKeyboardInterrupt\u001b[0m: "
     ]
    }
   ],
   "source": [
    "for k,v in start_groups.items():\n",
    "    print(k)\n",
    "    print(v)\n",
    "    time.sleep(3)"
   ]
  },
  {
   "cell_type": "code",
   "execution_count": 25,
   "metadata": {
    "collapsed": false
   },
   "outputs": [
    {
     "data": {
      "text/plain": [
       "8477"
      ]
     },
     "execution_count": 25,
     "metadata": {},
     "output_type": "execute_result"
    }
   ],
   "source": [
    "len(start_groups.keys())"
   ]
  },
  {
   "cell_type": "code",
   "execution_count": null,
   "metadata": {
    "collapsed": true
   },
   "outputs": [],
   "source": []
  }
 ],
 "metadata": {
  "kernelspec": {
   "display_name": "Python 3",
   "language": "python",
   "name": "python3"
  },
  "language_info": {
   "codemirror_mode": {
    "name": "ipython",
    "version": 3
   },
   "file_extension": ".py",
   "mimetype": "text/x-python",
   "name": "python",
   "nbconvert_exporter": "python",
   "pygments_lexer": "ipython3",
   "version": "3.5.2"
  }
 },
 "nbformat": 4,
 "nbformat_minor": 0
}
